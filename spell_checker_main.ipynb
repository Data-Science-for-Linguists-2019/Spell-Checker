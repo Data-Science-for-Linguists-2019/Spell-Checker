{
 "cells": [
  {
   "cell_type": "markdown",
   "metadata": {},
   "source": [
    "# Spell Checker\n",
    "\n",
    "#### Ting-Wei Shen, tis50@pitt.edu, Feb 20, 2019"
   ]
  },
  {
   "cell_type": "code",
   "execution_count": 12,
   "metadata": {},
   "outputs": [],
   "source": [
    "import nltk\n",
    "from nltk.corpus import PlaintextCorpusReader\n",
    "import pandas as pd\n",
    "import numpy as np"
   ]
  },
  {
   "cell_type": "markdown",
   "metadata": {},
   "source": [
    "## Loading the Data\n",
    "\n",
    "#### By using nltk to help me processing the data."
   ]
  },
  {
   "cell_type": "code",
   "execution_count": 13,
   "metadata": {},
   "outputs": [],
   "source": [
    "corpus_root = './data/'\n",
    "mlkcor = PlaintextCorpusReader(corpus_root, '.*txt')"
   ]
  },
  {
   "cell_type": "code",
   "execution_count": 14,
   "metadata": {},
   "outputs": [],
   "source": [
    "mtoks = [w.lower() for w in mlkcor.words()]\n",
    "mtokfd = nltk.FreqDist(mtoks)\n",
    "m2grams = list(nltk.ngrams(mtoks, 2))\n",
    "m2gramfd = nltk.FreqDist(m2grams)"
   ]
  },
  {
   "cell_type": "code",
   "execution_count": 19,
   "metadata": {},
   "outputs": [
    {
     "data": {
      "text/plain": [
       "['Alices_Adventures_in_Wonderland_by_Lewis_Carroll.txt',\n",
       " 'Anna_Karenina_by_Leo_Tolstoy.txt',\n",
       " 'David_Copperfield_by_Charles_Dickens.txt',\n",
       " 'Don_Quixote_by_Miguel_de_Cervantes.txt',\n",
       " 'Dracula_by_Bram_Stoker.txt',\n",
       " 'Emma_by_Jane_Austen.txt',\n",
       " 'Frankenstein_by_Mary_Shelley.txt',\n",
       " 'Great_Expectations_by_Charles_Dickens.txt',\n",
       " 'Grimms_Fairy_Tales_by_The_Brothers_Grimm.txt',\n",
       " 'Metamorphosis_by_Franz_Kafka.txt',\n",
       " 'Oliver_Twist_by_Charles_Dickens.txt',\n",
       " 'Pride_and_Prejudice_by_Jane_Austen.txt',\n",
       " 'The_Adventures_of_Sherlock_Holmes_by_Arthur_Conan_Doyle.txt',\n",
       " 'The_Adventures_of_Tom_Sawyer_by_Mark_Twain.txt',\n",
       " 'The_Count_of_Monte_Cristo_by_Alexandre_Dumas.txt',\n",
       " 'The_Picture_of_Dorian_Gray_by_Oscar_Wilde.txt',\n",
       " 'The_Prince_by_Nicolo_Machiavelli.txt',\n",
       " 'The_Romance_of_Lust_by_Anonymous.txt',\n",
       " 'The_Yellow_Wallpaper_by_Charlotte_Perkins_Gilman.txt',\n",
       " 'Through_the_Looking_Glass_by_Lewis_Carroll.txt']"
      ]
     },
     "execution_count": 19,
     "metadata": {},
     "output_type": "execute_result"
    }
   ],
   "source": [
    "mlkcor.fileids()"
   ]
  },
  {
   "cell_type": "code",
   "execution_count": 20,
   "metadata": {},
   "outputs": [
    {
     "name": "stdout",
     "output_type": "stream",
     "text": [
      "Alices_Adventures_in_Wonderland_by_Lewis_Carroll.txt has 37861 tokens.\n",
      "Anna_Karenina_by_Leo_Tolstoy.txt has 433609 tokens.\n",
      "David_Copperfield_by_Charles_Dickens.txt has 448118 tokens.\n",
      "Don_Quixote_by_Miguel_de_Cervantes.txt has 497782 tokens.\n",
      "Dracula_by_Bram_Stoker.txt has 196321 tokens.\n",
      "Emma_by_Jane_Austen.txt has 196091 tokens.\n",
      "Frankenstein_by_Mary_Shelley.txt has 89381 tokens.\n",
      "Great_Expectations_by_Charles_Dickens.txt has 230279 tokens.\n",
      "Grimms_Fairy_Tales_by_The_Brothers_Grimm.txt has 124555 tokens.\n",
      "Metamorphosis_by_Franz_Kafka.txt has 29080 tokens.\n",
      "Oliver_Twist_by_Charles_Dickens.txt has 204966 tokens.\n",
      "Pride_and_Prejudice_by_Jane_Austen.txt has 147764 tokens.\n",
      "The_Adventures_of_Sherlock_Holmes_by_Arthur_Conan_Doyle.txt has 129459 tokens.\n",
      "The_Adventures_of_Tom_Sawyer_by_Mark_Twain.txt has 94521 tokens.\n",
      "The_Count_of_Monte_Cristo_by_Alexandre_Dumas.txt has 573731 tokens.\n",
      "The_Picture_of_Dorian_Gray_by_Oscar_Wilde.txt has 99457 tokens.\n",
      "The_Prince_by_Nicolo_Machiavelli.txt has 59953 tokens.\n",
      "The_Romance_of_Lust_by_Anonymous.txt has 222429 tokens.\n",
      "The_Yellow_Wallpaper_by_Charlotte_Perkins_Gilman.txt has 11005 tokens.\n",
      "Through_the_Looking_Glass_by_Lewis_Carroll.txt has 11005 tokens.\n"
     ]
    }
   ],
   "source": [
    "for f in mlkcor.fileids():\n",
    "    print(f, 'has', len(mlkcor.words(f)), 'tokens.')"
   ]
  },
  {
   "cell_type": "markdown",
   "metadata": {},
   "source": [
    "### How big is the corpus?"
   ]
  },
  {
   "cell_type": "code",
   "execution_count": 21,
   "metadata": {},
   "outputs": [
    {
     "data": {
      "text/plain": [
       "3837367"
      ]
     },
     "execution_count": 21,
     "metadata": {},
     "output_type": "execute_result"
    }
   ],
   "source": [
    "len(mtoks)"
   ]
  },
  {
   "cell_type": "code",
   "execution_count": null,
   "metadata": {},
   "outputs": [],
   "source": []
  },
  {
   "cell_type": "code",
   "execution_count": 2,
   "metadata": {},
   "outputs": [],
   "source": [
    "def load_book(path):\n",
    "    \"\"\"Load a book from its file\"\"\"\n",
    "    input_file = os.path.join(path)\n",
    "    with open(input_file) as f:\n",
    "        book = f.read()\n",
    "    return book"
   ]
  },
  {
   "cell_type": "code",
   "execution_count": 3,
   "metadata": {},
   "outputs": [],
   "source": [
    "# Collect all of the book file names\n",
    "path = './data/'\n",
    "book_files = [f for f in listdir(path) if isfile(join(path, f))]\n",
    "book_files = book_files[1:]"
   ]
  },
  {
   "cell_type": "code",
   "execution_count": 4,
   "metadata": {},
   "outputs": [],
   "source": [
    "# Load the books using the file names\n",
    "books = []\n",
    "for book in book_files:\n",
    "    books.append(load_book(path+book))"
   ]
  },
  {
   "cell_type": "code",
   "execution_count": 5,
   "metadata": {},
   "outputs": [
    {
     "name": "stdout",
     "output_type": "stream",
     "text": [
      "There are 124592 words in Pride_and_Prejudice_by_Jane_Austen.txt.\n",
      "There are 357847 words in David_Copperfield_by_Charles_Dickens.txt.\n",
      "There are 191974 words in The_Romance_of_Lust_by_Anonymous.txt.\n",
      "There are 25186 words in Metamorphosis_by_Franz_Kafka.txt.\n",
      "There are 161009 words in Oliver_Twist_by_Charles_Dickens.txt.\n",
      "There are 187425 words in Great_Expectations_by_Charles_Dickens.txt.\n",
      "There are 52636 words in The_Prince_by_Nicolo_Machiavelli.txt.\n",
      "There are 73841 words in The_Adventures_of_Tom_Sawyer_by_Mark_Twain.txt.\n",
      "There are 464222 words in The_Count_of_Monte_Cristo_by_Alexandre_Dumas.txt.\n",
      "There are 78098 words in Frankenstein_by_Mary_Shelley.txt.\n",
      "There are 9103 words in Through_the_Looking_Glass_by_Lewis_Carroll.txt.\n",
      "There are 164424 words in Dracula_by_Bram_Stoker.txt.\n",
      "There are 9103 words in The_Yellow_Wallpaper_by_Charlotte_Perkins_Gilman.txt.\n",
      "There are 160458 words in Emma_by_Jane_Austen.txt.\n",
      "There are 29465 words in Alices_Adventures_in_Wonderland_by_Lewis_Carroll.txt.\n",
      "There are 81980 words in The_Picture_of_Dorian_Gray_by_Oscar_Wilde.txt.\n",
      "There are 104148 words in Grimms_Fairy_Tales_by_The_Brothers_Grimm.txt.\n",
      "There are 428919 words in Don_Quixote_by_Miguel_de_Cervantes.txt.\n",
      "There are 352844 words in Anna_Karenina_by_Leo_Tolstoy.txt.\n"
     ]
    }
   ],
   "source": [
    "# Compare the number of words in each book \n",
    "for i in range(len(books)):\n",
    "    print(\"There are {} words in {}.\".format(len(books[i].split()), book_files[i]))"
   ]
  },
  {
   "cell_type": "code",
   "execution_count": 6,
   "metadata": {},
   "outputs": [
    {
     "data": {
      "text/plain": [
       "'\\ufeffThe Project Gutenberg EBook of Pride and Prejudice, by Jane Austen\\n\\nThis eBook is for the use of anyone anywhere at no cost and with\\nalmost no restrictions whatsoever.  You may copy it, give it away or\\nre-use it under the terms of the Project Gutenberg License included\\nwith this eBook or online at www.gutenberg.org\\n\\n\\nTitle: Pride and Prejudice\\n\\nAuthor: Jane Austen\\n\\nPosting Date: August 26, 2008 [EBook #1342]\\nRelease Date: June, 1998\\nLast Updated: March 10, 2018\\n\\nLanguage: English\\n\\nCharacter set'"
      ]
     },
     "execution_count": 6,
     "metadata": {},
     "output_type": "execute_result"
    }
   ],
   "source": [
    "# Check to ensure the text looks alright\n",
    "books[0][:500]"
   ]
  },
  {
   "cell_type": "code",
   "execution_count": 7,
   "metadata": {},
   "outputs": [
    {
     "data": {
      "text/plain": [
       "'\\ufeffThe Project Gutenberg EBook of David Copperfield, by Charles Dickens\\n\\nThis eBook is for the use of anyone anywhere at no cost and with\\nalmost no restrictions whatsoever.  You may copy it, give it away or\\nre-use it under the terms of the Project Gutenberg License included\\nwith this eBook or online at www.gutenberg.org\\n\\n\\nTitle: David Copperfield\\n\\nAuthor: Charles Dickens\\n\\nRelease Date: December, 1996  [Etext #766]\\nPosting Date: November 24, 2009\\nLast Updated: September 25, 2016\\n\\nLanguage: English\\n'"
      ]
     },
     "execution_count": 7,
     "metadata": {},
     "output_type": "execute_result"
    }
   ],
   "source": [
    "# Check to ensure the text looks alright\n",
    "books[1][:500]"
   ]
  },
  {
   "cell_type": "code",
   "execution_count": null,
   "metadata": {},
   "outputs": [],
   "source": []
  },
  {
   "cell_type": "code",
   "execution_count": null,
   "metadata": {},
   "outputs": [],
   "source": []
  },
  {
   "cell_type": "code",
   "execution_count": null,
   "metadata": {},
   "outputs": [],
   "source": []
  },
  {
   "cell_type": "code",
   "execution_count": null,
   "metadata": {},
   "outputs": [],
   "source": []
  },
  {
   "cell_type": "code",
   "execution_count": null,
   "metadata": {},
   "outputs": [],
   "source": []
  },
  {
   "cell_type": "code",
   "execution_count": null,
   "metadata": {},
   "outputs": [],
   "source": []
  }
 ],
 "metadata": {
  "kernelspec": {
   "display_name": "Python 3",
   "language": "python",
   "name": "python3"
  },
  "language_info": {
   "codemirror_mode": {
    "name": "ipython",
    "version": 3
   },
   "file_extension": ".py",
   "mimetype": "text/x-python",
   "name": "python",
   "nbconvert_exporter": "python",
   "pygments_lexer": "ipython3",
   "version": "3.6.8"
  }
 },
 "nbformat": 4,
 "nbformat_minor": 2
}
