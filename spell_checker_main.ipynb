{
 "cells": [
  {
   "cell_type": "markdown",
   "metadata": {},
   "source": [
    "# Spell Checker\n",
    "\n",
    "#### Ting-Wei Shen, tis50@pitt.edu, Feb 20, 2019"
   ]
  },
  {
   "cell_type": "markdown",
   "metadata": {},
   "source": [
    "### Overview\n",
    "\n",
    "I choose the data from The Project Gutenberg website because their copyrights have expired. For my project goal, I plan to design a spell checker, so I will choose some material with high quality context as my training data.\n",
    "\n"
   ]
  },
  {
   "cell_type": "code",
   "execution_count": 1,
   "metadata": {},
   "outputs": [],
   "source": [
    "import nltk\n",
    "from nltk.corpus import PlaintextCorpusReader\n",
    "import pandas as pd\n",
    "import numpy as np\n",
    "import re"
   ]
  },
  {
   "cell_type": "code",
   "execution_count": 2,
   "metadata": {},
   "outputs": [
    {
     "name": "stdout",
     "output_type": "stream",
     "text": [
      "Pretty printing has been turned OFF\n"
     ]
    }
   ],
   "source": [
    "%pprint()"
   ]
  },
  {
   "cell_type": "markdown",
   "metadata": {},
   "source": [
    "## Loading Data\n",
    "\n",
    "#### By using nltk to help me processing the data."
   ]
  },
  {
   "cell_type": "code",
   "execution_count": 3,
   "metadata": {},
   "outputs": [],
   "source": [
    "corpus_root = './data/'\n",
    "mlkcor = PlaintextCorpusReader(corpus_root, '.*txt')"
   ]
  },
  {
   "cell_type": "code",
   "execution_count": 4,
   "metadata": {},
   "outputs": [],
   "source": [
    "mtoks = [w.lower() for w in mlkcor.words()]\n",
    "mtokfd = nltk.FreqDist(mtoks)"
   ]
  },
  {
   "cell_type": "markdown",
   "metadata": {},
   "source": [
    "## Basic stats on my data"
   ]
  },
  {
   "cell_type": "markdown",
   "metadata": {},
   "source": [
    "#### How big is the corpus?"
   ]
  },
  {
   "cell_type": "code",
   "execution_count": 5,
   "metadata": {},
   "outputs": [
    {
     "data": {
      "text/plain": [
       "3837367"
      ]
     },
     "execution_count": 5,
     "metadata": {},
     "output_type": "execute_result"
    }
   ],
   "source": [
    "len(mtoks)"
   ]
  },
  {
   "cell_type": "markdown",
   "metadata": {},
   "source": [
    "#### Look at the files"
   ]
  },
  {
   "cell_type": "code",
   "execution_count": 6,
   "metadata": {},
   "outputs": [
    {
     "data": {
      "text/plain": [
       "['Alices_Adventures_in_Wonderland_by_Lewis_Carroll.txt', 'Anna_Karenina_by_Leo_Tolstoy.txt', 'David_Copperfield_by_Charles_Dickens.txt', 'Don_Quixote_by_Miguel_de_Cervantes.txt', 'Dracula_by_Bram_Stoker.txt', 'Emma_by_Jane_Austen.txt', 'Frankenstein_by_Mary_Shelley.txt', 'Great_Expectations_by_Charles_Dickens.txt', 'Grimms_Fairy_Tales_by_The_Brothers_Grimm.txt', 'Metamorphosis_by_Franz_Kafka.txt', 'Oliver_Twist_by_Charles_Dickens.txt', 'Pride_and_Prejudice_by_Jane_Austen.txt', 'The_Adventures_of_Sherlock_Holmes_by_Arthur_Conan_Doyle.txt', 'The_Adventures_of_Tom_Sawyer_by_Mark_Twain.txt', 'The_Count_of_Monte_Cristo_by_Alexandre_Dumas.txt', 'The_Picture_of_Dorian_Gray_by_Oscar_Wilde.txt', 'The_Prince_by_Nicolo_Machiavelli.txt', 'The_Romance_of_Lust_by_Anonymous.txt', 'The_Yellow_Wallpaper_by_Charlotte_Perkins_Gilman.txt', 'Through_the_Looking_Glass_by_Lewis_Carroll.txt']"
      ]
     },
     "execution_count": 6,
     "metadata": {},
     "output_type": "execute_result"
    }
   ],
   "source": [
    "mlkcor.fileids()"
   ]
  },
  {
   "cell_type": "code",
   "execution_count": 7,
   "metadata": {},
   "outputs": [
    {
     "name": "stdout",
     "output_type": "stream",
     "text": [
      "Alices_Adventures_in_Wonderland_by_Lewis_Carroll.txt has 37861 tokens.\n",
      "Anna_Karenina_by_Leo_Tolstoy.txt has 433609 tokens.\n",
      "David_Copperfield_by_Charles_Dickens.txt has 448118 tokens.\n",
      "Don_Quixote_by_Miguel_de_Cervantes.txt has 497782 tokens.\n",
      "Dracula_by_Bram_Stoker.txt has 196321 tokens.\n",
      "Emma_by_Jane_Austen.txt has 196091 tokens.\n",
      "Frankenstein_by_Mary_Shelley.txt has 89381 tokens.\n",
      "Great_Expectations_by_Charles_Dickens.txt has 230279 tokens.\n",
      "Grimms_Fairy_Tales_by_The_Brothers_Grimm.txt has 124555 tokens.\n",
      "Metamorphosis_by_Franz_Kafka.txt has 29080 tokens.\n",
      "Oliver_Twist_by_Charles_Dickens.txt has 204966 tokens.\n",
      "Pride_and_Prejudice_by_Jane_Austen.txt has 147764 tokens.\n",
      "The_Adventures_of_Sherlock_Holmes_by_Arthur_Conan_Doyle.txt has 129459 tokens.\n",
      "The_Adventures_of_Tom_Sawyer_by_Mark_Twain.txt has 94521 tokens.\n",
      "The_Count_of_Monte_Cristo_by_Alexandre_Dumas.txt has 573731 tokens.\n",
      "The_Picture_of_Dorian_Gray_by_Oscar_Wilde.txt has 99457 tokens.\n",
      "The_Prince_by_Nicolo_Machiavelli.txt has 59953 tokens.\n",
      "The_Romance_of_Lust_by_Anonymous.txt has 222429 tokens.\n",
      "The_Yellow_Wallpaper_by_Charlotte_Perkins_Gilman.txt has 11005 tokens.\n",
      "Through_the_Looking_Glass_by_Lewis_Carroll.txt has 11005 tokens.\n"
     ]
    }
   ],
   "source": [
    "for f in mlkcor.fileids():\n",
    "    print(f, 'has', len(mlkcor.words(f)), 'tokens.')"
   ]
  },
  {
   "cell_type": "code",
   "execution_count": 8,
   "metadata": {},
   "outputs": [],
   "source": [
    "DataSet = pd.DataFrame()\n",
    "\n",
    "DataSet['filename'] = [f[:-4] for f in mlkcor.fileids()]\n",
    "DataSet['tokens'] = [len(mlkcor.words(f)) for f in mlkcor.fileids()]\n"
   ]
  },
  {
   "cell_type": "code",
   "execution_count": 9,
   "metadata": {},
   "outputs": [
    {
     "data": {
      "text/html": [
       "<div>\n",
       "<style scoped>\n",
       "    .dataframe tbody tr th:only-of-type {\n",
       "        vertical-align: middle;\n",
       "    }\n",
       "\n",
       "    .dataframe tbody tr th {\n",
       "        vertical-align: top;\n",
       "    }\n",
       "\n",
       "    .dataframe thead th {\n",
       "        text-align: right;\n",
       "    }\n",
       "</style>\n",
       "<table border=\"1\" class=\"dataframe\">\n",
       "  <thead>\n",
       "    <tr style=\"text-align: right;\">\n",
       "      <th></th>\n",
       "      <th>filename</th>\n",
       "      <th>tokens</th>\n",
       "    </tr>\n",
       "  </thead>\n",
       "  <tbody>\n",
       "    <tr>\n",
       "      <th>0</th>\n",
       "      <td>Alices_Adventures_in_Wonderland_by_Lewis_Carroll</td>\n",
       "      <td>37861</td>\n",
       "    </tr>\n",
       "    <tr>\n",
       "      <th>1</th>\n",
       "      <td>Anna_Karenina_by_Leo_Tolstoy</td>\n",
       "      <td>433609</td>\n",
       "    </tr>\n",
       "    <tr>\n",
       "      <th>2</th>\n",
       "      <td>David_Copperfield_by_Charles_Dickens</td>\n",
       "      <td>448118</td>\n",
       "    </tr>\n",
       "    <tr>\n",
       "      <th>3</th>\n",
       "      <td>Don_Quixote_by_Miguel_de_Cervantes</td>\n",
       "      <td>497782</td>\n",
       "    </tr>\n",
       "    <tr>\n",
       "      <th>4</th>\n",
       "      <td>Dracula_by_Bram_Stoker</td>\n",
       "      <td>196321</td>\n",
       "    </tr>\n",
       "  </tbody>\n",
       "</table>\n",
       "</div>"
      ],
      "text/plain": [
       "                                           filename  tokens\n",
       "0  Alices_Adventures_in_Wonderland_by_Lewis_Carroll   37861\n",
       "1                      Anna_Karenina_by_Leo_Tolstoy  433609\n",
       "2              David_Copperfield_by_Charles_Dickens  448118\n",
       "3                Don_Quixote_by_Miguel_de_Cervantes  497782\n",
       "4                            Dracula_by_Bram_Stoker  196321"
      ]
     },
     "execution_count": 9,
     "metadata": {},
     "output_type": "execute_result"
    }
   ],
   "source": [
    "DataSet.head(5)"
   ]
  },
  {
   "cell_type": "code",
   "execution_count": 10,
   "metadata": {},
   "outputs": [
    {
     "data": {
      "text/html": [
       "<div>\n",
       "<style scoped>\n",
       "    .dataframe tbody tr th:only-of-type {\n",
       "        vertical-align: middle;\n",
       "    }\n",
       "\n",
       "    .dataframe tbody tr th {\n",
       "        vertical-align: top;\n",
       "    }\n",
       "\n",
       "    .dataframe thead th {\n",
       "        text-align: right;\n",
       "    }\n",
       "</style>\n",
       "<table border=\"1\" class=\"dataframe\">\n",
       "  <thead>\n",
       "    <tr style=\"text-align: right;\">\n",
       "      <th></th>\n",
       "      <th>filename</th>\n",
       "      <th>tokens</th>\n",
       "    </tr>\n",
       "  </thead>\n",
       "  <tbody>\n",
       "    <tr>\n",
       "      <th>0</th>\n",
       "      <td>Alices_Adventures_in_Wonderland_by_Lewis_Carroll</td>\n",
       "      <td>37861</td>\n",
       "    </tr>\n",
       "    <tr>\n",
       "      <th>1</th>\n",
       "      <td>Anna_Karenina_by_Leo_Tolstoy</td>\n",
       "      <td>433609</td>\n",
       "    </tr>\n",
       "    <tr>\n",
       "      <th>2</th>\n",
       "      <td>David_Copperfield_by_Charles_Dickens</td>\n",
       "      <td>448118</td>\n",
       "    </tr>\n",
       "    <tr>\n",
       "      <th>3</th>\n",
       "      <td>Don_Quixote_by_Miguel_de_Cervantes</td>\n",
       "      <td>497782</td>\n",
       "    </tr>\n",
       "    <tr>\n",
       "      <th>4</th>\n",
       "      <td>Dracula_by_Bram_Stoker</td>\n",
       "      <td>196321</td>\n",
       "    </tr>\n",
       "    <tr>\n",
       "      <th>5</th>\n",
       "      <td>Emma_by_Jane_Austen</td>\n",
       "      <td>196091</td>\n",
       "    </tr>\n",
       "    <tr>\n",
       "      <th>6</th>\n",
       "      <td>Frankenstein_by_Mary_Shelley</td>\n",
       "      <td>89381</td>\n",
       "    </tr>\n",
       "    <tr>\n",
       "      <th>7</th>\n",
       "      <td>Great_Expectations_by_Charles_Dickens</td>\n",
       "      <td>230279</td>\n",
       "    </tr>\n",
       "    <tr>\n",
       "      <th>8</th>\n",
       "      <td>Grimms_Fairy_Tales_by_The_Brothers_Grimm</td>\n",
       "      <td>124555</td>\n",
       "    </tr>\n",
       "    <tr>\n",
       "      <th>9</th>\n",
       "      <td>Metamorphosis_by_Franz_Kafka</td>\n",
       "      <td>29080</td>\n",
       "    </tr>\n",
       "    <tr>\n",
       "      <th>10</th>\n",
       "      <td>Oliver_Twist_by_Charles_Dickens</td>\n",
       "      <td>204966</td>\n",
       "    </tr>\n",
       "    <tr>\n",
       "      <th>11</th>\n",
       "      <td>Pride_and_Prejudice_by_Jane_Austen</td>\n",
       "      <td>147764</td>\n",
       "    </tr>\n",
       "    <tr>\n",
       "      <th>12</th>\n",
       "      <td>The_Adventures_of_Sherlock_Holmes_by_Arthur_Co...</td>\n",
       "      <td>129459</td>\n",
       "    </tr>\n",
       "    <tr>\n",
       "      <th>13</th>\n",
       "      <td>The_Adventures_of_Tom_Sawyer_by_Mark_Twain</td>\n",
       "      <td>94521</td>\n",
       "    </tr>\n",
       "    <tr>\n",
       "      <th>14</th>\n",
       "      <td>The_Count_of_Monte_Cristo_by_Alexandre_Dumas</td>\n",
       "      <td>573731</td>\n",
       "    </tr>\n",
       "    <tr>\n",
       "      <th>15</th>\n",
       "      <td>The_Picture_of_Dorian_Gray_by_Oscar_Wilde</td>\n",
       "      <td>99457</td>\n",
       "    </tr>\n",
       "    <tr>\n",
       "      <th>16</th>\n",
       "      <td>The_Prince_by_Nicolo_Machiavelli</td>\n",
       "      <td>59953</td>\n",
       "    </tr>\n",
       "    <tr>\n",
       "      <th>17</th>\n",
       "      <td>The_Romance_of_Lust_by_Anonymous</td>\n",
       "      <td>222429</td>\n",
       "    </tr>\n",
       "    <tr>\n",
       "      <th>18</th>\n",
       "      <td>The_Yellow_Wallpaper_by_Charlotte_Perkins_Gilman</td>\n",
       "      <td>11005</td>\n",
       "    </tr>\n",
       "    <tr>\n",
       "      <th>19</th>\n",
       "      <td>Through_the_Looking_Glass_by_Lewis_Carroll</td>\n",
       "      <td>11005</td>\n",
       "    </tr>\n",
       "  </tbody>\n",
       "</table>\n",
       "</div>"
      ],
      "text/plain": [
       "                                             filename  tokens\n",
       "0    Alices_Adventures_in_Wonderland_by_Lewis_Carroll   37861\n",
       "1                        Anna_Karenina_by_Leo_Tolstoy  433609\n",
       "2                David_Copperfield_by_Charles_Dickens  448118\n",
       "3                  Don_Quixote_by_Miguel_de_Cervantes  497782\n",
       "4                              Dracula_by_Bram_Stoker  196321\n",
       "5                                 Emma_by_Jane_Austen  196091\n",
       "6                        Frankenstein_by_Mary_Shelley   89381\n",
       "7               Great_Expectations_by_Charles_Dickens  230279\n",
       "8            Grimms_Fairy_Tales_by_The_Brothers_Grimm  124555\n",
       "9                        Metamorphosis_by_Franz_Kafka   29080\n",
       "10                    Oliver_Twist_by_Charles_Dickens  204966\n",
       "11                 Pride_and_Prejudice_by_Jane_Austen  147764\n",
       "12  The_Adventures_of_Sherlock_Holmes_by_Arthur_Co...  129459\n",
       "13         The_Adventures_of_Tom_Sawyer_by_Mark_Twain   94521\n",
       "14       The_Count_of_Monte_Cristo_by_Alexandre_Dumas  573731\n",
       "15          The_Picture_of_Dorian_Gray_by_Oscar_Wilde   99457\n",
       "16                   The_Prince_by_Nicolo_Machiavelli   59953\n",
       "17                   The_Romance_of_Lust_by_Anonymous  222429\n",
       "18   The_Yellow_Wallpaper_by_Charlotte_Perkins_Gilman   11005\n",
       "19         Through_the_Looking_Glass_by_Lewis_Carroll   11005"
      ]
     },
     "execution_count": 10,
     "metadata": {},
     "output_type": "execute_result"
    }
   ],
   "source": [
    "DataSet"
   ]
  },
  {
   "cell_type": "markdown",
   "metadata": {},
   "source": [
    "#### Cleaning the data"
   ]
  },
  {
   "cell_type": "code",
   "execution_count": 11,
   "metadata": {},
   "outputs": [
    {
     "data": {
      "text/plain": [
       "'Project Gutenberg’s Alice’s Adventures in Wonderland, by Lewis Carroll\\r\\n\\r\\nThis eBook is for the use of anyone anywhere at no cost and with\\r\\nalmost no restrictions whatsoever.  You may copy it, give it away or\\r\\nre-use it under the terms of the Project Gutenberg License included\\r\\nwith this eBook or online at www.gutenberg.org\\r\\n\\r\\n\\r\\nTitle: Alice’s Adventures in Wonderland\\r\\n\\r\\nAuthor: Lewis Carroll\\r\\n\\r\\nPosting Date: June 25, 2008 [EBook #11]\\r\\nRelease Date: March, 1994\\r\\nLast Updated: October 6, 2016\\r\\n\\r\\nLanguage: English\\r\\n\\r\\nCharacter set encoding: UTF-8\\r\\n\\r\\n*** START OF THIS PROJECT GUTENBERG EBOOK ALICE’S ADVENTURES IN WONDERLAND ***\\r\\n\\r\\n\\r\\n\\r\\n\\r\\n\\r\\n\\r\\n\\r\\n\\r\\n\\r\\n\\r\\nALICE’S ADVENTURES IN WONDERLAND\\r\\n\\r\\nLewis Carroll\\r\\n\\r\\nTHE MILLENNIUM FULCRUM EDITION 3.0\\r\\n\\r\\n\\r\\n\\r\\n\\r\\nCHAPTER I. Down the Rabbit-Hole\\r\\n\\r\\nAlice was beginning to get very tired of sitting by her sister on the\\r\\nbank, and of having nothing to do: once or twice she had peeped into the\\r\\nbook her sister was reading, but it had no pictures or conversations '"
      ]
     },
     "execution_count": 11,
     "metadata": {},
     "output_type": "execute_result"
    }
   ],
   "source": [
    "mlkcor.raw('Alices_Adventures_in_Wonderland_by_Lewis_Carroll.txt')[:1000]"
   ]
  },
  {
   "cell_type": "code",
   "execution_count": 12,
   "metadata": {},
   "outputs": [],
   "source": [
    "def clean_text(txt):\n",
    "    \"\"\"Removes unnecessary characters from a text.\"\"\"\n",
    "    txt = re.sub(r'.*[\\*\\*\\*]','', txt)\n",
    "    txt = re.sub(r'\\n', ' ', txt)\n",
    "    txt = re.sub(r'\\r','', txt)\n",
    "    txt = txt.strip()\n",
    "    return txt"
   ]
  },
  {
   "cell_type": "code",
   "execution_count": 13,
   "metadata": {},
   "outputs": [],
   "source": [
    "DataSet['text'] = [mlkcor.raw(f) for f in mlkcor.fileids()]"
   ]
  },
  {
   "cell_type": "code",
   "execution_count": 14,
   "metadata": {},
   "outputs": [
    {
     "data": {
      "text/html": [
       "<div>\n",
       "<style scoped>\n",
       "    .dataframe tbody tr th:only-of-type {\n",
       "        vertical-align: middle;\n",
       "    }\n",
       "\n",
       "    .dataframe tbody tr th {\n",
       "        vertical-align: top;\n",
       "    }\n",
       "\n",
       "    .dataframe thead th {\n",
       "        text-align: right;\n",
       "    }\n",
       "</style>\n",
       "<table border=\"1\" class=\"dataframe\">\n",
       "  <thead>\n",
       "    <tr style=\"text-align: right;\">\n",
       "      <th></th>\n",
       "      <th>filename</th>\n",
       "      <th>tokens</th>\n",
       "      <th>text</th>\n",
       "    </tr>\n",
       "  </thead>\n",
       "  <tbody>\n",
       "    <tr>\n",
       "      <th>0</th>\n",
       "      <td>Alices_Adventures_in_Wonderland_by_Lewis_Carroll</td>\n",
       "      <td>37861</td>\n",
       "      <td>Project Gutenberg’s Alice’s Adventures in Wond...</td>\n",
       "    </tr>\n",
       "    <tr>\n",
       "      <th>1</th>\n",
       "      <td>Anna_Karenina_by_Leo_Tolstoy</td>\n",
       "      <td>433609</td>\n",
       "      <td>\\r\\nThe Project Gutenberg EBook of Anna Kareni...</td>\n",
       "    </tr>\n",
       "    <tr>\n",
       "      <th>2</th>\n",
       "      <td>David_Copperfield_by_Charles_Dickens</td>\n",
       "      <td>448118</td>\n",
       "      <td>The Project Gutenberg EBook of David Copperfie...</td>\n",
       "    </tr>\n",
       "    <tr>\n",
       "      <th>3</th>\n",
       "      <td>Don_Quixote_by_Miguel_de_Cervantes</td>\n",
       "      <td>497782</td>\n",
       "      <td>The Project Gutenberg EBook of Don Quixote, by...</td>\n",
       "    </tr>\n",
       "    <tr>\n",
       "      <th>4</th>\n",
       "      <td>Dracula_by_Bram_Stoker</td>\n",
       "      <td>196321</td>\n",
       "      <td>The Project Gutenberg EBook of Dracula, by Bra...</td>\n",
       "    </tr>\n",
       "  </tbody>\n",
       "</table>\n",
       "</div>"
      ],
      "text/plain": [
       "                                           filename  tokens  \\\n",
       "0  Alices_Adventures_in_Wonderland_by_Lewis_Carroll   37861   \n",
       "1                      Anna_Karenina_by_Leo_Tolstoy  433609   \n",
       "2              David_Copperfield_by_Charles_Dickens  448118   \n",
       "3                Don_Quixote_by_Miguel_de_Cervantes  497782   \n",
       "4                            Dracula_by_Bram_Stoker  196321   \n",
       "\n",
       "                                                text  \n",
       "0  Project Gutenberg’s Alice’s Adventures in Wond...  \n",
       "1  \\r\\nThe Project Gutenberg EBook of Anna Kareni...  \n",
       "2  The Project Gutenberg EBook of David Copperfie...  \n",
       "3  The Project Gutenberg EBook of Don Quixote, by...  \n",
       "4  The Project Gutenberg EBook of Dracula, by Bra...  "
      ]
     },
     "execution_count": 14,
     "metadata": {},
     "output_type": "execute_result"
    }
   ],
   "source": [
    "DataSet.head(5)"
   ]
  },
  {
   "cell_type": "code",
   "execution_count": 15,
   "metadata": {},
   "outputs": [],
   "source": [
    "DataSet['text_cleaned'] = DataSet.text.apply(clean_text)"
   ]
  },
  {
   "cell_type": "code",
   "execution_count": 16,
   "metadata": {},
   "outputs": [
    {
     "data": {
      "text/html": [
       "<div>\n",
       "<style scoped>\n",
       "    .dataframe tbody tr th:only-of-type {\n",
       "        vertical-align: middle;\n",
       "    }\n",
       "\n",
       "    .dataframe tbody tr th {\n",
       "        vertical-align: top;\n",
       "    }\n",
       "\n",
       "    .dataframe thead th {\n",
       "        text-align: right;\n",
       "    }\n",
       "</style>\n",
       "<table border=\"1\" class=\"dataframe\">\n",
       "  <thead>\n",
       "    <tr style=\"text-align: right;\">\n",
       "      <th></th>\n",
       "      <th>filename</th>\n",
       "      <th>tokens</th>\n",
       "      <th>text</th>\n",
       "      <th>text_cleaned</th>\n",
       "    </tr>\n",
       "  </thead>\n",
       "  <tbody>\n",
       "    <tr>\n",
       "      <th>0</th>\n",
       "      <td>Alices_Adventures_in_Wonderland_by_Lewis_Carroll</td>\n",
       "      <td>37861</td>\n",
       "      <td>Project Gutenberg’s Alice’s Adventures in Wond...</td>\n",
       "      <td>Project Gutenberg’s Alice’s Adventures in Wond...</td>\n",
       "    </tr>\n",
       "    <tr>\n",
       "      <th>1</th>\n",
       "      <td>Anna_Karenina_by_Leo_Tolstoy</td>\n",
       "      <td>433609</td>\n",
       "      <td>\\r\\nThe Project Gutenberg EBook of Anna Kareni...</td>\n",
       "      <td>The Project Gutenberg EBook of Anna Karenina, ...</td>\n",
       "    </tr>\n",
       "    <tr>\n",
       "      <th>2</th>\n",
       "      <td>David_Copperfield_by_Charles_Dickens</td>\n",
       "      <td>448118</td>\n",
       "      <td>The Project Gutenberg EBook of David Copperfie...</td>\n",
       "      <td>The Project Gutenberg EBook of David Copperfie...</td>\n",
       "    </tr>\n",
       "    <tr>\n",
       "      <th>3</th>\n",
       "      <td>Don_Quixote_by_Miguel_de_Cervantes</td>\n",
       "      <td>497782</td>\n",
       "      <td>The Project Gutenberg EBook of Don Quixote, by...</td>\n",
       "      <td>The Project Gutenberg EBook of Don Quixote, by...</td>\n",
       "    </tr>\n",
       "    <tr>\n",
       "      <th>4</th>\n",
       "      <td>Dracula_by_Bram_Stoker</td>\n",
       "      <td>196321</td>\n",
       "      <td>The Project Gutenberg EBook of Dracula, by Bra...</td>\n",
       "      <td>The Project Gutenberg EBook of Dracula, by Bra...</td>\n",
       "    </tr>\n",
       "  </tbody>\n",
       "</table>\n",
       "</div>"
      ],
      "text/plain": [
       "                                           filename  tokens  \\\n",
       "0  Alices_Adventures_in_Wonderland_by_Lewis_Carroll   37861   \n",
       "1                      Anna_Karenina_by_Leo_Tolstoy  433609   \n",
       "2              David_Copperfield_by_Charles_Dickens  448118   \n",
       "3                Don_Quixote_by_Miguel_de_Cervantes  497782   \n",
       "4                            Dracula_by_Bram_Stoker  196321   \n",
       "\n",
       "                                                text  \\\n",
       "0  Project Gutenberg’s Alice’s Adventures in Wond...   \n",
       "1  \\r\\nThe Project Gutenberg EBook of Anna Kareni...   \n",
       "2  The Project Gutenberg EBook of David Copperfie...   \n",
       "3  The Project Gutenberg EBook of Don Quixote, by...   \n",
       "4  The Project Gutenberg EBook of Dracula, by Bra...   \n",
       "\n",
       "                                        text_cleaned  \n",
       "0  Project Gutenberg’s Alice’s Adventures in Wond...  \n",
       "1  The Project Gutenberg EBook of Anna Karenina, ...  \n",
       "2  The Project Gutenberg EBook of David Copperfie...  \n",
       "3  The Project Gutenberg EBook of Don Quixote, by...  \n",
       "4  The Project Gutenberg EBook of Dracula, by Bra...  "
      ]
     },
     "execution_count": 16,
     "metadata": {},
     "output_type": "execute_result"
    }
   ],
   "source": [
    "DataSet.head(5)"
   ]
  },
  {
   "cell_type": "code",
   "execution_count": 17,
   "metadata": {},
   "outputs": [
    {
     "data": {
      "text/plain": [
       "'Project Gutenberg’s Alice’s Adventures in Wonderland, by Lewis Carroll\\r\\n\\r\\nThis eBook is for the use of anyone anywhere at no cost and with\\r\\nalmost no restrictions whatsoever.  You may copy it, give it away or\\r\\nre-use it under the terms of the Project Gutenberg License included\\r\\nwith this eBook or online at www.gutenberg.org\\r\\n\\r\\n\\r\\nTitle: Alice’s Adventures in Wonderland\\r\\n\\r\\nAuthor: Lewis Carroll\\r\\n\\r\\nPosting Date: June 25, 2008 [EBook #11]\\r\\nRelease Date: March, 1994\\r\\nLast Updated: October 6, 2016\\r\\n\\r\\nLanguage: English\\r\\n\\r\\nCharacter set encoding: UTF-8\\r\\n\\r\\n*** START OF THIS PROJECT GUTENBERG EBOOK ALICE’S ADVENTURES IN WONDERLAND ***\\r\\n\\r\\n\\r\\n\\r\\n\\r\\n\\r\\n\\r\\n\\r\\n\\r\\n\\r\\n\\r\\nALICE’S ADVENTURES IN WONDERLAND\\r\\n\\r\\nLewis Carroll\\r\\n\\r\\nTHE MILLENNIUM FULCRUM EDITION 3.0\\r\\n\\r\\n\\r\\n\\r\\n\\r\\nCHAPTER I. Down the Rabbit-Hole\\r\\n\\r\\nAlice was beginning to get very tired of sitting by her sister on the\\r\\nbank, and of having nothing to do: once or twice she had peeped into the\\r\\nbook her sister was reading, but it had no pictures or conversations in\\r\\nit, ‘and what is the use of a book,’ thought Alice ‘without pictures or\\r\\nconversations?’\\r\\n\\r\\nSo she was considering in her own mind (as well as she could, for the\\r\\nhot day made her feel very sleepy and stupid), whether the pleasure\\r\\nof making a daisy-chain would be worth the trouble of getting up and\\r\\npicking the daisies, when suddenly a White Rabbit with pink eyes ran\\r\\nclose by her.\\r\\n\\r\\nThere was nothing so VERY remarkable in that; nor did Alice think it so\\r\\nVERY much out of the way to hear t'"
      ]
     },
     "execution_count": 17,
     "metadata": {},
     "output_type": "execute_result"
    }
   ],
   "source": [
    "DataSet['text'][0][:1500]"
   ]
  },
  {
   "cell_type": "code",
   "execution_count": 18,
   "metadata": {},
   "outputs": [
    {
     "data": {
      "text/plain": [
       "'Project Gutenberg’s Alice’s Adventures in Wonderland, by Lewis Carroll  This eBook is for the use of anyone anywhere at no cost and with almost no restrictions whatsoever.  You may copy it, give it away or re-use it under the terms of the Project Gutenberg License included with this eBook or online at www.gutenberg.org   Title: Alice’s Adventures in Wonderland  Author: Lewis Carroll  Posting Date: June 25, 2008 [EBook #11] Release Date: March, 1994 Last Updated: October 6, 2016  Language: English  Character set encoding: UTF-8             ALICE’S ADVENTURES IN WONDERLAND  Lewis Carroll  THE MILLENNIUM FULCRUM EDITION 3.0     CHAPTER I. Down the Rabbit-Hole  Alice was beginning to get very tired of sitting by her sister on the bank, and of having nothing to do: once or twice she had peeped into the book her sister was reading, but it had no pictures or conversations in it, ‘and what is the use of a book,’ thought Alice ‘without pictures or conversations?’  So she was considering in her '"
      ]
     },
     "execution_count": 18,
     "metadata": {},
     "output_type": "execute_result"
    }
   ],
   "source": [
    "DataSet['text_cleaned'][0][:1000]"
   ]
  },
  {
   "cell_type": "markdown",
   "metadata": {},
   "source": [
    "## Summary \n",
    "\n",
    "After cleaning up the data, I have found that their are a lot of '\\n' or '\\r' in the text file. If I replace them by the ' '(space) character, there will be a lot of ' '(space) in the files. However, if I totally replaced them by ''(None), there will be some words connectd together. The reason is that some original words is seperated by '\\r\\n' rather than ' '(space) character. \n",
    "\n",
    "Otherwise, on the top of each file, there is a short description about the story. However, there is not a standard description for every file. It is hard to set a function to remove this part. "
   ]
  },
  {
   "cell_type": "code",
   "execution_count": null,
   "metadata": {},
   "outputs": [],
   "source": []
  }
 ],
 "metadata": {
  "kernelspec": {
   "display_name": "Python 3",
   "language": "python",
   "name": "python3"
  },
  "language_info": {
   "codemirror_mode": {
    "name": "ipython",
    "version": 3
   },
   "file_extension": ".py",
   "mimetype": "text/x-python",
   "name": "python",
   "nbconvert_exporter": "python",
   "pygments_lexer": "ipython3",
   "version": "3.6.8"
  }
 },
 "nbformat": 4,
 "nbformat_minor": 2
}
