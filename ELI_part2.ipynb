{
 "cells": [
  {
   "cell_type": "markdown",
   "metadata": {},
   "source": [
    "## NEW CONTINUING\n",
    "\n",
    "#### Ting-Wei Shen, tis50@pitt.edu, Apr 8, 2019\n"
   ]
  },
  {
   "cell_type": "markdown",
   "metadata": {},
   "source": [
    "### Select proper data"
   ]
  },
  {
   "cell_type": "code",
   "execution_count": 1,
   "metadata": {},
   "outputs": [],
   "source": [
    "import matplotlib.pyplot as plt\n",
    "import pickle\n",
    "import seaborn as sns\n",
    "import nltk\n",
    "import numpy as np"
   ]
  },
  {
   "cell_type": "code",
   "execution_count": 2,
   "metadata": {},
   "outputs": [],
   "source": [
    "sns.set_style('darkgrid')"
   ]
  },
  {
   "cell_type": "code",
   "execution_count": 3,
   "metadata": {},
   "outputs": [],
   "source": [
    "# open pickle file\n",
    "\n",
    "f = open('df_eli.pkl', 'rb')   # 'rb' for reading binary file\n",
    "df_eli = pickle.load(f)     \n",
    "f.close()"
   ]
  },
  {
   "cell_type": "code",
   "execution_count": 4,
   "metadata": {
    "scrolled": true
   },
   "outputs": [
    {
     "name": "stdout",
     "output_type": "stream",
     "text": [
      "(492, 11)\n"
     ]
    },
    {
     "data": {
      "text/html": [
       "<div>\n",
       "<style scoped>\n",
       "    .dataframe tbody tr th:only-of-type {\n",
       "        vertical-align: middle;\n",
       "    }\n",
       "\n",
       "    .dataframe tbody tr th {\n",
       "        vertical-align: top;\n",
       "    }\n",
       "\n",
       "    .dataframe thead th {\n",
       "        text-align: right;\n",
       "    }\n",
       "</style>\n",
       "<table border=\"1\" class=\"dataframe\">\n",
       "  <thead>\n",
       "    <tr style=\"text-align: right;\">\n",
       "      <th></th>\n",
       "      <th>student_id</th>\n",
       "      <th>question_id</th>\n",
       "      <th>text</th>\n",
       "      <th>gender</th>\n",
       "      <th>native_language</th>\n",
       "      <th>question</th>\n",
       "      <th>tokens</th>\n",
       "      <th>token_count</th>\n",
       "      <th>types</th>\n",
       "      <th>type_count</th>\n",
       "      <th>TTR</th>\n",
       "    </tr>\n",
       "  </thead>\n",
       "  <tbody>\n",
       "    <tr>\n",
       "      <th>43439</th>\n",
       "      <td>gu2</td>\n",
       "      <td>5796</td>\n",
       "      <td>They see the online shopping do pollution but ...</td>\n",
       "      <td>NaN</td>\n",
       "      <td>NaN</td>\n",
       "      <td>Chapter 5: \"A Cleaner Way to Shop?\"  \\n\\nChoos...</td>\n",
       "      <td>[They, see, the, online, shopping, do, polluti...</td>\n",
       "      <td>109</td>\n",
       "      <td>{multiple, smaller, heard, do, opposed, goods,...</td>\n",
       "      <td>79</td>\n",
       "      <td>0.724771</td>\n",
       "    </tr>\n",
       "    <tr>\n",
       "      <th>753</th>\n",
       "      <td>cq4</td>\n",
       "      <td>37</td>\n",
       "      <td>1-Mismanagement\\nSentence: So if they were nom...</td>\n",
       "      <td>Female</td>\n",
       "      <td>Arabic</td>\n",
       "      <td>For each of the following words, write the sen...</td>\n",
       "      <td>[1-Mismanagement, Sentence, :, So, if, they, w...</td>\n",
       "      <td>198</td>\n",
       "      <td>{persuade, method, speech, The, 2, someone, wa...</td>\n",
       "      <td>116</td>\n",
       "      <td>0.585859</td>\n",
       "    </tr>\n",
       "    <tr>\n",
       "      <th>45003</th>\n",
       "      <td>ay8</td>\n",
       "      <td>5990</td>\n",
       "      <td>I was working out in the gym.GHABBAN.wav.mp3</td>\n",
       "      <td>NaN</td>\n",
       "      <td>NaN</td>\n",
       "      <td>What were  you doing at 8:00 this morning?</td>\n",
       "      <td>[I, was, working, out, in, the, gym.GHABBAN.wa...</td>\n",
       "      <td>7</td>\n",
       "      <td>{the, was, out, in, working, gym.GHABBAN.wav.m...</td>\n",
       "      <td>7</td>\n",
       "      <td>1.000000</td>\n",
       "    </tr>\n",
       "    <tr>\n",
       "      <th>16101</th>\n",
       "      <td>ff4</td>\n",
       "      <td>2358</td>\n",
       "      <td>it's getting out of control. Something you sta...</td>\n",
       "      <td>Male</td>\n",
       "      <td>French</td>\n",
       "      <td>What does the phrase \"it's getting out of hand...</td>\n",
       "      <td>[it, 's, getting, out, of, control, ., Somethi...</td>\n",
       "      <td>17</td>\n",
       "      <td>{Something, 's, do, it, n't, control, of, out,...</td>\n",
       "      <td>15</td>\n",
       "      <td>0.882353</td>\n",
       "    </tr>\n",
       "    <tr>\n",
       "      <th>23749</th>\n",
       "      <td>cp5</td>\n",
       "      <td>3229</td>\n",
       "      <td>This tree has a very rigid trunk, I can not cu...</td>\n",
       "      <td>Male</td>\n",
       "      <td>Arabic</td>\n",
       "      <td>Write an original creative sentence using a vo...</td>\n",
       "      <td>[This, tree, has, a, very, rigid, trunk, ,, I,...</td>\n",
       "      <td>15</td>\n",
       "      <td>{saw, has, can, not, by, ., rigid, a, trunk, t...</td>\n",
       "      <td>15</td>\n",
       "      <td>1.000000</td>\n",
       "    </tr>\n",
       "  </tbody>\n",
       "</table>\n",
       "</div>"
      ],
      "text/plain": [
       "      student_id  question_id  \\\n",
       "43439        gu2         5796   \n",
       "753          cq4           37   \n",
       "45003        ay8         5990   \n",
       "16101        ff4         2358   \n",
       "23749        cp5         3229   \n",
       "\n",
       "                                                    text  gender  \\\n",
       "43439  They see the online shopping do pollution but ...     NaN   \n",
       "753    1-Mismanagement\\nSentence: So if they were nom...  Female   \n",
       "45003       I was working out in the gym.GHABBAN.wav.mp3     NaN   \n",
       "16101  it's getting out of control. Something you sta...    Male   \n",
       "23749  This tree has a very rigid trunk, I can not cu...    Male   \n",
       "\n",
       "      native_language                                           question  \\\n",
       "43439             NaN  Chapter 5: \"A Cleaner Way to Shop?\"  \\n\\nChoos...   \n",
       "753            Arabic  For each of the following words, write the sen...   \n",
       "45003             NaN         What were  you doing at 8:00 this morning?   \n",
       "16101          French  What does the phrase \"it's getting out of hand...   \n",
       "23749          Arabic  Write an original creative sentence using a vo...   \n",
       "\n",
       "                                                  tokens  token_count  \\\n",
       "43439  [They, see, the, online, shopping, do, polluti...          109   \n",
       "753    [1-Mismanagement, Sentence, :, So, if, they, w...          198   \n",
       "45003  [I, was, working, out, in, the, gym.GHABBAN.wa...            7   \n",
       "16101  [it, 's, getting, out, of, control, ., Somethi...           17   \n",
       "23749  [This, tree, has, a, very, rigid, trunk, ,, I,...           15   \n",
       "\n",
       "                                                   types  type_count       TTR  \n",
       "43439  {multiple, smaller, heard, do, opposed, goods,...          79  0.724771  \n",
       "753    {persuade, method, speech, The, 2, someone, wa...         116  0.585859  \n",
       "45003  {the, was, out, in, working, gym.GHABBAN.wav.m...           7  1.000000  \n",
       "16101  {Something, 's, do, it, n't, control, of, out,...          15  0.882353  \n",
       "23749  {saw, has, can, not, by, ., rigid, a, trunk, t...          15  1.000000  "
      ]
     },
     "execution_count": 4,
     "metadata": {},
     "output_type": "execute_result"
    }
   ],
   "source": [
    "print(df_eli.shape)\n",
    "df_eli.head()"
   ]
  },
  {
   "cell_type": "markdown",
   "metadata": {},
   "source": [
    "- For assessing writing quality, we have to eliminate too short or too long essay.\n",
    "- I will choose the essay tokens between 50 to 600."
   ]
  },
  {
   "cell_type": "code",
   "execution_count": 5,
   "metadata": {},
   "outputs": [
    {
     "name": "stdout",
     "output_type": "stream",
     "text": [
      "(172, 11)\n"
     ]
    }
   ],
   "source": [
    "df_eli_revised = df_eli[df_eli.token_count >= 50]\n",
    "df_eli_revised = df_eli_revised[df_eli_revised.token_count <= 600]\n",
    "print(df_eli_revised.shape)"
   ]
  },
  {
   "cell_type": "code",
   "execution_count": 6,
   "metadata": {},
   "outputs": [
    {
     "data": {
      "text/html": [
       "<div>\n",
       "<style scoped>\n",
       "    .dataframe tbody tr th:only-of-type {\n",
       "        vertical-align: middle;\n",
       "    }\n",
       "\n",
       "    .dataframe tbody tr th {\n",
       "        vertical-align: top;\n",
       "    }\n",
       "\n",
       "    .dataframe thead th {\n",
       "        text-align: right;\n",
       "    }\n",
       "</style>\n",
       "<table border=\"1\" class=\"dataframe\">\n",
       "  <thead>\n",
       "    <tr style=\"text-align: right;\">\n",
       "      <th></th>\n",
       "      <th>student_id</th>\n",
       "      <th>question_id</th>\n",
       "      <th>text</th>\n",
       "      <th>gender</th>\n",
       "      <th>native_language</th>\n",
       "      <th>question</th>\n",
       "      <th>tokens</th>\n",
       "      <th>token_count</th>\n",
       "      <th>types</th>\n",
       "      <th>type_count</th>\n",
       "      <th>TTR</th>\n",
       "    </tr>\n",
       "  </thead>\n",
       "  <tbody>\n",
       "    <tr>\n",
       "      <th>43439</th>\n",
       "      <td>gu2</td>\n",
       "      <td>5796</td>\n",
       "      <td>They see the online shopping do pollution but ...</td>\n",
       "      <td>NaN</td>\n",
       "      <td>NaN</td>\n",
       "      <td>Chapter 5: \"A Cleaner Way to Shop?\"  \\n\\nChoos...</td>\n",
       "      <td>[They, see, the, online, shopping, do, polluti...</td>\n",
       "      <td>109</td>\n",
       "      <td>{multiple, smaller, heard, do, opposed, goods,...</td>\n",
       "      <td>79</td>\n",
       "      <td>0.724771</td>\n",
       "    </tr>\n",
       "    <tr>\n",
       "      <th>753</th>\n",
       "      <td>cq4</td>\n",
       "      <td>37</td>\n",
       "      <td>1-Mismanagement\\nSentence: So if they were nom...</td>\n",
       "      <td>Female</td>\n",
       "      <td>Arabic</td>\n",
       "      <td>For each of the following words, write the sen...</td>\n",
       "      <td>[1-Mismanagement, Sentence, :, So, if, they, w...</td>\n",
       "      <td>198</td>\n",
       "      <td>{persuade, method, speech, The, 2, someone, wa...</td>\n",
       "      <td>116</td>\n",
       "      <td>0.585859</td>\n",
       "    </tr>\n",
       "    <tr>\n",
       "      <th>23677</th>\n",
       "      <td>dp5</td>\n",
       "      <td>3279</td>\n",
       "      <td>What I do everyday is boring. I wake up 8:45...</td>\n",
       "      <td>Male</td>\n",
       "      <td>Korean</td>\n",
       "      <td>Be sure to write a paragraph with at least 7 s...</td>\n",
       "      <td>[What, I, do, everyday, is, boring, ., I, wake...</td>\n",
       "      <td>109</td>\n",
       "      <td>{homework, shower, smoke, do, same, for, of, c...</td>\n",
       "      <td>60</td>\n",
       "      <td>0.550459</td>\n",
       "    </tr>\n",
       "    <tr>\n",
       "      <th>39150</th>\n",
       "      <td>gw1</td>\n",
       "      <td>5238</td>\n",
       "      <td>Before making a decision about what I will stu...</td>\n",
       "      <td>Male</td>\n",
       "      <td>Arabic</td>\n",
       "      <td>Acknowledge  Ambiguous    Crucial    Compensat...</td>\n",
       "      <td>[Before, making, a, decision, about, what, I, ...</td>\n",
       "      <td>274</td>\n",
       "      <td>{Aziz, understand, chance, thinking, The, me, ...</td>\n",
       "      <td>133</td>\n",
       "      <td>0.485401</td>\n",
       "    </tr>\n",
       "    <tr>\n",
       "      <th>23987</th>\n",
       "      <td>ce2</td>\n",
       "      <td>3288</td>\n",
       "      <td>While I was living in Germany, I met my f...</td>\n",
       "      <td>Male</td>\n",
       "      <td>Arabic</td>\n",
       "      <td>Your topic sentence can be:  \"I met my friend ...</td>\n",
       "      <td>[While, I, was, living, in, Germany, ,, I, met...</td>\n",
       "      <td>79</td>\n",
       "      <td>{living, same, friend, second, of, me, things,...</td>\n",
       "      <td>47</td>\n",
       "      <td>0.594937</td>\n",
       "    </tr>\n",
       "  </tbody>\n",
       "</table>\n",
       "</div>"
      ],
      "text/plain": [
       "      student_id  question_id  \\\n",
       "43439        gu2         5796   \n",
       "753          cq4           37   \n",
       "23677        dp5         3279   \n",
       "39150        gw1         5238   \n",
       "23987        ce2         3288   \n",
       "\n",
       "                                                    text  gender  \\\n",
       "43439  They see the online shopping do pollution but ...     NaN   \n",
       "753    1-Mismanagement\\nSentence: So if they were nom...  Female   \n",
       "23677    What I do everyday is boring. I wake up 8:45...    Male   \n",
       "39150  Before making a decision about what I will stu...    Male   \n",
       "23987       While I was living in Germany, I met my f...    Male   \n",
       "\n",
       "      native_language                                           question  \\\n",
       "43439             NaN  Chapter 5: \"A Cleaner Way to Shop?\"  \\n\\nChoos...   \n",
       "753            Arabic  For each of the following words, write the sen...   \n",
       "23677          Korean  Be sure to write a paragraph with at least 7 s...   \n",
       "39150          Arabic  Acknowledge  Ambiguous    Crucial    Compensat...   \n",
       "23987          Arabic  Your topic sentence can be:  \"I met my friend ...   \n",
       "\n",
       "                                                  tokens  token_count  \\\n",
       "43439  [They, see, the, online, shopping, do, polluti...          109   \n",
       "753    [1-Mismanagement, Sentence, :, So, if, they, w...          198   \n",
       "23677  [What, I, do, everyday, is, boring, ., I, wake...          109   \n",
       "39150  [Before, making, a, decision, about, what, I, ...          274   \n",
       "23987  [While, I, was, living, in, Germany, ,, I, met...           79   \n",
       "\n",
       "                                                   types  type_count       TTR  \n",
       "43439  {multiple, smaller, heard, do, opposed, goods,...          79  0.724771  \n",
       "753    {persuade, method, speech, The, 2, someone, wa...         116  0.585859  \n",
       "23677  {homework, shower, smoke, do, same, for, of, c...          60  0.550459  \n",
       "39150  {Aziz, understand, chance, thinking, The, me, ...         133  0.485401  \n",
       "23987  {living, same, friend, second, of, me, things,...          47  0.594937  "
      ]
     },
     "execution_count": 6,
     "metadata": {},
     "output_type": "execute_result"
    }
   ],
   "source": [
    "df_eli_revised.head()"
   ]
  },
  {
   "cell_type": "markdown",
   "metadata": {},
   "source": [
    "- The truth is, the wild data has many defects. After proper processing, I only get 172 essays to evaluate.\n",
    "- On the other hand, there are many NaN existed in the data. This is really frustrating."
   ]
  },
  {
   "cell_type": "code",
   "execution_count": 7,
   "metadata": {},
   "outputs": [
    {
     "data": {
      "text/plain": [
       "Arabic        41\n",
       "Korean        34\n",
       "Chinese       21\n",
       "Japanese       8\n",
       "Spanish        8\n",
       "Turkish        7\n",
       "Portuguese     3\n",
       "French         2\n",
       "Other          2\n",
       "Thai           2\n",
       "Russian        1\n",
       "Italian        1\n",
       "Taiwanese      1\n",
       "Farsi          1\n",
       "Name: native_language, dtype: int64"
      ]
     },
     "execution_count": 7,
     "metadata": {},
     "output_type": "execute_result"
    }
   ],
   "source": [
    "df_native = df_eli_revised.native_language.value_counts()\n",
    "df_native"
   ]
  },
  {
   "cell_type": "code",
   "execution_count": 8,
   "metadata": {},
   "outputs": [
    {
     "data": {
      "text/plain": [
       "132"
      ]
     },
     "execution_count": 8,
     "metadata": {},
     "output_type": "execute_result"
    }
   ],
   "source": [
    "sum(df_native)"
   ]
  },
  {
   "cell_type": "code",
   "execution_count": 9,
   "metadata": {},
   "outputs": [
    {
     "data": {
      "image/png": "[encoded data removed]",
      "text/plain": [
       "<Figure size 864x360 with 1 Axes>"
      ]
     },
     "metadata": {},
     "output_type": "display_data"
    }
   ],
   "source": [
    "df_native.plot(kind='bar', figsize=(12,5))   # Not saving output as a plot object\n",
    "plt.title('Figure 1: number of texts by L1', fontsize=16)          # Must use plt.title(), plt.xlabel() etc. \n",
    "plt.xlabel('L1 (native language of students)', fontsize=12)\n",
    "plt.ylabel('Number of texts', fontsize=12)\n",
    "plt.show()"
   ]
  },
  {
   "cell_type": "markdown",
   "metadata": {},
   "source": [
    "- If we classify students by their native languages, we can find that most of them speak Arabic, Korean and Chinese.\n",
    "- Pandas automatically filter NaN data, there are 132 texts left. "
   ]
  },
  {
   "cell_type": "code",
   "execution_count": 10,
   "metadata": {},
   "outputs": [
    {
     "data": {
      "text/plain": [
       "Male      70\n",
       "Female    62\n",
       "Name: gender, dtype: int64"
      ]
     },
     "execution_count": 10,
     "metadata": {},
     "output_type": "execute_result"
    }
   ],
   "source": [
    "df_gender = df_eli_revised.gender.value_counts()\n",
    "df_gender"
   ]
  },
  {
   "cell_type": "code",
   "execution_count": 11,
   "metadata": {},
   "outputs": [
    {
     "data": {
      "text/plain": [
       "132"
      ]
     },
     "execution_count": 11,
     "metadata": {},
     "output_type": "execute_result"
    }
   ],
   "source": [
    "sum(df_gender)"
   ]
  },
  {
   "cell_type": "code",
   "execution_count": 12,
   "metadata": {},
   "outputs": [
    {
     "data": {
      "image/png": "[encoded data removed]",
      "text/plain": [
       "<Figure size 864x360 with 1 Axes>"
      ]
     },
     "metadata": {},
     "output_type": "display_data"
    }
   ],
   "source": [
    "df_gender.plot(kind='bar', figsize=(12,5))   # Not saving output as a plot object\n",
    "plt.title('Figure 2: number of text by gender', fontsize=16)          # Must use plt.title(), plt.xlabel() etc. \n",
    "plt.xlabel('gender', fontsize=12)\n",
    "plt.ylabel('Number of text', fontsize=12)\n",
    "plt.show()"
   ]
  },
  {
   "cell_type": "markdown",
   "metadata": {},
   "source": [
    "- Fortunately, the gender is balanced. If we could seperate students by their gender, the result may be more reasonable."
   ]
  },
  {
   "cell_type": "markdown",
   "metadata": {},
   "source": [
    "### Linguistics Analysis\n",
    "\n",
    "#### 1. Lexical diversity\n",
    "- Type-Token ratio ( TTR )"
   ]
  },
  {
   "cell_type": "code",
   "execution_count": 13,
   "metadata": {},
   "outputs": [
    {
     "data": {
      "text/html": [
       "<div>\n",
       "<style scoped>\n",
       "    .dataframe tbody tr th:only-of-type {\n",
       "        vertical-align: middle;\n",
       "    }\n",
       "\n",
       "    .dataframe tbody tr th {\n",
       "        vertical-align: top;\n",
       "    }\n",
       "\n",
       "    .dataframe thead th {\n",
       "        text-align: right;\n",
       "    }\n",
       "</style>\n",
       "<table border=\"1\" class=\"dataframe\">\n",
       "  <thead>\n",
       "    <tr style=\"text-align: right;\">\n",
       "      <th></th>\n",
       "      <th>student_id</th>\n",
       "      <th>question_id</th>\n",
       "      <th>text</th>\n",
       "      <th>gender</th>\n",
       "      <th>native_language</th>\n",
       "      <th>question</th>\n",
       "      <th>tokens</th>\n",
       "      <th>token_count</th>\n",
       "      <th>types</th>\n",
       "      <th>type_count</th>\n",
       "      <th>TTR</th>\n",
       "    </tr>\n",
       "  </thead>\n",
       "  <tbody>\n",
       "    <tr>\n",
       "      <th>43439</th>\n",
       "      <td>gu2</td>\n",
       "      <td>5796</td>\n",
       "      <td>They see the online shopping do pollution but ...</td>\n",
       "      <td>NaN</td>\n",
       "      <td>NaN</td>\n",
       "      <td>Chapter 5: \"A Cleaner Way to Shop?\"  \\n\\nChoos...</td>\n",
       "      <td>[They, see, the, online, shopping, do, polluti...</td>\n",
       "      <td>109</td>\n",
       "      <td>{multiple, smaller, heard, do, opposed, goods,...</td>\n",
       "      <td>79</td>\n",
       "      <td>0.724771</td>\n",
       "    </tr>\n",
       "    <tr>\n",
       "      <th>753</th>\n",
       "      <td>cq4</td>\n",
       "      <td>37</td>\n",
       "      <td>1-Mismanagement\\nSentence: So if they were nom...</td>\n",
       "      <td>Female</td>\n",
       "      <td>Arabic</td>\n",
       "      <td>For each of the following words, write the sen...</td>\n",
       "      <td>[1-Mismanagement, Sentence, :, So, if, they, w...</td>\n",
       "      <td>198</td>\n",
       "      <td>{persuade, method, speech, The, 2, someone, wa...</td>\n",
       "      <td>116</td>\n",
       "      <td>0.585859</td>\n",
       "    </tr>\n",
       "    <tr>\n",
       "      <th>23677</th>\n",
       "      <td>dp5</td>\n",
       "      <td>3279</td>\n",
       "      <td>What I do everyday is boring. I wake up 8:45...</td>\n",
       "      <td>Male</td>\n",
       "      <td>Korean</td>\n",
       "      <td>Be sure to write a paragraph with at least 7 s...</td>\n",
       "      <td>[What, I, do, everyday, is, boring, ., I, wake...</td>\n",
       "      <td>109</td>\n",
       "      <td>{homework, shower, smoke, do, same, for, of, c...</td>\n",
       "      <td>60</td>\n",
       "      <td>0.550459</td>\n",
       "    </tr>\n",
       "    <tr>\n",
       "      <th>39150</th>\n",
       "      <td>gw1</td>\n",
       "      <td>5238</td>\n",
       "      <td>Before making a decision about what I will stu...</td>\n",
       "      <td>Male</td>\n",
       "      <td>Arabic</td>\n",
       "      <td>Acknowledge  Ambiguous    Crucial    Compensat...</td>\n",
       "      <td>[Before, making, a, decision, about, what, I, ...</td>\n",
       "      <td>274</td>\n",
       "      <td>{Aziz, understand, chance, thinking, The, me, ...</td>\n",
       "      <td>133</td>\n",
       "      <td>0.485401</td>\n",
       "    </tr>\n",
       "    <tr>\n",
       "      <th>23987</th>\n",
       "      <td>ce2</td>\n",
       "      <td>3288</td>\n",
       "      <td>While I was living in Germany, I met my f...</td>\n",
       "      <td>Male</td>\n",
       "      <td>Arabic</td>\n",
       "      <td>Your topic sentence can be:  \"I met my friend ...</td>\n",
       "      <td>[While, I, was, living, in, Germany, ,, I, met...</td>\n",
       "      <td>79</td>\n",
       "      <td>{living, same, friend, second, of, me, things,...</td>\n",
       "      <td>47</td>\n",
       "      <td>0.594937</td>\n",
       "    </tr>\n",
       "  </tbody>\n",
       "</table>\n",
       "</div>"
      ],
      "text/plain": [
       "      student_id  question_id  \\\n",
       "43439        gu2         5796   \n",
       "753          cq4           37   \n",
       "23677        dp5         3279   \n",
       "39150        gw1         5238   \n",
       "23987        ce2         3288   \n",
       "\n",
       "                                                    text  gender  \\\n",
       "43439  They see the online shopping do pollution but ...     NaN   \n",
       "753    1-Mismanagement\\nSentence: So if they were nom...  Female   \n",
       "23677    What I do everyday is boring. I wake up 8:45...    Male   \n",
       "39150  Before making a decision about what I will stu...    Male   \n",
       "23987       While I was living in Germany, I met my f...    Male   \n",
       "\n",
       "      native_language                                           question  \\\n",
       "43439             NaN  Chapter 5: \"A Cleaner Way to Shop?\"  \\n\\nChoos...   \n",
       "753            Arabic  For each of the following words, write the sen...   \n",
       "23677          Korean  Be sure to write a paragraph with at least 7 s...   \n",
       "39150          Arabic  Acknowledge  Ambiguous    Crucial    Compensat...   \n",
       "23987          Arabic  Your topic sentence can be:  \"I met my friend ...   \n",
       "\n",
       "                                                  tokens  token_count  \\\n",
       "43439  [They, see, the, online, shopping, do, polluti...          109   \n",
       "753    [1-Mismanagement, Sentence, :, So, if, they, w...          198   \n",
       "23677  [What, I, do, everyday, is, boring, ., I, wake...          109   \n",
       "39150  [Before, making, a, decision, about, what, I, ...          274   \n",
       "23987  [While, I, was, living, in, Germany, ,, I, met...           79   \n",
       "\n",
       "                                                   types  type_count       TTR  \n",
       "43439  {multiple, smaller, heard, do, opposed, goods,...          79  0.724771  \n",
       "753    {persuade, method, speech, The, 2, someone, wa...         116  0.585859  \n",
       "23677  {homework, shower, smoke, do, same, for, of, c...          60  0.550459  \n",
       "39150  {Aziz, understand, chance, thinking, The, me, ...         133  0.485401  \n",
       "23987  {living, same, friend, second, of, me, things,...          47  0.594937  "
      ]
     },
     "execution_count": 13,
     "metadata": {},
     "output_type": "execute_result"
    }
   ],
   "source": [
    "df_eli_revised.head()"
   ]
  },
  {
   "cell_type": "code",
   "execution_count": 84,
   "metadata": {},
   "outputs": [
    {
     "data": {
      "text/html": [
       "<div>\n",
       "<style scoped>\n",
       "    .dataframe tbody tr th:only-of-type {\n",
       "        vertical-align: middle;\n",
       "    }\n",
       "\n",
       "    .dataframe tbody tr th {\n",
       "        vertical-align: top;\n",
       "    }\n",
       "\n",
       "    .dataframe thead th {\n",
       "        text-align: right;\n",
       "    }\n",
       "</style>\n",
       "<table border=\"1\" class=\"dataframe\">\n",
       "  <thead>\n",
       "    <tr style=\"text-align: right;\">\n",
       "      <th></th>\n",
       "      <th>TTR</th>\n",
       "    </tr>\n",
       "    <tr>\n",
       "      <th>native_language</th>\n",
       "      <th></th>\n",
       "    </tr>\n",
       "  </thead>\n",
       "  <tbody>\n",
       "    <tr>\n",
       "      <th>Arabic</th>\n",
       "      <td>0.535260</td>\n",
       "    </tr>\n",
       "    <tr>\n",
       "      <th>Chinese</th>\n",
       "      <td>0.588582</td>\n",
       "    </tr>\n",
       "    <tr>\n",
       "      <th>Farsi</th>\n",
       "      <td>0.478589</td>\n",
       "    </tr>\n",
       "    <tr>\n",
       "      <th>French</th>\n",
       "      <td>0.709235</td>\n",
       "    </tr>\n",
       "    <tr>\n",
       "      <th>Italian</th>\n",
       "      <td>0.440945</td>\n",
       "    </tr>\n",
       "    <tr>\n",
       "      <th>Japanese</th>\n",
       "      <td>0.609623</td>\n",
       "    </tr>\n",
       "    <tr>\n",
       "      <th>Korean</th>\n",
       "      <td>0.557991</td>\n",
       "    </tr>\n",
       "    <tr>\n",
       "      <th>Other</th>\n",
       "      <td>0.438058</td>\n",
       "    </tr>\n",
       "    <tr>\n",
       "      <th>Portuguese</th>\n",
       "      <td>0.465052</td>\n",
       "    </tr>\n",
       "    <tr>\n",
       "      <th>Russian</th>\n",
       "      <td>0.383721</td>\n",
       "    </tr>\n",
       "    <tr>\n",
       "      <th>Spanish</th>\n",
       "      <td>0.585900</td>\n",
       "    </tr>\n",
       "    <tr>\n",
       "      <th>Taiwanese</th>\n",
       "      <td>0.562092</td>\n",
       "    </tr>\n",
       "    <tr>\n",
       "      <th>Thai</th>\n",
       "      <td>0.641267</td>\n",
       "    </tr>\n",
       "    <tr>\n",
       "      <th>Turkish</th>\n",
       "      <td>0.646083</td>\n",
       "    </tr>\n",
       "  </tbody>\n",
       "</table>\n",
       "</div>"
      ],
      "text/plain": [
       "                      TTR\n",
       "native_language          \n",
       "Arabic           0.535260\n",
       "Chinese          0.588582\n",
       "Farsi            0.478589\n",
       "French           0.709235\n",
       "Italian          0.440945\n",
       "Japanese         0.609623\n",
       "Korean           0.557991\n",
       "Other            0.438058\n",
       "Portuguese       0.465052\n",
       "Russian          0.383721\n",
       "Spanish          0.585900\n",
       "Taiwanese        0.562092\n",
       "Thai             0.641267\n",
       "Turkish          0.646083"
      ]
     },
     "execution_count": 84,
     "metadata": {},
     "output_type": "execute_result"
    }
   ],
   "source": [
    "lexical_diversity = df_eli_revised[['native_language', 'TTR']].groupby('native_language').mean()\n",
    "lexical_diversity"
   ]
  },
  {
   "cell_type": "code",
   "execution_count": 86,
   "metadata": {},
   "outputs": [
    {
     "data": {
      "image/png": "[encoded data removed]",
      "text/plain": [
       "<Figure size 864x360 with 1 Axes>"
      ]
     },
     "metadata": {},
     "output_type": "display_data"
    }
   ],
   "source": [
    "lexical_diversity.iloc[:,0].plot(kind='bar', figsize=(12,5))   # Not saving output as a plot object\n",
    "plt.title('Figure 3: Type-Token ratio by L1', fontsize=16)          # Must use plt.title(), plt.xlabel() etc. \n",
    "plt.xlabel('L1 (native language of students)', fontsize=12)\n",
    "plt.ylabel('Type-Token ratio', fontsize=12)\n",
    "plt.show()"
   ]
  },
  {
   "cell_type": "markdown",
   "metadata": {},
   "source": [
    "- If we classified students by their native languages, the result may be baised.\n",
    "- Instead, we can check about Arabic, Chinese and Korean. The order is Chinese - 0.589, Korean - 0.558 and Arabic - 0.535. Chinese may intend to use more types of words.\n",
    "- How about classifying by gender? "
   ]
  },
  {
   "cell_type": "code",
   "execution_count": 15,
   "metadata": {},
   "outputs": [
    {
     "data": {
      "text/html": [
       "<div>\n",
       "<style scoped>\n",
       "    .dataframe tbody tr th:only-of-type {\n",
       "        vertical-align: middle;\n",
       "    }\n",
       "\n",
       "    .dataframe tbody tr th {\n",
       "        vertical-align: top;\n",
       "    }\n",
       "\n",
       "    .dataframe thead th {\n",
       "        text-align: right;\n",
       "    }\n",
       "</style>\n",
       "<table border=\"1\" class=\"dataframe\">\n",
       "  <thead>\n",
       "    <tr style=\"text-align: right;\">\n",
       "      <th></th>\n",
       "      <th>TTR</th>\n",
       "    </tr>\n",
       "    <tr>\n",
       "      <th>gender</th>\n",
       "      <th></th>\n",
       "    </tr>\n",
       "  </thead>\n",
       "  <tbody>\n",
       "    <tr>\n",
       "      <th>Female</th>\n",
       "      <td>0.573227</td>\n",
       "    </tr>\n",
       "    <tr>\n",
       "      <th>Male</th>\n",
       "      <td>0.552312</td>\n",
       "    </tr>\n",
       "  </tbody>\n",
       "</table>\n",
       "</div>"
      ],
      "text/plain": [
       "             TTR\n",
       "gender          \n",
       "Female  0.573227\n",
       "Male    0.552312"
      ]
     },
     "execution_count": 15,
     "metadata": {},
     "output_type": "execute_result"
    }
   ],
   "source": [
    "lexical_diversity_gender = df_eli_revised[['gender', 'TTR']].groupby('gender').mean()\n",
    "lexical_diversity_gender"
   ]
  },
  {
   "cell_type": "code",
   "execution_count": 87,
   "metadata": {},
   "outputs": [
    {
     "data": {
      "image/png": "[encoded data removed]",
      "text/plain": [
       "<Figure size 864x360 with 1 Axes>"
      ]
     },
     "metadata": {},
     "output_type": "display_data"
    }
   ],
   "source": [
    "lexical_diversity_gender.iloc[:,0].plot(kind='bar', figsize=(12,5))   # Not saving output as a plot object\n",
    "plt.title('Figure 4: Type-Token ratio by gender', fontsize=16)          # Must use plt.title(), plt.xlabel() etc. \n",
    "plt.xlabel('gender', fontsize=12)\n",
    "plt.ylabel('Type-Token ratio', fontsize=12)\n",
    "plt.show()"
   ]
  },
  {
   "cell_type": "markdown",
   "metadata": {},
   "source": [
    "- The result is inspiring, female students have higher TTR. They may be used to utilizing more different words."
   ]
  },
  {
   "attachments": {},
   "cell_type": "markdown",
   "metadata": {},
   "source": [
    "#### 2. Syntactic complexity\n",
    "\n",
    "- Average sentence length"
   ]
  },
  {
   "cell_type": "code",
   "execution_count": 16,
   "metadata": {
    "scrolled": true
   },
   "outputs": [
    {
     "data": {
      "text/html": [
       "<div>\n",
       "<style scoped>\n",
       "    .dataframe tbody tr th:only-of-type {\n",
       "        vertical-align: middle;\n",
       "    }\n",
       "\n",
       "    .dataframe tbody tr th {\n",
       "        vertical-align: top;\n",
       "    }\n",
       "\n",
       "    .dataframe thead th {\n",
       "        text-align: right;\n",
       "    }\n",
       "</style>\n",
       "<table border=\"1\" class=\"dataframe\">\n",
       "  <thead>\n",
       "    <tr style=\"text-align: right;\">\n",
       "      <th></th>\n",
       "      <th>student_id</th>\n",
       "      <th>question_id</th>\n",
       "      <th>text</th>\n",
       "      <th>gender</th>\n",
       "      <th>native_language</th>\n",
       "      <th>question</th>\n",
       "      <th>tokens</th>\n",
       "      <th>token_count</th>\n",
       "      <th>types</th>\n",
       "      <th>type_count</th>\n",
       "      <th>TTR</th>\n",
       "      <th>sent_tokens</th>\n",
       "      <th>sent_tokens_count</th>\n",
       "    </tr>\n",
       "  </thead>\n",
       "  <tbody>\n",
       "    <tr>\n",
       "      <th>43439</th>\n",
       "      <td>gu2</td>\n",
       "      <td>5796</td>\n",
       "      <td>They see the online shopping do pollution but ...</td>\n",
       "      <td>NaN</td>\n",
       "      <td>NaN</td>\n",
       "      <td>Chapter 5: \"A Cleaner Way to Shop?\"  \\n\\nChoos...</td>\n",
       "      <td>[They, see, the, online, shopping, do, polluti...</td>\n",
       "      <td>109</td>\n",
       "      <td>{multiple, smaller, heard, do, opposed, goods,...</td>\n",
       "      <td>79</td>\n",
       "      <td>0.724771</td>\n",
       "      <td>[They see the online shopping do pollution but...</td>\n",
       "      <td>6</td>\n",
       "    </tr>\n",
       "    <tr>\n",
       "      <th>753</th>\n",
       "      <td>cq4</td>\n",
       "      <td>37</td>\n",
       "      <td>1-Mismanagement\\nSentence: So if they were nom...</td>\n",
       "      <td>Female</td>\n",
       "      <td>Arabic</td>\n",
       "      <td>For each of the following words, write the sen...</td>\n",
       "      <td>[1-Mismanagement, Sentence, :, So, if, they, w...</td>\n",
       "      <td>198</td>\n",
       "      <td>{persuade, method, speech, The, 2, someone, wa...</td>\n",
       "      <td>116</td>\n",
       "      <td>0.585859</td>\n",
       "      <td>[1-Mismanagement\\nSentence: So if they were no...</td>\n",
       "      <td>11</td>\n",
       "    </tr>\n",
       "    <tr>\n",
       "      <th>23677</th>\n",
       "      <td>dp5</td>\n",
       "      <td>3279</td>\n",
       "      <td>What I do everyday is boring. I wake up 8:45...</td>\n",
       "      <td>Male</td>\n",
       "      <td>Korean</td>\n",
       "      <td>Be sure to write a paragraph with at least 7 s...</td>\n",
       "      <td>[What, I, do, everyday, is, boring, ., I, wake...</td>\n",
       "      <td>109</td>\n",
       "      <td>{homework, shower, smoke, do, same, for, of, c...</td>\n",
       "      <td>60</td>\n",
       "      <td>0.550459</td>\n",
       "      <td>[  What I do everyday is boring., I wake up 8:...</td>\n",
       "      <td>9</td>\n",
       "    </tr>\n",
       "    <tr>\n",
       "      <th>39150</th>\n",
       "      <td>gw1</td>\n",
       "      <td>5238</td>\n",
       "      <td>Before making a decision about what I will stu...</td>\n",
       "      <td>Male</td>\n",
       "      <td>Arabic</td>\n",
       "      <td>Acknowledge  Ambiguous    Crucial    Compensat...</td>\n",
       "      <td>[Before, making, a, decision, about, what, I, ...</td>\n",
       "      <td>274</td>\n",
       "      <td>{Aziz, understand, chance, thinking, The, me, ...</td>\n",
       "      <td>133</td>\n",
       "      <td>0.485401</td>\n",
       "      <td>[Before making a decision about what I will st...</td>\n",
       "      <td>15</td>\n",
       "    </tr>\n",
       "    <tr>\n",
       "      <th>23987</th>\n",
       "      <td>ce2</td>\n",
       "      <td>3288</td>\n",
       "      <td>While I was living in Germany, I met my f...</td>\n",
       "      <td>Male</td>\n",
       "      <td>Arabic</td>\n",
       "      <td>Your topic sentence can be:  \"I met my friend ...</td>\n",
       "      <td>[While, I, was, living, in, Germany, ,, I, met...</td>\n",
       "      <td>79</td>\n",
       "      <td>{living, same, friend, second, of, me, things,...</td>\n",
       "      <td>47</td>\n",
       "      <td>0.594937</td>\n",
       "      <td>[     While I was living in Germany, I met my ...</td>\n",
       "      <td>5</td>\n",
       "    </tr>\n",
       "  </tbody>\n",
       "</table>\n",
       "</div>"
      ],
      "text/plain": [
       "      student_id  question_id  \\\n",
       "43439        gu2         5796   \n",
       "753          cq4           37   \n",
       "23677        dp5         3279   \n",
       "39150        gw1         5238   \n",
       "23987        ce2         3288   \n",
       "\n",
       "                                                    text  gender  \\\n",
       "43439  They see the online shopping do pollution but ...     NaN   \n",
       "753    1-Mismanagement\\nSentence: So if they were nom...  Female   \n",
       "23677    What I do everyday is boring. I wake up 8:45...    Male   \n",
       "39150  Before making a decision about what I will stu...    Male   \n",
       "23987       While I was living in Germany, I met my f...    Male   \n",
       "\n",
       "      native_language                                           question  \\\n",
       "43439             NaN  Chapter 5: \"A Cleaner Way to Shop?\"  \\n\\nChoos...   \n",
       "753            Arabic  For each of the following words, write the sen...   \n",
       "23677          Korean  Be sure to write a paragraph with at least 7 s...   \n",
       "39150          Arabic  Acknowledge  Ambiguous    Crucial    Compensat...   \n",
       "23987          Arabic  Your topic sentence can be:  \"I met my friend ...   \n",
       "\n",
       "                                                  tokens  token_count  \\\n",
       "43439  [They, see, the, online, shopping, do, polluti...          109   \n",
       "753    [1-Mismanagement, Sentence, :, So, if, they, w...          198   \n",
       "23677  [What, I, do, everyday, is, boring, ., I, wake...          109   \n",
       "39150  [Before, making, a, decision, about, what, I, ...          274   \n",
       "23987  [While, I, was, living, in, Germany, ,, I, met...           79   \n",
       "\n",
       "                                                   types  type_count  \\\n",
       "43439  {multiple, smaller, heard, do, opposed, goods,...          79   \n",
       "753    {persuade, method, speech, The, 2, someone, wa...         116   \n",
       "23677  {homework, shower, smoke, do, same, for, of, c...          60   \n",
       "39150  {Aziz, understand, chance, thinking, The, me, ...         133   \n",
       "23987  {living, same, friend, second, of, me, things,...          47   \n",
       "\n",
       "            TTR                                        sent_tokens  \\\n",
       "43439  0.724771  [They see the online shopping do pollution but...   \n",
       "753    0.585859  [1-Mismanagement\\nSentence: So if they were no...   \n",
       "23677  0.550459  [  What I do everyday is boring., I wake up 8:...   \n",
       "39150  0.485401  [Before making a decision about what I will st...   \n",
       "23987  0.594937  [     While I was living in Germany, I met my ...   \n",
       "\n",
       "       sent_tokens_count  \n",
       "43439                  6  \n",
       "753                   11  \n",
       "23677                  9  \n",
       "39150                 15  \n",
       "23987                  5  "
      ]
     },
     "execution_count": 16,
     "metadata": {},
     "output_type": "execute_result"
    }
   ],
   "source": [
    "df_eli_revised['sent_tokens'] = df_eli_revised.text.map(nltk.sent_tokenize)\n",
    "df_eli_revised['sent_tokens_count'] = df_eli_revised.sent_tokens.map(len)\n",
    "df_eli_revised.head()"
   ]
  },
  {
   "cell_type": "code",
   "execution_count": 17,
   "metadata": {},
   "outputs": [
    {
     "data": {
      "text/html": [
       "<div>\n",
       "<style scoped>\n",
       "    .dataframe tbody tr th:only-of-type {\n",
       "        vertical-align: middle;\n",
       "    }\n",
       "\n",
       "    .dataframe tbody tr th {\n",
       "        vertical-align: top;\n",
       "    }\n",
       "\n",
       "    .dataframe thead th {\n",
       "        text-align: right;\n",
       "    }\n",
       "</style>\n",
       "<table border=\"1\" class=\"dataframe\">\n",
       "  <thead>\n",
       "    <tr style=\"text-align: right;\">\n",
       "      <th></th>\n",
       "      <th>student_id</th>\n",
       "      <th>question_id</th>\n",
       "      <th>text</th>\n",
       "      <th>gender</th>\n",
       "      <th>native_language</th>\n",
       "      <th>question</th>\n",
       "      <th>tokens</th>\n",
       "      <th>token_count</th>\n",
       "      <th>types</th>\n",
       "      <th>type_count</th>\n",
       "      <th>TTR</th>\n",
       "      <th>sent_tokens</th>\n",
       "      <th>sent_tokens_count</th>\n",
       "      <th>sent_avg</th>\n",
       "    </tr>\n",
       "  </thead>\n",
       "  <tbody>\n",
       "    <tr>\n",
       "      <th>43439</th>\n",
       "      <td>gu2</td>\n",
       "      <td>5796</td>\n",
       "      <td>They see the online shopping do pollution but ...</td>\n",
       "      <td>NaN</td>\n",
       "      <td>NaN</td>\n",
       "      <td>Chapter 5: \"A Cleaner Way to Shop?\"  \\n\\nChoos...</td>\n",
       "      <td>[They, see, the, online, shopping, do, polluti...</td>\n",
       "      <td>109</td>\n",
       "      <td>{multiple, smaller, heard, do, opposed, goods,...</td>\n",
       "      <td>79</td>\n",
       "      <td>0.724771</td>\n",
       "      <td>[They see the online shopping do pollution but...</td>\n",
       "      <td>6</td>\n",
       "      <td>18.166667</td>\n",
       "    </tr>\n",
       "    <tr>\n",
       "      <th>753</th>\n",
       "      <td>cq4</td>\n",
       "      <td>37</td>\n",
       "      <td>1-Mismanagement\\nSentence: So if they were nom...</td>\n",
       "      <td>Female</td>\n",
       "      <td>Arabic</td>\n",
       "      <td>For each of the following words, write the sen...</td>\n",
       "      <td>[1-Mismanagement, Sentence, :, So, if, they, w...</td>\n",
       "      <td>198</td>\n",
       "      <td>{persuade, method, speech, The, 2, someone, wa...</td>\n",
       "      <td>116</td>\n",
       "      <td>0.585859</td>\n",
       "      <td>[1-Mismanagement\\nSentence: So if they were no...</td>\n",
       "      <td>11</td>\n",
       "      <td>18.000000</td>\n",
       "    </tr>\n",
       "    <tr>\n",
       "      <th>23677</th>\n",
       "      <td>dp5</td>\n",
       "      <td>3279</td>\n",
       "      <td>What I do everyday is boring. I wake up 8:45...</td>\n",
       "      <td>Male</td>\n",
       "      <td>Korean</td>\n",
       "      <td>Be sure to write a paragraph with at least 7 s...</td>\n",
       "      <td>[What, I, do, everyday, is, boring, ., I, wake...</td>\n",
       "      <td>109</td>\n",
       "      <td>{homework, shower, smoke, do, same, for, of, c...</td>\n",
       "      <td>60</td>\n",
       "      <td>0.550459</td>\n",
       "      <td>[  What I do everyday is boring., I wake up 8:...</td>\n",
       "      <td>9</td>\n",
       "      <td>12.111111</td>\n",
       "    </tr>\n",
       "    <tr>\n",
       "      <th>39150</th>\n",
       "      <td>gw1</td>\n",
       "      <td>5238</td>\n",
       "      <td>Before making a decision about what I will stu...</td>\n",
       "      <td>Male</td>\n",
       "      <td>Arabic</td>\n",
       "      <td>Acknowledge  Ambiguous    Crucial    Compensat...</td>\n",
       "      <td>[Before, making, a, decision, about, what, I, ...</td>\n",
       "      <td>274</td>\n",
       "      <td>{Aziz, understand, chance, thinking, The, me, ...</td>\n",
       "      <td>133</td>\n",
       "      <td>0.485401</td>\n",
       "      <td>[Before making a decision about what I will st...</td>\n",
       "      <td>15</td>\n",
       "      <td>18.266667</td>\n",
       "    </tr>\n",
       "    <tr>\n",
       "      <th>23987</th>\n",
       "      <td>ce2</td>\n",
       "      <td>3288</td>\n",
       "      <td>While I was living in Germany, I met my f...</td>\n",
       "      <td>Male</td>\n",
       "      <td>Arabic</td>\n",
       "      <td>Your topic sentence can be:  \"I met my friend ...</td>\n",
       "      <td>[While, I, was, living, in, Germany, ,, I, met...</td>\n",
       "      <td>79</td>\n",
       "      <td>{living, same, friend, second, of, me, things,...</td>\n",
       "      <td>47</td>\n",
       "      <td>0.594937</td>\n",
       "      <td>[     While I was living in Germany, I met my ...</td>\n",
       "      <td>5</td>\n",
       "      <td>15.800000</td>\n",
       "    </tr>\n",
       "  </tbody>\n",
       "</table>\n",
       "</div>"
      ],
      "text/plain": [
       "      student_id  question_id  \\\n",
       "43439        gu2         5796   \n",
       "753          cq4           37   \n",
       "23677        dp5         3279   \n",
       "39150        gw1         5238   \n",
       "23987        ce2         3288   \n",
       "\n",
       "                                                    text  gender  \\\n",
       "43439  They see the online shopping do pollution but ...     NaN   \n",
       "753    1-Mismanagement\\nSentence: So if they were nom...  Female   \n",
       "23677    What I do everyday is boring. I wake up 8:45...    Male   \n",
       "39150  Before making a decision about what I will stu...    Male   \n",
       "23987       While I was living in Germany, I met my f...    Male   \n",
       "\n",
       "      native_language                                           question  \\\n",
       "43439             NaN  Chapter 5: \"A Cleaner Way to Shop?\"  \\n\\nChoos...   \n",
       "753            Arabic  For each of the following words, write the sen...   \n",
       "23677          Korean  Be sure to write a paragraph with at least 7 s...   \n",
       "39150          Arabic  Acknowledge  Ambiguous    Crucial    Compensat...   \n",
       "23987          Arabic  Your topic sentence can be:  \"I met my friend ...   \n",
       "\n",
       "                                                  tokens  token_count  \\\n",
       "43439  [They, see, the, online, shopping, do, polluti...          109   \n",
       "753    [1-Mismanagement, Sentence, :, So, if, they, w...          198   \n",
       "23677  [What, I, do, everyday, is, boring, ., I, wake...          109   \n",
       "39150  [Before, making, a, decision, about, what, I, ...          274   \n",
       "23987  [While, I, was, living, in, Germany, ,, I, met...           79   \n",
       "\n",
       "                                                   types  type_count  \\\n",
       "43439  {multiple, smaller, heard, do, opposed, goods,...          79   \n",
       "753    {persuade, method, speech, The, 2, someone, wa...         116   \n",
       "23677  {homework, shower, smoke, do, same, for, of, c...          60   \n",
       "39150  {Aziz, understand, chance, thinking, The, me, ...         133   \n",
       "23987  {living, same, friend, second, of, me, things,...          47   \n",
       "\n",
       "            TTR                                        sent_tokens  \\\n",
       "43439  0.724771  [They see the online shopping do pollution but...   \n",
       "753    0.585859  [1-Mismanagement\\nSentence: So if they were no...   \n",
       "23677  0.550459  [  What I do everyday is boring., I wake up 8:...   \n",
       "39150  0.485401  [Before making a decision about what I will st...   \n",
       "23987  0.594937  [     While I was living in Germany, I met my ...   \n",
       "\n",
       "       sent_tokens_count   sent_avg  \n",
       "43439                  6  18.166667  \n",
       "753                   11  18.000000  \n",
       "23677                  9  12.111111  \n",
       "39150                 15  18.266667  \n",
       "23987                  5  15.800000  "
      ]
     },
     "execution_count": 17,
     "metadata": {},
     "output_type": "execute_result"
    }
   ],
   "source": [
    "sent_avg = df_eli_revised.token_count / df_eli_revised.sent_tokens_count\n",
    "df_eli_revised['sent_avg'] = sent_avg\n",
    "df_eli_revised.head()"
   ]
  },
  {
   "cell_type": "code",
   "execution_count": 18,
   "metadata": {},
   "outputs": [
    {
     "data": {
      "text/html": [
       "<div>\n",
       "<style scoped>\n",
       "    .dataframe tbody tr th:only-of-type {\n",
       "        vertical-align: middle;\n",
       "    }\n",
       "\n",
       "    .dataframe tbody tr th {\n",
       "        vertical-align: top;\n",
       "    }\n",
       "\n",
       "    .dataframe thead th {\n",
       "        text-align: right;\n",
       "    }\n",
       "</style>\n",
       "<table border=\"1\" class=\"dataframe\">\n",
       "  <thead>\n",
       "    <tr style=\"text-align: right;\">\n",
       "      <th></th>\n",
       "      <th>sent_avg</th>\n",
       "    </tr>\n",
       "    <tr>\n",
       "      <th>native_language</th>\n",
       "      <th></th>\n",
       "    </tr>\n",
       "  </thead>\n",
       "  <tbody>\n",
       "    <tr>\n",
       "      <th>Arabic</th>\n",
       "      <td>18.735205</td>\n",
       "    </tr>\n",
       "    <tr>\n",
       "      <th>Chinese</th>\n",
       "      <td>16.741165</td>\n",
       "    </tr>\n",
       "    <tr>\n",
       "      <th>Farsi</th>\n",
       "      <td>19.850000</td>\n",
       "    </tr>\n",
       "    <tr>\n",
       "      <th>French</th>\n",
       "      <td>14.946429</td>\n",
       "    </tr>\n",
       "    <tr>\n",
       "      <th>Italian</th>\n",
       "      <td>25.400000</td>\n",
       "    </tr>\n",
       "    <tr>\n",
       "      <th>Japanese</th>\n",
       "      <td>16.502796</td>\n",
       "    </tr>\n",
       "    <tr>\n",
       "      <th>Korean</th>\n",
       "      <td>20.626358</td>\n",
       "    </tr>\n",
       "    <tr>\n",
       "      <th>Other</th>\n",
       "      <td>18.259259</td>\n",
       "    </tr>\n",
       "    <tr>\n",
       "      <th>Portuguese</th>\n",
       "      <td>20.036190</td>\n",
       "    </tr>\n",
       "    <tr>\n",
       "      <th>Russian</th>\n",
       "      <td>21.500000</td>\n",
       "    </tr>\n",
       "    <tr>\n",
       "      <th>Spanish</th>\n",
       "      <td>27.022505</td>\n",
       "    </tr>\n",
       "    <tr>\n",
       "      <th>Taiwanese</th>\n",
       "      <td>13.909091</td>\n",
       "    </tr>\n",
       "    <tr>\n",
       "      <th>Thai</th>\n",
       "      <td>23.366667</td>\n",
       "    </tr>\n",
       "    <tr>\n",
       "      <th>Turkish</th>\n",
       "      <td>23.937755</td>\n",
       "    </tr>\n",
       "  </tbody>\n",
       "</table>\n",
       "</div>"
      ],
      "text/plain": [
       "                  sent_avg\n",
       "native_language           \n",
       "Arabic           18.735205\n",
       "Chinese          16.741165\n",
       "Farsi            19.850000\n",
       "French           14.946429\n",
       "Italian          25.400000\n",
       "Japanese         16.502796\n",
       "Korean           20.626358\n",
       "Other            18.259259\n",
       "Portuguese       20.036190\n",
       "Russian          21.500000\n",
       "Spanish          27.022505\n",
       "Taiwanese        13.909091\n",
       "Thai             23.366667\n",
       "Turkish          23.937755"
      ]
     },
     "execution_count": 18,
     "metadata": {},
     "output_type": "execute_result"
    }
   ],
   "source": [
    "syntactic_complexity = df_eli_revised[['native_language', 'sent_avg']].groupby('native_language').mean()\n",
    "syntactic_complexity"
   ]
  },
  {
   "cell_type": "code",
   "execution_count": 89,
   "metadata": {},
   "outputs": [
    {
     "data": {
      "image/png": "[encoded data removed]",
      "text/plain": [
       "<Figure size 864x360 with 1 Axes>"
      ]
     },
     "metadata": {},
     "output_type": "display_data"
    }
   ],
   "source": [
    "syntactic_complexity.iloc[:,0].plot(kind='bar', figsize=(12,5))   # Not saving output as a plot object\n",
    "plt.title('Figure 5: Average sentence length by L1', fontsize=16)          # Must use plt.title(), plt.xlabel() etc. \n",
    "plt.xlabel('L1 (native language of students)', fontsize=12)\n",
    "plt.ylabel('Average sentence length', fontsize=12)\n",
    "plt.show()"
   ]
  },
  {
   "cell_type": "markdown",
   "metadata": {},
   "source": [
    "- Again, we can take a look at Arabic, Chinese and Korean. The order is Korean - 20.626, Arabic - 18.735 and Chinese - 16.741. Korean intend to make longer sentences."
   ]
  },
  {
   "cell_type": "code",
   "execution_count": 19,
   "metadata": {},
   "outputs": [
    {
     "data": {
      "text/html": [
       "<div>\n",
       "<style scoped>\n",
       "    .dataframe tbody tr th:only-of-type {\n",
       "        vertical-align: middle;\n",
       "    }\n",
       "\n",
       "    .dataframe tbody tr th {\n",
       "        vertical-align: top;\n",
       "    }\n",
       "\n",
       "    .dataframe thead th {\n",
       "        text-align: right;\n",
       "    }\n",
       "</style>\n",
       "<table border=\"1\" class=\"dataframe\">\n",
       "  <thead>\n",
       "    <tr style=\"text-align: right;\">\n",
       "      <th></th>\n",
       "      <th>sent_avg</th>\n",
       "    </tr>\n",
       "    <tr>\n",
       "      <th>gender</th>\n",
       "      <th></th>\n",
       "    </tr>\n",
       "  </thead>\n",
       "  <tbody>\n",
       "    <tr>\n",
       "      <th>Female</th>\n",
       "      <td>19.150404</td>\n",
       "    </tr>\n",
       "    <tr>\n",
       "      <th>Male</th>\n",
       "      <td>20.047973</td>\n",
       "    </tr>\n",
       "  </tbody>\n",
       "</table>\n",
       "</div>"
      ],
      "text/plain": [
       "         sent_avg\n",
       "gender           \n",
       "Female  19.150404\n",
       "Male    20.047973"
      ]
     },
     "execution_count": 19,
     "metadata": {},
     "output_type": "execute_result"
    }
   ],
   "source": [
    "syntactic_complexity_gender = df_eli_revised[['gender', 'sent_avg']].groupby('gender').mean()\n",
    "syntactic_complexity_gender"
   ]
  },
  {
   "cell_type": "code",
   "execution_count": 91,
   "metadata": {},
   "outputs": [
    {
     "data": {
      "image/png": "[encoded data removed]",
      "text/plain": [
       "<Figure size 864x360 with 1 Axes>"
      ]
     },
     "metadata": {},
     "output_type": "display_data"
    }
   ],
   "source": [
    "syntactic_complexity_gender.iloc[:,0].plot(kind='bar', figsize=(12,5))   # Not saving output as a plot object\n",
    "plt.title('Figure 6: Average sentence length by gender', fontsize=16)          # Must use plt.title(), plt.xlabel() etc. \n",
    "plt.xlabel('gender', fontsize=12)\n",
    "plt.ylabel('Average sentence length', fontsize=12)\n",
    "plt.show()"
   ]
  },
  {
   "cell_type": "markdown",
   "metadata": {},
   "source": [
    "- The result shows that Male students intend to do longer sentences, but the difference is not obvious."
   ]
  },
  {
   "attachments": {},
   "cell_type": "markdown",
   "metadata": {},
   "source": [
    "### 3. Vocabulary level\n",
    "- 3a.  Average word length"
   ]
  },
  {
   "cell_type": "code",
   "execution_count": 20,
   "metadata": {},
   "outputs": [
    {
     "data": {
      "text/html": [
       "<div>\n",
       "<style scoped>\n",
       "    .dataframe tbody tr th:only-of-type {\n",
       "        vertical-align: middle;\n",
       "    }\n",
       "\n",
       "    .dataframe tbody tr th {\n",
       "        vertical-align: top;\n",
       "    }\n",
       "\n",
       "    .dataframe thead th {\n",
       "        text-align: right;\n",
       "    }\n",
       "</style>\n",
       "<table border=\"1\" class=\"dataframe\">\n",
       "  <thead>\n",
       "    <tr style=\"text-align: right;\">\n",
       "      <th></th>\n",
       "      <th>student_id</th>\n",
       "      <th>question_id</th>\n",
       "      <th>text</th>\n",
       "      <th>gender</th>\n",
       "      <th>native_language</th>\n",
       "      <th>question</th>\n",
       "      <th>tokens</th>\n",
       "      <th>token_count</th>\n",
       "      <th>types</th>\n",
       "      <th>type_count</th>\n",
       "      <th>TTR</th>\n",
       "      <th>sent_tokens</th>\n",
       "      <th>sent_tokens_count</th>\n",
       "      <th>sent_avg</th>\n",
       "    </tr>\n",
       "  </thead>\n",
       "  <tbody>\n",
       "    <tr>\n",
       "      <th>43439</th>\n",
       "      <td>gu2</td>\n",
       "      <td>5796</td>\n",
       "      <td>They see the online shopping do pollution but ...</td>\n",
       "      <td>NaN</td>\n",
       "      <td>NaN</td>\n",
       "      <td>Chapter 5: \"A Cleaner Way to Shop?\"  \\n\\nChoos...</td>\n",
       "      <td>[They, see, the, online, shopping, do, polluti...</td>\n",
       "      <td>109</td>\n",
       "      <td>{multiple, smaller, heard, do, opposed, goods,...</td>\n",
       "      <td>79</td>\n",
       "      <td>0.724771</td>\n",
       "      <td>[They see the online shopping do pollution but...</td>\n",
       "      <td>6</td>\n",
       "      <td>18.166667</td>\n",
       "    </tr>\n",
       "    <tr>\n",
       "      <th>753</th>\n",
       "      <td>cq4</td>\n",
       "      <td>37</td>\n",
       "      <td>1-Mismanagement\\nSentence: So if they were nom...</td>\n",
       "      <td>Female</td>\n",
       "      <td>Arabic</td>\n",
       "      <td>For each of the following words, write the sen...</td>\n",
       "      <td>[1-Mismanagement, Sentence, :, So, if, they, w...</td>\n",
       "      <td>198</td>\n",
       "      <td>{persuade, method, speech, The, 2, someone, wa...</td>\n",
       "      <td>116</td>\n",
       "      <td>0.585859</td>\n",
       "      <td>[1-Mismanagement\\nSentence: So if they were no...</td>\n",
       "      <td>11</td>\n",
       "      <td>18.000000</td>\n",
       "    </tr>\n",
       "    <tr>\n",
       "      <th>23677</th>\n",
       "      <td>dp5</td>\n",
       "      <td>3279</td>\n",
       "      <td>What I do everyday is boring. I wake up 8:45...</td>\n",
       "      <td>Male</td>\n",
       "      <td>Korean</td>\n",
       "      <td>Be sure to write a paragraph with at least 7 s...</td>\n",
       "      <td>[What, I, do, everyday, is, boring, ., I, wake...</td>\n",
       "      <td>109</td>\n",
       "      <td>{homework, shower, smoke, do, same, for, of, c...</td>\n",
       "      <td>60</td>\n",
       "      <td>0.550459</td>\n",
       "      <td>[  What I do everyday is boring., I wake up 8:...</td>\n",
       "      <td>9</td>\n",
       "      <td>12.111111</td>\n",
       "    </tr>\n",
       "    <tr>\n",
       "      <th>39150</th>\n",
       "      <td>gw1</td>\n",
       "      <td>5238</td>\n",
       "      <td>Before making a decision about what I will stu...</td>\n",
       "      <td>Male</td>\n",
       "      <td>Arabic</td>\n",
       "      <td>Acknowledge  Ambiguous    Crucial    Compensat...</td>\n",
       "      <td>[Before, making, a, decision, about, what, I, ...</td>\n",
       "      <td>274</td>\n",
       "      <td>{Aziz, understand, chance, thinking, The, me, ...</td>\n",
       "      <td>133</td>\n",
       "      <td>0.485401</td>\n",
       "      <td>[Before making a decision about what I will st...</td>\n",
       "      <td>15</td>\n",
       "      <td>18.266667</td>\n",
       "    </tr>\n",
       "    <tr>\n",
       "      <th>23987</th>\n",
       "      <td>ce2</td>\n",
       "      <td>3288</td>\n",
       "      <td>While I was living in Germany, I met my f...</td>\n",
       "      <td>Male</td>\n",
       "      <td>Arabic</td>\n",
       "      <td>Your topic sentence can be:  \"I met my friend ...</td>\n",
       "      <td>[While, I, was, living, in, Germany, ,, I, met...</td>\n",
       "      <td>79</td>\n",
       "      <td>{living, same, friend, second, of, me, things,...</td>\n",
       "      <td>47</td>\n",
       "      <td>0.594937</td>\n",
       "      <td>[     While I was living in Germany, I met my ...</td>\n",
       "      <td>5</td>\n",
       "      <td>15.800000</td>\n",
       "    </tr>\n",
       "  </tbody>\n",
       "</table>\n",
       "</div>"
      ],
      "text/plain": [
       "      student_id  question_id  \\\n",
       "43439        gu2         5796   \n",
       "753          cq4           37   \n",
       "23677        dp5         3279   \n",
       "39150        gw1         5238   \n",
       "23987        ce2         3288   \n",
       "\n",
       "                                                    text  gender  \\\n",
       "43439  They see the online shopping do pollution but ...     NaN   \n",
       "753    1-Mismanagement\\nSentence: So if they were nom...  Female   \n",
       "23677    What I do everyday is boring. I wake up 8:45...    Male   \n",
       "39150  Before making a decision about what I will stu...    Male   \n",
       "23987       While I was living in Germany, I met my f...    Male   \n",
       "\n",
       "      native_language                                           question  \\\n",
       "43439             NaN  Chapter 5: \"A Cleaner Way to Shop?\"  \\n\\nChoos...   \n",
       "753            Arabic  For each of the following words, write the sen...   \n",
       "23677          Korean  Be sure to write a paragraph with at least 7 s...   \n",
       "39150          Arabic  Acknowledge  Ambiguous    Crucial    Compensat...   \n",
       "23987          Arabic  Your topic sentence can be:  \"I met my friend ...   \n",
       "\n",
       "                                                  tokens  token_count  \\\n",
       "43439  [They, see, the, online, shopping, do, polluti...          109   \n",
       "753    [1-Mismanagement, Sentence, :, So, if, they, w...          198   \n",
       "23677  [What, I, do, everyday, is, boring, ., I, wake...          109   \n",
       "39150  [Before, making, a, decision, about, what, I, ...          274   \n",
       "23987  [While, I, was, living, in, Germany, ,, I, met...           79   \n",
       "\n",
       "                                                   types  type_count  \\\n",
       "43439  {multiple, smaller, heard, do, opposed, goods,...          79   \n",
       "753    {persuade, method, speech, The, 2, someone, wa...         116   \n",
       "23677  {homework, shower, smoke, do, same, for, of, c...          60   \n",
       "39150  {Aziz, understand, chance, thinking, The, me, ...         133   \n",
       "23987  {living, same, friend, second, of, me, things,...          47   \n",
       "\n",
       "            TTR                                        sent_tokens  \\\n",
       "43439  0.724771  [They see the online shopping do pollution but...   \n",
       "753    0.585859  [1-Mismanagement\\nSentence: So if they were no...   \n",
       "23677  0.550459  [  What I do everyday is boring., I wake up 8:...   \n",
       "39150  0.485401  [Before making a decision about what I will st...   \n",
       "23987  0.594937  [     While I was living in Germany, I met my ...   \n",
       "\n",
       "       sent_tokens_count   sent_avg  \n",
       "43439                  6  18.166667  \n",
       "753                   11  18.000000  \n",
       "23677                  9  12.111111  \n",
       "39150                 15  18.266667  \n",
       "23987                  5  15.800000  "
      ]
     },
     "execution_count": 20,
     "metadata": {},
     "output_type": "execute_result"
    }
   ],
   "source": [
    "df_eli_revised.head()"
   ]
  },
  {
   "cell_type": "code",
   "execution_count": 21,
   "metadata": {},
   "outputs": [],
   "source": [
    "def avg_word_length(token):\n",
    "\n",
    "    word_length = []\n",
    "\n",
    "    for x in token:\n",
    "        word_length.append(len(x))\n",
    "        \n",
    "    return np.mean(word_length)"
   ]
  },
  {
   "cell_type": "code",
   "execution_count": 22,
   "metadata": {},
   "outputs": [
    {
     "data": {
      "text/html": [
       "<div>\n",
       "<style scoped>\n",
       "    .dataframe tbody tr th:only-of-type {\n",
       "        vertical-align: middle;\n",
       "    }\n",
       "\n",
       "    .dataframe tbody tr th {\n",
       "        vertical-align: top;\n",
       "    }\n",
       "\n",
       "    .dataframe thead th {\n",
       "        text-align: right;\n",
       "    }\n",
       "</style>\n",
       "<table border=\"1\" class=\"dataframe\">\n",
       "  <thead>\n",
       "    <tr style=\"text-align: right;\">\n",
       "      <th></th>\n",
       "      <th>student_id</th>\n",
       "      <th>question_id</th>\n",
       "      <th>text</th>\n",
       "      <th>gender</th>\n",
       "      <th>native_language</th>\n",
       "      <th>question</th>\n",
       "      <th>tokens</th>\n",
       "      <th>token_count</th>\n",
       "      <th>types</th>\n",
       "      <th>type_count</th>\n",
       "      <th>TTR</th>\n",
       "      <th>sent_tokens</th>\n",
       "      <th>sent_tokens_count</th>\n",
       "      <th>sent_avg</th>\n",
       "      <th>avg_word_length</th>\n",
       "    </tr>\n",
       "  </thead>\n",
       "  <tbody>\n",
       "    <tr>\n",
       "      <th>43439</th>\n",
       "      <td>gu2</td>\n",
       "      <td>5796</td>\n",
       "      <td>They see the online shopping do pollution but ...</td>\n",
       "      <td>NaN</td>\n",
       "      <td>NaN</td>\n",
       "      <td>Chapter 5: \"A Cleaner Way to Shop?\"  \\n\\nChoos...</td>\n",
       "      <td>[They, see, the, online, shopping, do, polluti...</td>\n",
       "      <td>109</td>\n",
       "      <td>{multiple, smaller, heard, do, opposed, goods,...</td>\n",
       "      <td>79</td>\n",
       "      <td>0.724771</td>\n",
       "      <td>[They see the online shopping do pollution but...</td>\n",
       "      <td>6</td>\n",
       "      <td>18.166667</td>\n",
       "      <td>4.614679</td>\n",
       "    </tr>\n",
       "    <tr>\n",
       "      <th>753</th>\n",
       "      <td>cq4</td>\n",
       "      <td>37</td>\n",
       "      <td>1-Mismanagement\\nSentence: So if they were nom...</td>\n",
       "      <td>Female</td>\n",
       "      <td>Arabic</td>\n",
       "      <td>For each of the following words, write the sen...</td>\n",
       "      <td>[1-Mismanagement, Sentence, :, So, if, they, w...</td>\n",
       "      <td>198</td>\n",
       "      <td>{persuade, method, speech, The, 2, someone, wa...</td>\n",
       "      <td>116</td>\n",
       "      <td>0.585859</td>\n",
       "      <td>[1-Mismanagement\\nSentence: So if they were no...</td>\n",
       "      <td>11</td>\n",
       "      <td>18.000000</td>\n",
       "      <td>4.636364</td>\n",
       "    </tr>\n",
       "    <tr>\n",
       "      <th>23677</th>\n",
       "      <td>dp5</td>\n",
       "      <td>3279</td>\n",
       "      <td>What I do everyday is boring. I wake up 8:45...</td>\n",
       "      <td>Male</td>\n",
       "      <td>Korean</td>\n",
       "      <td>Be sure to write a paragraph with at least 7 s...</td>\n",
       "      <td>[What, I, do, everyday, is, boring, ., I, wake...</td>\n",
       "      <td>109</td>\n",
       "      <td>{homework, shower, smoke, do, same, for, of, c...</td>\n",
       "      <td>60</td>\n",
       "      <td>0.550459</td>\n",
       "      <td>[  What I do everyday is boring., I wake up 8:...</td>\n",
       "      <td>9</td>\n",
       "      <td>12.111111</td>\n",
       "      <td>3.302752</td>\n",
       "    </tr>\n",
       "    <tr>\n",
       "      <th>39150</th>\n",
       "      <td>gw1</td>\n",
       "      <td>5238</td>\n",
       "      <td>Before making a decision about what I will stu...</td>\n",
       "      <td>Male</td>\n",
       "      <td>Arabic</td>\n",
       "      <td>Acknowledge  Ambiguous    Crucial    Compensat...</td>\n",
       "      <td>[Before, making, a, decision, about, what, I, ...</td>\n",
       "      <td>274</td>\n",
       "      <td>{Aziz, understand, chance, thinking, The, me, ...</td>\n",
       "      <td>133</td>\n",
       "      <td>0.485401</td>\n",
       "      <td>[Before making a decision about what I will st...</td>\n",
       "      <td>15</td>\n",
       "      <td>18.266667</td>\n",
       "      <td>4.072993</td>\n",
       "    </tr>\n",
       "    <tr>\n",
       "      <th>23987</th>\n",
       "      <td>ce2</td>\n",
       "      <td>3288</td>\n",
       "      <td>While I was living in Germany, I met my f...</td>\n",
       "      <td>Male</td>\n",
       "      <td>Arabic</td>\n",
       "      <td>Your topic sentence can be:  \"I met my friend ...</td>\n",
       "      <td>[While, I, was, living, in, Germany, ,, I, met...</td>\n",
       "      <td>79</td>\n",
       "      <td>{living, same, friend, second, of, me, things,...</td>\n",
       "      <td>47</td>\n",
       "      <td>0.594937</td>\n",
       "      <td>[     While I was living in Germany, I met my ...</td>\n",
       "      <td>5</td>\n",
       "      <td>15.800000</td>\n",
       "      <td>3.316456</td>\n",
       "    </tr>\n",
       "  </tbody>\n",
       "</table>\n",
       "</div>"
      ],
      "text/plain": [
       "      student_id  question_id  \\\n",
       "43439        gu2         5796   \n",
       "753          cq4           37   \n",
       "23677        dp5         3279   \n",
       "39150        gw1         5238   \n",
       "23987        ce2         3288   \n",
       "\n",
       "                                                    text  gender  \\\n",
       "43439  They see the online shopping do pollution but ...     NaN   \n",
       "753    1-Mismanagement\\nSentence: So if they were nom...  Female   \n",
       "23677    What I do everyday is boring. I wake up 8:45...    Male   \n",
       "39150  Before making a decision about what I will stu...    Male   \n",
       "23987       While I was living in Germany, I met my f...    Male   \n",
       "\n",
       "      native_language                                           question  \\\n",
       "43439             NaN  Chapter 5: \"A Cleaner Way to Shop?\"  \\n\\nChoos...   \n",
       "753            Arabic  For each of the following words, write the sen...   \n",
       "23677          Korean  Be sure to write a paragraph with at least 7 s...   \n",
       "39150          Arabic  Acknowledge  Ambiguous    Crucial    Compensat...   \n",
       "23987          Arabic  Your topic sentence can be:  \"I met my friend ...   \n",
       "\n",
       "                                                  tokens  token_count  \\\n",
       "43439  [They, see, the, online, shopping, do, polluti...          109   \n",
       "753    [1-Mismanagement, Sentence, :, So, if, they, w...          198   \n",
       "23677  [What, I, do, everyday, is, boring, ., I, wake...          109   \n",
       "39150  [Before, making, a, decision, about, what, I, ...          274   \n",
       "23987  [While, I, was, living, in, Germany, ,, I, met...           79   \n",
       "\n",
       "                                                   types  type_count  \\\n",
       "43439  {multiple, smaller, heard, do, opposed, goods,...          79   \n",
       "753    {persuade, method, speech, The, 2, someone, wa...         116   \n",
       "23677  {homework, shower, smoke, do, same, for, of, c...          60   \n",
       "39150  {Aziz, understand, chance, thinking, The, me, ...         133   \n",
       "23987  {living, same, friend, second, of, me, things,...          47   \n",
       "\n",
       "            TTR                                        sent_tokens  \\\n",
       "43439  0.724771  [They see the online shopping do pollution but...   \n",
       "753    0.585859  [1-Mismanagement\\nSentence: So if they were no...   \n",
       "23677  0.550459  [  What I do everyday is boring., I wake up 8:...   \n",
       "39150  0.485401  [Before making a decision about what I will st...   \n",
       "23987  0.594937  [     While I was living in Germany, I met my ...   \n",
       "\n",
       "       sent_tokens_count   sent_avg  avg_word_length  \n",
       "43439                  6  18.166667         4.614679  \n",
       "753                   11  18.000000         4.636364  \n",
       "23677                  9  12.111111         3.302752  \n",
       "39150                 15  18.266667         4.072993  \n",
       "23987                  5  15.800000         3.316456  "
      ]
     },
     "execution_count": 22,
     "metadata": {},
     "output_type": "execute_result"
    }
   ],
   "source": [
    "df_eli_revised['avg_word_length'] = df_eli_revised.tokens.map(avg_word_length)\n",
    "df_eli_revised.head()"
   ]
  },
  {
   "cell_type": "code",
   "execution_count": 23,
   "metadata": {},
   "outputs": [
    {
     "data": {
      "text/html": [
       "<div>\n",
       "<style scoped>\n",
       "    .dataframe tbody tr th:only-of-type {\n",
       "        vertical-align: middle;\n",
       "    }\n",
       "\n",
       "    .dataframe tbody tr th {\n",
       "        vertical-align: top;\n",
       "    }\n",
       "\n",
       "    .dataframe thead th {\n",
       "        text-align: right;\n",
       "    }\n",
       "</style>\n",
       "<table border=\"1\" class=\"dataframe\">\n",
       "  <thead>\n",
       "    <tr style=\"text-align: right;\">\n",
       "      <th></th>\n",
       "      <th>avg_word_length</th>\n",
       "    </tr>\n",
       "    <tr>\n",
       "      <th>native_language</th>\n",
       "      <th></th>\n",
       "    </tr>\n",
       "  </thead>\n",
       "  <tbody>\n",
       "    <tr>\n",
       "      <th>Arabic</th>\n",
       "      <td>3.927877</td>\n",
       "    </tr>\n",
       "    <tr>\n",
       "      <th>Chinese</th>\n",
       "      <td>4.137694</td>\n",
       "    </tr>\n",
       "    <tr>\n",
       "      <th>Farsi</th>\n",
       "      <td>4.221662</td>\n",
       "    </tr>\n",
       "    <tr>\n",
       "      <th>French</th>\n",
       "      <td>4.165224</td>\n",
       "    </tr>\n",
       "    <tr>\n",
       "      <th>Italian</th>\n",
       "      <td>3.720472</td>\n",
       "    </tr>\n",
       "    <tr>\n",
       "      <th>Japanese</th>\n",
       "      <td>4.020432</td>\n",
       "    </tr>\n",
       "    <tr>\n",
       "      <th>Korean</th>\n",
       "      <td>3.853987</td>\n",
       "    </tr>\n",
       "    <tr>\n",
       "      <th>Other</th>\n",
       "      <td>3.953159</td>\n",
       "    </tr>\n",
       "    <tr>\n",
       "      <th>Portuguese</th>\n",
       "      <td>4.484370</td>\n",
       "    </tr>\n",
       "    <tr>\n",
       "      <th>Russian</th>\n",
       "      <td>4.410853</td>\n",
       "    </tr>\n",
       "    <tr>\n",
       "      <th>Spanish</th>\n",
       "      <td>3.961537</td>\n",
       "    </tr>\n",
       "    <tr>\n",
       "      <th>Taiwanese</th>\n",
       "      <td>3.993464</td>\n",
       "    </tr>\n",
       "    <tr>\n",
       "      <th>Thai</th>\n",
       "      <td>4.268041</td>\n",
       "    </tr>\n",
       "    <tr>\n",
       "      <th>Turkish</th>\n",
       "      <td>4.426625</td>\n",
       "    </tr>\n",
       "  </tbody>\n",
       "</table>\n",
       "</div>"
      ],
      "text/plain": [
       "                 avg_word_length\n",
       "native_language                 \n",
       "Arabic                  3.927877\n",
       "Chinese                 4.137694\n",
       "Farsi                   4.221662\n",
       "French                  4.165224\n",
       "Italian                 3.720472\n",
       "Japanese                4.020432\n",
       "Korean                  3.853987\n",
       "Other                   3.953159\n",
       "Portuguese              4.484370\n",
       "Russian                 4.410853\n",
       "Spanish                 3.961537\n",
       "Taiwanese               3.993464\n",
       "Thai                    4.268041\n",
       "Turkish                 4.426625"
      ]
     },
     "execution_count": 23,
     "metadata": {},
     "output_type": "execute_result"
    }
   ],
   "source": [
    "avg_word_length = df_eli_revised[['native_language', 'avg_word_length']].groupby('native_language').mean()\n",
    "avg_word_length"
   ]
  },
  {
   "cell_type": "code",
   "execution_count": 92,
   "metadata": {},
   "outputs": [
    {
     "data": {
      "image/png": "[encoded data removed]",
      "text/plain": [
       "<Figure size 864x360 with 1 Axes>"
      ]
     },
     "metadata": {},
     "output_type": "display_data"
    }
   ],
   "source": [
    "avg_word_length.iloc[:,0].plot(kind='bar', figsize=(12,5))   # Not saving output as a plot object\n",
    "plt.title('Figure 7: Average word length by L1', fontsize=16)          # Must use plt.title(), plt.xlabel() etc. \n",
    "plt.xlabel('L1 (native language of students)', fontsize=12)\n",
    "plt.ylabel('Average word length', fontsize=12)\n",
    "plt.show()"
   ]
  },
  {
   "cell_type": "markdown",
   "metadata": {},
   "source": [
    "- The order of average word length is Chinese - 4.138, Arabic - 3.928 and Korean - 3.854. Chinese may have higher vocabulary level."
   ]
  },
  {
   "cell_type": "code",
   "execution_count": 24,
   "metadata": {},
   "outputs": [
    {
     "data": {
      "text/html": [
       "<div>\n",
       "<style scoped>\n",
       "    .dataframe tbody tr th:only-of-type {\n",
       "        vertical-align: middle;\n",
       "    }\n",
       "\n",
       "    .dataframe tbody tr th {\n",
       "        vertical-align: top;\n",
       "    }\n",
       "\n",
       "    .dataframe thead th {\n",
       "        text-align: right;\n",
       "    }\n",
       "</style>\n",
       "<table border=\"1\" class=\"dataframe\">\n",
       "  <thead>\n",
       "    <tr style=\"text-align: right;\">\n",
       "      <th></th>\n",
       "      <th>avg_word_length</th>\n",
       "    </tr>\n",
       "    <tr>\n",
       "      <th>gender</th>\n",
       "      <th></th>\n",
       "    </tr>\n",
       "  </thead>\n",
       "  <tbody>\n",
       "    <tr>\n",
       "      <th>Female</th>\n",
       "      <td>3.979419</td>\n",
       "    </tr>\n",
       "    <tr>\n",
       "      <th>Male</th>\n",
       "      <td>4.023723</td>\n",
       "    </tr>\n",
       "  </tbody>\n",
       "</table>\n",
       "</div>"
      ],
      "text/plain": [
       "        avg_word_length\n",
       "gender                 \n",
       "Female         3.979419\n",
       "Male           4.023723"
      ]
     },
     "execution_count": 24,
     "metadata": {},
     "output_type": "execute_result"
    }
   ],
   "source": [
    "avg_word_length_gender = df_eli_revised[['gender', 'avg_word_length']].groupby('gender').mean()\n",
    "avg_word_length_gender"
   ]
  },
  {
   "cell_type": "code",
   "execution_count": 93,
   "metadata": {},
   "outputs": [
    {
     "data": {
      "image/png": "[encoded data removed]",
      "text/plain": [
       "<Figure size 864x360 with 1 Axes>"
      ]
     },
     "metadata": {},
     "output_type": "display_data"
    }
   ],
   "source": [
    "avg_word_length_gender.iloc[:,0].plot(kind='bar', figsize=(12,5))   # Not saving output as a plot object\n",
    "plt.title('Figure 8: Average word length by gender', fontsize=16)          # Must use plt.title(), plt.xlabel() etc. \n",
    "plt.xlabel('gender', fontsize=12)\n",
    "plt.ylabel('Average word length', fontsize=12)\n",
    "plt.show()"
   ]
  },
  {
   "cell_type": "markdown",
   "metadata": {},
   "source": [
    "- The difference is not obvious within average word length. "
   ]
  },
  {
   "cell_type": "markdown",
   "metadata": {},
   "source": [
    "- 3b. Top most frequent English words"
   ]
  },
  {
   "cell_type": "code",
   "execution_count": 25,
   "metadata": {},
   "outputs": [],
   "source": [
    "f = open('goog_kband.pkl', 'rb')\n",
    "goog_kband = pickle.load(f)\n",
    "f.close()"
   ]
  },
  {
   "cell_type": "code",
   "execution_count": 26,
   "metadata": {},
   "outputs": [],
   "source": [
    "def avg_voc_band(token):\n",
    "        \n",
    "    voc_band = [goog_kband[x] for x in token if x in goog_kband]\n",
    "        \n",
    "    return np.mean(voc_band)"
   ]
  },
  {
   "cell_type": "code",
   "execution_count": 27,
   "metadata": {},
   "outputs": [
    {
     "data": {
      "text/html": [
       "<div>\n",
       "<style scoped>\n",
       "    .dataframe tbody tr th:only-of-type {\n",
       "        vertical-align: middle;\n",
       "    }\n",
       "\n",
       "    .dataframe tbody tr th {\n",
       "        vertical-align: top;\n",
       "    }\n",
       "\n",
       "    .dataframe thead th {\n",
       "        text-align: right;\n",
       "    }\n",
       "</style>\n",
       "<table border=\"1\" class=\"dataframe\">\n",
       "  <thead>\n",
       "    <tr style=\"text-align: right;\">\n",
       "      <th></th>\n",
       "      <th>student_id</th>\n",
       "      <th>question_id</th>\n",
       "      <th>text</th>\n",
       "      <th>gender</th>\n",
       "      <th>native_language</th>\n",
       "      <th>question</th>\n",
       "      <th>tokens</th>\n",
       "      <th>token_count</th>\n",
       "      <th>types</th>\n",
       "      <th>type_count</th>\n",
       "      <th>TTR</th>\n",
       "      <th>sent_tokens</th>\n",
       "      <th>sent_tokens_count</th>\n",
       "      <th>sent_avg</th>\n",
       "      <th>avg_word_length</th>\n",
       "      <th>avg_voc_band</th>\n",
       "    </tr>\n",
       "  </thead>\n",
       "  <tbody>\n",
       "    <tr>\n",
       "      <th>43439</th>\n",
       "      <td>gu2</td>\n",
       "      <td>5796</td>\n",
       "      <td>They see the online shopping do pollution but ...</td>\n",
       "      <td>NaN</td>\n",
       "      <td>NaN</td>\n",
       "      <td>Chapter 5: \"A Cleaner Way to Shop?\"  \\n\\nChoos...</td>\n",
       "      <td>[They, see, the, online, shopping, do, polluti...</td>\n",
       "      <td>109</td>\n",
       "      <td>{multiple, smaller, heard, do, opposed, goods,...</td>\n",
       "      <td>79</td>\n",
       "      <td>0.724771</td>\n",
       "      <td>[They see the online shopping do pollution but...</td>\n",
       "      <td>6</td>\n",
       "      <td>18.166667</td>\n",
       "      <td>4.614679</td>\n",
       "      <td>2.376344</td>\n",
       "    </tr>\n",
       "    <tr>\n",
       "      <th>753</th>\n",
       "      <td>cq4</td>\n",
       "      <td>37</td>\n",
       "      <td>1-Mismanagement\\nSentence: So if they were nom...</td>\n",
       "      <td>Female</td>\n",
       "      <td>Arabic</td>\n",
       "      <td>For each of the following words, write the sen...</td>\n",
       "      <td>[1-Mismanagement, Sentence, :, So, if, they, w...</td>\n",
       "      <td>198</td>\n",
       "      <td>{persuade, method, speech, The, 2, someone, wa...</td>\n",
       "      <td>116</td>\n",
       "      <td>0.585859</td>\n",
       "      <td>[1-Mismanagement\\nSentence: So if they were no...</td>\n",
       "      <td>11</td>\n",
       "      <td>18.000000</td>\n",
       "      <td>4.636364</td>\n",
       "      <td>1.826087</td>\n",
       "    </tr>\n",
       "    <tr>\n",
       "      <th>23677</th>\n",
       "      <td>dp5</td>\n",
       "      <td>3279</td>\n",
       "      <td>What I do everyday is boring. I wake up 8:45...</td>\n",
       "      <td>Male</td>\n",
       "      <td>Korean</td>\n",
       "      <td>Be sure to write a paragraph with at least 7 s...</td>\n",
       "      <td>[What, I, do, everyday, is, boring, ., I, wake...</td>\n",
       "      <td>109</td>\n",
       "      <td>{homework, shower, smoke, do, same, for, of, c...</td>\n",
       "      <td>60</td>\n",
       "      <td>0.550459</td>\n",
       "      <td>[  What I do everyday is boring., I wake up 8:...</td>\n",
       "      <td>9</td>\n",
       "      <td>12.111111</td>\n",
       "      <td>3.302752</td>\n",
       "      <td>1.828571</td>\n",
       "    </tr>\n",
       "    <tr>\n",
       "      <th>39150</th>\n",
       "      <td>gw1</td>\n",
       "      <td>5238</td>\n",
       "      <td>Before making a decision about what I will stu...</td>\n",
       "      <td>Male</td>\n",
       "      <td>Arabic</td>\n",
       "      <td>Acknowledge  Ambiguous    Crucial    Compensat...</td>\n",
       "      <td>[Before, making, a, decision, about, what, I, ...</td>\n",
       "      <td>274</td>\n",
       "      <td>{Aziz, understand, chance, thinking, The, me, ...</td>\n",
       "      <td>133</td>\n",
       "      <td>0.485401</td>\n",
       "      <td>[Before making a decision about what I will st...</td>\n",
       "      <td>15</td>\n",
       "      <td>18.266667</td>\n",
       "      <td>4.072993</td>\n",
       "      <td>1.600000</td>\n",
       "    </tr>\n",
       "    <tr>\n",
       "      <th>23987</th>\n",
       "      <td>ce2</td>\n",
       "      <td>3288</td>\n",
       "      <td>While I was living in Germany, I met my f...</td>\n",
       "      <td>Male</td>\n",
       "      <td>Arabic</td>\n",
       "      <td>Your topic sentence can be:  \"I met my friend ...</td>\n",
       "      <td>[While, I, was, living, in, Germany, ,, I, met...</td>\n",
       "      <td>79</td>\n",
       "      <td>{living, same, friend, second, of, me, things,...</td>\n",
       "      <td>47</td>\n",
       "      <td>0.594937</td>\n",
       "      <td>[     While I was living in Germany, I met my ...</td>\n",
       "      <td>5</td>\n",
       "      <td>15.800000</td>\n",
       "      <td>3.316456</td>\n",
       "      <td>1.186441</td>\n",
       "    </tr>\n",
       "  </tbody>\n",
       "</table>\n",
       "</div>"
      ],
      "text/plain": [
       "      student_id  question_id  \\\n",
       "43439        gu2         5796   \n",
       "753          cq4           37   \n",
       "23677        dp5         3279   \n",
       "39150        gw1         5238   \n",
       "23987        ce2         3288   \n",
       "\n",
       "                                                    text  gender  \\\n",
       "43439  They see the online shopping do pollution but ...     NaN   \n",
       "753    1-Mismanagement\\nSentence: So if they were nom...  Female   \n",
       "23677    What I do everyday is boring. I wake up 8:45...    Male   \n",
       "39150  Before making a decision about what I will stu...    Male   \n",
       "23987       While I was living in Germany, I met my f...    Male   \n",
       "\n",
       "      native_language                                           question  \\\n",
       "43439             NaN  Chapter 5: \"A Cleaner Way to Shop?\"  \\n\\nChoos...   \n",
       "753            Arabic  For each of the following words, write the sen...   \n",
       "23677          Korean  Be sure to write a paragraph with at least 7 s...   \n",
       "39150          Arabic  Acknowledge  Ambiguous    Crucial    Compensat...   \n",
       "23987          Arabic  Your topic sentence can be:  \"I met my friend ...   \n",
       "\n",
       "                                                  tokens  token_count  \\\n",
       "43439  [They, see, the, online, shopping, do, polluti...          109   \n",
       "753    [1-Mismanagement, Sentence, :, So, if, they, w...          198   \n",
       "23677  [What, I, do, everyday, is, boring, ., I, wake...          109   \n",
       "39150  [Before, making, a, decision, about, what, I, ...          274   \n",
       "23987  [While, I, was, living, in, Germany, ,, I, met...           79   \n",
       "\n",
       "                                                   types  type_count  \\\n",
       "43439  {multiple, smaller, heard, do, opposed, goods,...          79   \n",
       "753    {persuade, method, speech, The, 2, someone, wa...         116   \n",
       "23677  {homework, shower, smoke, do, same, for, of, c...          60   \n",
       "39150  {Aziz, understand, chance, thinking, The, me, ...         133   \n",
       "23987  {living, same, friend, second, of, me, things,...          47   \n",
       "\n",
       "            TTR                                        sent_tokens  \\\n",
       "43439  0.724771  [They see the online shopping do pollution but...   \n",
       "753    0.585859  [1-Mismanagement\\nSentence: So if they were no...   \n",
       "23677  0.550459  [  What I do everyday is boring., I wake up 8:...   \n",
       "39150  0.485401  [Before making a decision about what I will st...   \n",
       "23987  0.594937  [     While I was living in Germany, I met my ...   \n",
       "\n",
       "       sent_tokens_count   sent_avg  avg_word_length  avg_voc_band  \n",
       "43439                  6  18.166667         4.614679      2.376344  \n",
       "753                   11  18.000000         4.636364      1.826087  \n",
       "23677                  9  12.111111         3.302752      1.828571  \n",
       "39150                 15  18.266667         4.072993      1.600000  \n",
       "23987                  5  15.800000         3.316456      1.186441  "
      ]
     },
     "execution_count": 27,
     "metadata": {},
     "output_type": "execute_result"
    }
   ],
   "source": [
    "df_eli_revised['avg_voc_band'] = df_eli_revised.tokens.map(avg_voc_band)\n",
    "df_eli_revised.head()"
   ]
  },
  {
   "cell_type": "code",
   "execution_count": 28,
   "metadata": {},
   "outputs": [
    {
     "data": {
      "text/html": [
       "<div>\n",
       "<style scoped>\n",
       "    .dataframe tbody tr th:only-of-type {\n",
       "        vertical-align: middle;\n",
       "    }\n",
       "\n",
       "    .dataframe tbody tr th {\n",
       "        vertical-align: top;\n",
       "    }\n",
       "\n",
       "    .dataframe thead th {\n",
       "        text-align: right;\n",
       "    }\n",
       "</style>\n",
       "<table border=\"1\" class=\"dataframe\">\n",
       "  <thead>\n",
       "    <tr style=\"text-align: right;\">\n",
       "      <th></th>\n",
       "      <th>avg_voc_band</th>\n",
       "    </tr>\n",
       "    <tr>\n",
       "      <th>native_language</th>\n",
       "      <th></th>\n",
       "    </tr>\n",
       "  </thead>\n",
       "  <tbody>\n",
       "    <tr>\n",
       "      <th>Arabic</th>\n",
       "      <td>1.748736</td>\n",
       "    </tr>\n",
       "    <tr>\n",
       "      <th>Chinese</th>\n",
       "      <td>1.879797</td>\n",
       "    </tr>\n",
       "    <tr>\n",
       "      <th>Farsi</th>\n",
       "      <td>2.377049</td>\n",
       "    </tr>\n",
       "    <tr>\n",
       "      <th>French</th>\n",
       "      <td>1.817873</td>\n",
       "    </tr>\n",
       "    <tr>\n",
       "      <th>Italian</th>\n",
       "      <td>1.488506</td>\n",
       "    </tr>\n",
       "    <tr>\n",
       "      <th>Japanese</th>\n",
       "      <td>1.987135</td>\n",
       "    </tr>\n",
       "    <tr>\n",
       "      <th>Korean</th>\n",
       "      <td>1.957680</td>\n",
       "    </tr>\n",
       "    <tr>\n",
       "      <th>Other</th>\n",
       "      <td>1.996413</td>\n",
       "    </tr>\n",
       "    <tr>\n",
       "      <th>Portuguese</th>\n",
       "      <td>2.210521</td>\n",
       "    </tr>\n",
       "    <tr>\n",
       "      <th>Russian</th>\n",
       "      <td>2.130982</td>\n",
       "    </tr>\n",
       "    <tr>\n",
       "      <th>Spanish</th>\n",
       "      <td>2.040885</td>\n",
       "    </tr>\n",
       "    <tr>\n",
       "      <th>Taiwanese</th>\n",
       "      <td>2.000000</td>\n",
       "    </tr>\n",
       "    <tr>\n",
       "      <th>Thai</th>\n",
       "      <td>2.138741</td>\n",
       "    </tr>\n",
       "    <tr>\n",
       "      <th>Turkish</th>\n",
       "      <td>2.097370</td>\n",
       "    </tr>\n",
       "  </tbody>\n",
       "</table>\n",
       "</div>"
      ],
      "text/plain": [
       "                 avg_voc_band\n",
       "native_language              \n",
       "Arabic               1.748736\n",
       "Chinese              1.879797\n",
       "Farsi                2.377049\n",
       "French               1.817873\n",
       "Italian              1.488506\n",
       "Japanese             1.987135\n",
       "Korean               1.957680\n",
       "Other                1.996413\n",
       "Portuguese           2.210521\n",
       "Russian              2.130982\n",
       "Spanish              2.040885\n",
       "Taiwanese            2.000000\n",
       "Thai                 2.138741\n",
       "Turkish              2.097370"
      ]
     },
     "execution_count": 28,
     "metadata": {},
     "output_type": "execute_result"
    }
   ],
   "source": [
    "avg_voc_band = df_eli_revised[['native_language', 'avg_voc_band']].groupby('native_language').mean()\n",
    "avg_voc_band"
   ]
  },
  {
   "cell_type": "code",
   "execution_count": 94,
   "metadata": {},
   "outputs": [
    {
     "data": {
      "image/png": "[encoded data removed]",
      "text/plain": [
       "<Figure size 864x360 with 1 Axes>"
      ]
     },
     "metadata": {},
     "output_type": "display_data"
    }
   ],
   "source": [
    "avg_voc_band.iloc[:,0].plot(kind='bar', figsize=(12,5))   # Not saving output as a plot object\n",
    "plt.title('Figure 9: Top most frequent English words by L1', fontsize=16)          # Must use plt.title(), plt.xlabel() etc. \n",
    "plt.xlabel('L1 (native language of students)', fontsize=12)\n",
    "plt.ylabel('Top most frequent English words', fontsize=12)\n",
    "plt.show()"
   ]
  },
  {
   "cell_type": "markdown",
   "metadata": {},
   "source": [
    "- With higher value, students tend to write more sophisticated words. Select Arabic, Chinese and Korean, the order is Korean - 1.958, Chinese - 1.880 and Arabic - 1.749. Korean tend to write more sophisticated words."
   ]
  },
  {
   "cell_type": "code",
   "execution_count": 29,
   "metadata": {},
   "outputs": [
    {
     "data": {
      "text/html": [
       "<div>\n",
       "<style scoped>\n",
       "    .dataframe tbody tr th:only-of-type {\n",
       "        vertical-align: middle;\n",
       "    }\n",
       "\n",
       "    .dataframe tbody tr th {\n",
       "        vertical-align: top;\n",
       "    }\n",
       "\n",
       "    .dataframe thead th {\n",
       "        text-align: right;\n",
       "    }\n",
       "</style>\n",
       "<table border=\"1\" class=\"dataframe\">\n",
       "  <thead>\n",
       "    <tr style=\"text-align: right;\">\n",
       "      <th></th>\n",
       "      <th>avg_voc_band</th>\n",
       "    </tr>\n",
       "    <tr>\n",
       "      <th>gender</th>\n",
       "      <th></th>\n",
       "    </tr>\n",
       "  </thead>\n",
       "  <tbody>\n",
       "    <tr>\n",
       "      <th>Female</th>\n",
       "      <td>1.941454</td>\n",
       "    </tr>\n",
       "    <tr>\n",
       "      <th>Male</th>\n",
       "      <td>1.868640</td>\n",
       "    </tr>\n",
       "  </tbody>\n",
       "</table>\n",
       "</div>"
      ],
      "text/plain": [
       "        avg_voc_band\n",
       "gender              \n",
       "Female      1.941454\n",
       "Male        1.868640"
      ]
     },
     "execution_count": 29,
     "metadata": {},
     "output_type": "execute_result"
    }
   ],
   "source": [
    "avg_voc_band_gender = df_eli_revised[['gender', 'avg_voc_band']].groupby('gender').mean()\n",
    "avg_voc_band_gender"
   ]
  },
  {
   "cell_type": "code",
   "execution_count": 95,
   "metadata": {},
   "outputs": [
    {
     "data": {
      "image/png": "[encoded data removed]",
      "text/plain": [
       "<Figure size 864x360 with 1 Axes>"
      ]
     },
     "metadata": {},
     "output_type": "display_data"
    }
   ],
   "source": [
    "avg_voc_band_gender.iloc[:,0].plot(kind='bar', figsize=(12,5))   # Not saving output as a plot object\n",
    "plt.title('Figure 10: Top most frequent English words by gender', fontsize=16)          # Must use plt.title(), plt.xlabel() etc. \n",
    "plt.xlabel('gender', fontsize=12)\n",
    "plt.ylabel('Top most frequent English words', fontsize=12)\n",
    "plt.show()"
   ]
  },
  {
   "cell_type": "markdown",
   "metadata": {},
   "source": [
    "- Female students tend to write more sophisticated words."
   ]
  },
  {
   "cell_type": "markdown",
   "metadata": {},
   "source": [
    "### Apply spell checker\n",
    "- Peter Norvig python module\n",
    "- For the basic principle, we can check about the [spell.ipynb](https://github.com/Data-Science-for-Linguists-2019/Spell-Checker/blob/master/spell.ipynb) file."
   ]
  },
  {
   "cell_type": "code",
   "execution_count": 31,
   "metadata": {},
   "outputs": [],
   "source": [
    "from spell import correction"
   ]
  },
  {
   "cell_type": "code",
   "execution_count": 32,
   "metadata": {},
   "outputs": [
    {
     "data": {
      "text/plain": [
       "'spelling'"
      ]
     },
     "execution_count": 32,
     "metadata": {},
     "output_type": "execute_result"
    }
   ],
   "source": [
    "correction('spellin')"
   ]
  },
  {
   "cell_type": "markdown",
   "metadata": {},
   "source": [
    "- On the other hand, we can use the module that is already created.\n",
    "- This module is still based on Peter Norvig python module."
   ]
  },
  {
   "cell_type": "code",
   "execution_count": 35,
   "metadata": {},
   "outputs": [
    {
     "name": "stdout",
     "output_type": "stream",
     "text": [
      "Requirement already satisfied: pyspellchecker in /anaconda3/lib/python3.6/site-packages (0.4.0)\n",
      "\u001b[33mYou are using pip version 18.1, however version 19.0.3 is available.\n",
      "You should consider upgrading via the 'pip install --upgrade pip' command.\u001b[0m\n"
     ]
    }
   ],
   "source": [
    "!pip install pyspellchecker"
   ]
  },
  {
   "cell_type": "code",
   "execution_count": 73,
   "metadata": {},
   "outputs": [
    {
     "name": "stdout",
     "output_type": "stream",
     "text": [
      "mispelling words:  hapenning\n",
      "corrected words:  happening\n",
      "\n",
      "candidate words:  {'happening', 'henning', 'penning'}\n"
     ]
    }
   ],
   "source": [
    "from spellchecker import SpellChecker\n",
    "\n",
    "spell = SpellChecker()\n",
    "\n",
    "# find those words that may be misspelled\n",
    "misspelled = spell.unknown(['something', 'is', 'hapenning', 'here'])\n",
    "\n",
    "for word in misspelled:\n",
    "    # Get the one 'most likely' answer\n",
    "    print('misspelling words: ', word)\n",
    "    print('corrected words: ', spell.correction(word))\n",
    "    print()\n",
    "    \n",
    "    # Get a list of 'likely' options\n",
    "    print('candidate words: ', spell.candidates(word))"
   ]
  },
  {
   "cell_type": "code",
   "execution_count": 75,
   "metadata": {},
   "outputs": [
    {
     "name": "stdout",
     "output_type": "stream",
     "text": [
      "mispelling words:  2-demonstration\n",
      "corrected words:  demonstration\n",
      "\n",
      "candidate words:  {'demonstration'}\n",
      "-------------------------------\n",
      "mispelling words:  1-mismanagement\n",
      "corrected words:  mismanagement\n",
      "\n",
      "candidate words:  {'mismanagement'}\n",
      "-------------------------------\n",
      "mispelling words:  e.x\n",
      "corrected words:  e.\n",
      "\n",
      "candidate words:  {'ex.', 'e.g', 'e.', 'e.r', 'e.h', 'ex'}\n",
      "-------------------------------\n",
      "mispelling words:  3-orgainaize\n",
      "corrected words:  3-orgainaize\n",
      "\n",
      "candidate words:  {'3-orgainaize'}\n",
      "-------------------------------\n",
      "mispelling words:  crowly\n",
      "corrected words:  crowley\n",
      "\n",
      "candidate words:  {'crowley'}\n",
      "-------------------------------\n",
      "mispelling words:  5-religious\n",
      "corrected words:  religious\n",
      "\n",
      "candidate words:  {'irreligious', 'religious'}\n",
      "-------------------------------\n",
      "mispelling words:  .that\n",
      "corrected words:  that\n",
      "\n",
      "candidate words:  {'that'}\n",
      "-------------------------------\n",
      "mispelling words:  4-disagreement\n",
      "corrected words:  disagreement\n",
      "\n",
      "candidate words:  {'disagreement'}\n",
      "-------------------------------\n",
      "mispelling words:  6-construction\n",
      "corrected words:  construction\n",
      "\n",
      "candidate words:  {'reconstruction', 'deconstruction', 'construction', 're-construction'}\n",
      "-------------------------------\n"
     ]
    }
   ],
   "source": [
    "# find those words that may be misspelled\n",
    "misspelled = spell.unknown(df_eli_revised.iloc[1, 6])\n",
    "\n",
    "for word in misspelled:\n",
    "    # Get the one 'most likely' answer\n",
    "    print('misspelling words: ', word)\n",
    "    print('corrected words: ', spell.correction(word))\n",
    "    print()\n",
    "    \n",
    "    # Get a list of 'likely' options\n",
    "    print('candidate words: ', spell.candidates(word))\n",
    "    print('-------------------------------')"
   ]
  },
  {
   "cell_type": "markdown",
   "metadata": {},
   "source": [
    "- It looks like the model select the wrong target words. Let's look at the questions students were asked. "
   ]
  },
  {
   "cell_type": "code",
   "execution_count": 52,
   "metadata": {},
   "outputs": [
    {
     "name": "stdout",
     "output_type": "stream",
     "text": [
      "For each of the following words, write the sentence in which the word is found in Reading 6, the part of speech, and the dictionary definition.1.  mismanagement 2.  demonstration3.  organize4.  disagreement5.  religious6.(Your own word)\n",
      "\n",
      "1-Mismanagement\n",
      "Sentence: So if they were nominated there would be no question of mismanagement of funds.\n",
      "Part of speech: Noun\n",
      "Definition: he is in charge financial. \n",
      "2-Demonstration\n",
      "Sentence: In fact, they claim that Victor was helping to organize a demonstration against the employment policies of Crowly Engineering. \n",
      "Part of speech: Noun\n",
      "Definition: An action, fact, etc .that proves that someone or something has particular quality, ability, emotion, etc.\n",
      "3-Orgainaize\n",
      "Sentence: E.X. 2\n",
      "Part of speech: Verb\n",
      "Definition: To form UNION or persuade people to join one.\n",
      "4-Disagreement\n",
      "Sentence: Mr. Crowly and his son, Victor had some very public disagreements on the construction of government housing for the poor.\n",
      "Part of speech: Noun\n",
      "Definition: A situation in which people express different opinions about something .\n",
      "5-Religious\n",
      "Sentence: Interviews with their friends show that they did not want their children to attend religious school.\n",
      "6-Construction\n",
      "Sentence: E.X. 4\n",
      "Part of speech: Noun\n",
      "Definition: The process or method of building something large such as a house, road.\n"
     ]
    }
   ],
   "source": [
    "print(df_eli_revised.iloc[1, 5].replace('\\n', ''))  # the question\n",
    "print()\n",
    "print(df_eli_revised.iloc[1, 2])  # the text"
   ]
  },
  {
   "cell_type": "markdown",
   "metadata": {},
   "source": [
    "- This is not a real essay, it is likely the definition of words. The spell checker detects the words which are not our target. \n",
    "- How about narrowing down the scope of the text? We can choose essays only."
   ]
  },
  {
   "cell_type": "code",
   "execution_count": 57,
   "metadata": {},
   "outputs": [
    {
     "name": "stdout",
     "output_type": "stream",
     "text": [
      "(22, 11)\n"
     ]
    }
   ],
   "source": [
    "df_eli_250 = df_eli[df_eli.token_count >= 250]\n",
    "df_eli_250 = df_eli_250[df_eli_250.token_count <= 400]\n",
    "print(df_eli_250.shape)"
   ]
  },
  {
   "cell_type": "code",
   "execution_count": 58,
   "metadata": {
    "scrolled": true
   },
   "outputs": [
    {
     "data": {
      "text/html": [
       "<div>\n",
       "<style scoped>\n",
       "    .dataframe tbody tr th:only-of-type {\n",
       "        vertical-align: middle;\n",
       "    }\n",
       "\n",
       "    .dataframe tbody tr th {\n",
       "        vertical-align: top;\n",
       "    }\n",
       "\n",
       "    .dataframe thead th {\n",
       "        text-align: right;\n",
       "    }\n",
       "</style>\n",
       "<table border=\"1\" class=\"dataframe\">\n",
       "  <thead>\n",
       "    <tr style=\"text-align: right;\">\n",
       "      <th></th>\n",
       "      <th>student_id</th>\n",
       "      <th>question_id</th>\n",
       "      <th>text</th>\n",
       "      <th>gender</th>\n",
       "      <th>native_language</th>\n",
       "      <th>question</th>\n",
       "      <th>tokens</th>\n",
       "      <th>token_count</th>\n",
       "      <th>types</th>\n",
       "      <th>type_count</th>\n",
       "      <th>TTR</th>\n",
       "    </tr>\n",
       "  </thead>\n",
       "  <tbody>\n",
       "    <tr>\n",
       "      <th>39150</th>\n",
       "      <td>gw1</td>\n",
       "      <td>5238</td>\n",
       "      <td>Before making a decision about what I will stu...</td>\n",
       "      <td>Male</td>\n",
       "      <td>Arabic</td>\n",
       "      <td>Acknowledge  Ambiguous    Crucial    Compensat...</td>\n",
       "      <td>[Before, making, a, decision, about, what, I, ...</td>\n",
       "      <td>274</td>\n",
       "      <td>{Aziz, understand, chance, thinking, The, me, ...</td>\n",
       "      <td>133</td>\n",
       "      <td>0.485401</td>\n",
       "    </tr>\n",
       "    <tr>\n",
       "      <th>17249</th>\n",
       "      <td>dd4</td>\n",
       "      <td>2499</td>\n",
       "      <td>I think that one of the most important decisio...</td>\n",
       "      <td>Female</td>\n",
       "      <td>Italian</td>\n",
       "      <td>Question 1\\nThink of an important decision you...</td>\n",
       "      <td>[I, think, that, one, of, the, most, important...</td>\n",
       "      <td>254</td>\n",
       "      <td>{do, me, met, taking, finally, believe, many, ...</td>\n",
       "      <td>112</td>\n",
       "      <td>0.440945</td>\n",
       "    </tr>\n",
       "    <tr>\n",
       "      <th>37083</th>\n",
       "      <td>db5</td>\n",
       "      <td>5030</td>\n",
       "      <td>\\n                                 NOWRUZ HOLI...</td>\n",
       "      <td>Male</td>\n",
       "      <td>Farsi</td>\n",
       "      <td>Post your 'Process Essay' here.  Remember to r...</td>\n",
       "      <td>[NOWRUZ, HOLIDAY, We, have, a, fantastic, holi...</td>\n",
       "      <td>397</td>\n",
       "      <td>{rice, shopping, chance, The, me, days, agree,...</td>\n",
       "      <td>190</td>\n",
       "      <td>0.478589</td>\n",
       "    </tr>\n",
       "    <tr>\n",
       "      <th>7120</th>\n",
       "      <td>ac3</td>\n",
       "      <td>1092</td>\n",
       "      <td>Do not disclose too much personal information ...</td>\n",
       "      <td>Female</td>\n",
       "      <td>Chinese</td>\n",
       "      <td>What do you think of Dr. Schwartz's advice?  C...</td>\n",
       "      <td>[Do, not, disclose, too, much, personal, infor...</td>\n",
       "      <td>259</td>\n",
       "      <td>{whole, do, authenticity, second, chance, foll...</td>\n",
       "      <td>121</td>\n",
       "      <td>0.467181</td>\n",
       "    </tr>\n",
       "    <tr>\n",
       "      <th>22682</th>\n",
       "      <td>gj2</td>\n",
       "      <td>3077</td>\n",
       "      <td>Insomnia is a sleeping disorder characteri...</td>\n",
       "      <td>Male</td>\n",
       "      <td>Arabic</td>\n",
       "      <td>Write the first draft of your problem/solution...</td>\n",
       "      <td>[Insomnia, is, a, sleeping, disorder, characte...</td>\n",
       "      <td>370</td>\n",
       "      <td>{cases, recommendation, tried, method, its, la...</td>\n",
       "      <td>215</td>\n",
       "      <td>0.581081</td>\n",
       "    </tr>\n",
       "  </tbody>\n",
       "</table>\n",
       "</div>"
      ],
      "text/plain": [
       "      student_id  question_id  \\\n",
       "39150        gw1         5238   \n",
       "17249        dd4         2499   \n",
       "37083        db5         5030   \n",
       "7120         ac3         1092   \n",
       "22682        gj2         3077   \n",
       "\n",
       "                                                    text  gender  \\\n",
       "39150  Before making a decision about what I will stu...    Male   \n",
       "17249  I think that one of the most important decisio...  Female   \n",
       "37083  \\n                                 NOWRUZ HOLI...    Male   \n",
       "7120   Do not disclose too much personal information ...  Female   \n",
       "22682      Insomnia is a sleeping disorder characteri...    Male   \n",
       "\n",
       "      native_language                                           question  \\\n",
       "39150          Arabic  Acknowledge  Ambiguous    Crucial    Compensat...   \n",
       "17249         Italian  Question 1\\nThink of an important decision you...   \n",
       "37083           Farsi  Post your 'Process Essay' here.  Remember to r...   \n",
       "7120          Chinese  What do you think of Dr. Schwartz's advice?  C...   \n",
       "22682          Arabic  Write the first draft of your problem/solution...   \n",
       "\n",
       "                                                  tokens  token_count  \\\n",
       "39150  [Before, making, a, decision, about, what, I, ...          274   \n",
       "17249  [I, think, that, one, of, the, most, important...          254   \n",
       "37083  [NOWRUZ, HOLIDAY, We, have, a, fantastic, holi...          397   \n",
       "7120   [Do, not, disclose, too, much, personal, infor...          259   \n",
       "22682  [Insomnia, is, a, sleeping, disorder, characte...          370   \n",
       "\n",
       "                                                   types  type_count       TTR  \n",
       "39150  {Aziz, understand, chance, thinking, The, me, ...         133  0.485401  \n",
       "17249  {do, me, met, taking, finally, believe, many, ...         112  0.440945  \n",
       "37083  {rice, shopping, chance, The, me, days, agree,...         190  0.478589  \n",
       "7120   {whole, do, authenticity, second, chance, foll...         121  0.467181  \n",
       "22682  {cases, recommendation, tried, method, its, la...         215  0.581081  "
      ]
     },
     "execution_count": 58,
     "metadata": {},
     "output_type": "execute_result"
    }
   ],
   "source": [
    "df_eli_250.head()"
   ]
  },
  {
   "cell_type": "code",
   "execution_count": 62,
   "metadata": {},
   "outputs": [
    {
     "name": "stdout",
     "output_type": "stream",
     "text": [
      "Acknowledge  Ambiguous    Crucial    Compensate         Abstract     Attribute    Philosophy\n",
      "Generate     Arbitrary    Inherent\n",
      "                                \n",
      "In your Essay, please HIGHLIGHT the vocabulary words you have chosen.\n",
      "-----------------------\n",
      "Before making a decision about what I will study, I thought it was very difficult decision and not easy, because I didn't have any trend or philosophy about any things. In the same time, Having depended on it and my dream will be truth, it is very a crucial decision. I wanted to ask my parents about it what they wanted me to become. They told me that think about your ability and about your future and try to generate something will help people in all life. I started thinking about something is will help humanity in different aspects. I decided to ask some friends who are closed from me. Some of them gave me ambiguous opinion that is difficult to understand other told me that I should study in medical field. When I was in high school, some teachers told me that I ought to study in medical field that will help people to recovery from diseases. They attributed me by bringing some materials that will help me to get acceptance in university.\n",
      "\n",
      "I decided to apply in university, having called King Abdul Aziz University. I applied in medical school, having had more than three exams that made my chance for acceptance very low. I passed two exams that are very easy. The third one is very difficult and I cannot pass. I choose other university that it accepted me after I took two exams. Now I'll continue in medical fields that will be helpful for my future.\n"
     ]
    }
   ],
   "source": [
    "print(df_eli_250.iloc[0, 5])  # the question\n",
    "print('-----------------------'\n",
    "print(df_eli_250.iloc[0, 2])  # the text"
   ]
  },
  {
   "cell_type": "code",
   "execution_count": 64,
   "metadata": {},
   "outputs": [
    {
     "name": "stdout",
     "output_type": "stream",
     "text": [
      "Question 1\n",
      "Think of an important decision you have made in your life. What was that decision?   What would've happened if you had made a different decision? How would your life be different now?  Are you happy you made the decision, or do you wish you that you had made a different decision?\n",
      "\n",
      "Use at least 4 conditional statements.  Extra credit:  use 1 wish statement.\n",
      "-----------------------\n",
      "I think that one of the most important decision I've made in my life was the choice of the University. \n",
      "When I graduated from Hight School I was 18 years old and I was confused about my future. My father wanted me to become an engineer, but my dream was to become a medical doctor. I thought a lot before taking that decision, but finally I decided to start the School of Medicine.\n",
      "\n",
      "I'm sure I've made the right choice, but sometimes I wish I could know what would've happened if I had made a different decision.\n",
      "\n",
      "If I were an engineer, I wouldn't know too many things about diseases and maybe I would be less Hypochondriac! \n",
      "But let's think of my private life. If I hadn't attended the School of Medicine, I wouldn't have met a lot of important persons, such as my fiance and the majority of my friends.\n",
      "My life would be boring if I hadn't met my friend Anna and I wouldn't be here in Pittsburgh if I hadn't met my fiance.\n",
      "\n",
      "If I had followed my father's advice, I would be a different person because I would have made different experiences; but, although I don't believe in the destiny, I like to think that in my \"parallel\" life something would have been the same.\n",
      "\n",
      "\n"
     ]
    }
   ],
   "source": [
    "print(df_eli_250.iloc[1, 5])  # the question\n",
    "print('-----------------------')\n",
    "print(df_eli_250.iloc[1, 2])  # the text"
   ]
  },
  {
   "cell_type": "code",
   "execution_count": 65,
   "metadata": {},
   "outputs": [
    {
     "name": "stdout",
     "output_type": "stream",
     "text": [
      "Post your 'Process Essay' here.  Remember to remove your name and single space your work before you submit it.\n",
      "-----------------------\n",
      "\n",
      "                                 NOWRUZ HOLIDAY \n",
      "        We have a fantastic holiday in my country called Nowruz. This holiday is at the beginning of spring, and it is thirteen days long. Before Nowruz people go shopping to buy fruits, nuts and pies. They also shop for new clothes and acquire gifts for the youngsters. Obviously, Nowruz is the most wonderful holiday for Iranian people because they meet their relatives, start a new year and eat tasty and delicious foods. \n",
      "     First, Nowruz is a great occasion in Iran because people meet their relatives and say Happy New Year to each other. In addition, people receive their guests with nuts, pastries and fruits such as pistachio and baklava. Furthermore, they review their old memories and tell teenagers stories about their life experiences. In addition, adults either buy presents or give money to young children to make them happy and cheerful.\n",
      "     Another aspect which makes Nowruz more fabulous is that it is the start of a new year. The members of each family cooperate in cleaning the house and preparing it for the special day. For example, one person cleans the windows and another one mops the floor. Moreover, they celebrate the New Year by wearing new clothes and decorating their houses. They put fresh flowers in vases and put them on the tables to make their house look more beautiful and have a nice aroma. Each family sets an elegant table by putting eggs, rice, vegetables, fruits, and our holy book Quran as a sign of thankfulness to God.\n",
      "     Finally, Nowruz is an amazing holiday because Iranian people eat tasty and delicious foods. Housewife of each family makes a special dish for certain days. For instance, she cooks white fish and rice for the first day, and she also makes an invigorating dip for lettuce on the last day of Nowruz.     \n",
      "     To sum up, I think you would agree with me that Nowruz is an awesome holiday for Iranians because they meet their relatives, start a new year and get the chance to enjoy tasty and delicious foods. I hope to celebrate Nowruz with my family every year for as long as I live. \n",
      "\n"
     ]
    }
   ],
   "source": [
    "print(df_eli_250.iloc[2, 5])  # the question\n",
    "print('-----------------------')\n",
    "print(df_eli_250.iloc[2, 2])  # the text"
   ]
  },
  {
   "cell_type": "markdown",
   "metadata": {},
   "source": [
    "- Great! These essays looks like what we want.\n",
    "- Try again with spell checker model."
   ]
  },
  {
   "cell_type": "code",
   "execution_count": 76,
   "metadata": {},
   "outputs": [
    {
     "name": "stdout",
     "output_type": "stream",
     "text": [
      "misspelling words:  'll\n",
      "corrected words:  all\n",
      "\n",
      "candidate words:  {'all', 'ell', 'rll', 'ill', 'cll', 'll'}\n",
      "-------------------------------\n"
     ]
    }
   ],
   "source": [
    "# find those words that may be misspelled\n",
    "misspelled = spell.unknown(df_eli_250.iloc[0, 6])\n",
    "\n",
    "for word in misspelled:\n",
    "    # Get the one 'most likely' answer\n",
    "    print('misspelling words: ', word)\n",
    "    print('corrected words: ', spell.correction(word))\n",
    "    print()\n",
    "    \n",
    "    # Get a list of 'likely' options\n",
    "    print('candidate words: ', spell.candidates(word))\n",
    "    print('-------------------------------')"
   ]
  },
  {
   "cell_type": "code",
   "execution_count": 77,
   "metadata": {},
   "outputs": [
    {
     "name": "stdout",
     "output_type": "stream",
     "text": [
      "misspelling words:  's\n",
      "corrected words:  is\n",
      "\n",
      "candidate words:  {'bs', 'cs', 'ks', 'qs', 'vs', \"f's\", 'ps', 'os', \"n's\", 'fs', \"d's\", \"u's\", 'xs', \"v's\", 'is', 'ms', \"c's\", \"e's\", \"l's\", 'ws', \"i's\", 'us', \"s'\", 'ys', \"o's\", \"m's\", \"p's\", 'ss', 'ls', \"s's\", \"y's\", \"x's\", 's', \"t's\", 'rs', \"'\", 'ds', \"g's\", 'es', 'ts', \"q's\", \"j's\", 'js', 'hs', \"a's\", \"w's\", 'gs', 'ns', 'as', \"k's\", \"b's\", \"z's\", \"r's\"}\n",
      "-------------------------------\n",
      "misspelling words:  've\n",
      "corrected words:  eve\n",
      "\n",
      "candidate words:  {'ive', 'eve', 'rve', 'ave', 've', 'ove'}\n",
      "-------------------------------\n",
      "misspelling words:  'm\n",
      "corrected words:  mm\n",
      "\n",
      "candidate words:  {\"c'm\", 'sm', 'mm', 'lm', 'pm', 'cm', 'qm', 'bm', 'wm', 'vm', \"m'\", 'hm', 'xm', 'am', 'em', 'om', 'dm', 'tm', 'rm', \"'\", 'fm', 'jm', 'km', 'im', 'nm', 'gm', 'm', 'um'}\n",
      "-------------------------------\n",
      "misspelling words:  ''\n",
      "corrected words:  d'\n",
      "\n",
      "candidate words:  {\"n'\", \"d'\", \"e'\", \"a'\", \"y'\", \"j'\", \"p'\", \"t'\", \"s'\", \"r'\", \"m'\", \"'\", \"f'\", \"c'\", \"o'\", \"i'\", \"q'\"}\n",
      "-------------------------------\n",
      "misspelling words:  hight\n",
      "corrected words:  right\n",
      "\n",
      "candidate words:  {'light', 'tight', 'wight', 'height', 'might', 'right', 'night', 'high-', 'highs', 'sight', 'high', 'eight', 'fight', 'bight'}\n",
      "-------------------------------\n",
      "misspelling words:  ``\n",
      "corrected words:  `\n",
      "\n",
      "candidate words:  {'`'}\n",
      "-------------------------------\n"
     ]
    }
   ],
   "source": [
    "# find those words that may be misspelled\n",
    "misspelled = spell.unknown(df_eli_250.iloc[1, 6])\n",
    "\n",
    "for word in misspelled:\n",
    "    # Get the one 'most likely' answer\n",
    "    print('misspelling words: ', word)\n",
    "    print('corrected words: ', spell.correction(word))\n",
    "    print()\n",
    "    \n",
    "    # Get a list of 'likely' options\n",
    "    print('candidate words: ', spell.candidates(word))\n",
    "    print('-------------------------------')"
   ]
  },
  {
   "cell_type": "markdown",
   "metadata": {},
   "source": [
    "- Most of the targets are from the contraction of two words, for example: \"'s\", \"'ve\", \"'m\" etc. In this case, we need the data that is pre-processed and without the contraction. Otherwise, after nltk.word_tokenize(txt) and spell checker processed, we may get the wrong correction."
   ]
  },
  {
   "cell_type": "code",
   "execution_count": 78,
   "metadata": {},
   "outputs": [
    {
     "name": "stdout",
     "output_type": "stream",
     "text": [
      "misspelling words:  nowruz\n",
      "corrected words:  nowruz\n",
      "\n",
      "candidate words:  {'nowruz'}\n",
      "-------------------------------\n",
      "misspelling words:  quran\n",
      "corrected words:  duran\n",
      "\n",
      "candidate words:  {\"qur'an\", 'qumran', 'duran'}\n",
      "-------------------------------\n",
      "misspelling words:  baklava\n",
      "corrected words:  baklava\n",
      "\n",
      "candidate words:  {'baklava'}\n",
      "-------------------------------\n"
     ]
    }
   ],
   "source": [
    "# find those words that may be misspelled\n",
    "misspelled = spell.unknown(df_eli_250.iloc[2, 6])\n",
    "\n",
    "for word in misspelled:\n",
    "    # Get the one 'most likely' answer\n",
    "    print('misspelling words: ', word)\n",
    "    print('corrected words: ', spell.correction(word))\n",
    "    print()\n",
    "    \n",
    "    # Get a list of 'likely' options\n",
    "    print('candidate words: ', spell.candidates(word))\n",
    "    print('-------------------------------')"
   ]
  },
  {
   "cell_type": "markdown",
   "metadata": {},
   "source": [
    "- In this case, the essay has many proper nouns. They will be detected as misspelling words and be corrected as the original words. This process is acceptable. However, there is still some exception like 'quran', the model corrects it as 'duran'. If we wanted to add this word, we can use spell.word_frequency.load_words(['txt']) to add proper nouns."
   ]
  },
  {
   "cell_type": "code",
   "execution_count": 80,
   "metadata": {},
   "outputs": [
    {
     "name": "stdout",
     "output_type": "stream",
     "text": [
      "misspelling words:  nowruz\n",
      "corrected words:  nowruz\n",
      "\n",
      "candidate words:  {'nowruz'}\n",
      "-------------------------------\n",
      "misspelling words:  baklava\n",
      "corrected words:  baklava\n",
      "\n",
      "candidate words:  {'baklava'}\n",
      "-------------------------------\n"
     ]
    }
   ],
   "source": [
    "spell.word_frequency.load_words(['quran'])\n",
    "\n",
    "# find those words that may be misspelled\n",
    "misspelled = spell.unknown(df_eli_250.iloc[2, 6])\n",
    "\n",
    "for word in misspelled:\n",
    "    # Get the one 'most likely' answer\n",
    "    print('misspelling words: ', word)\n",
    "    print('corrected words: ', spell.correction(word))\n",
    "    print()\n",
    "    \n",
    "    # Get a list of 'likely' options\n",
    "    print('candidate words: ', spell.candidates(word))\n",
    "    print('-------------------------------')"
   ]
  },
  {
   "cell_type": "markdown",
   "metadata": {},
   "source": [
    "- Then, we can get the better result. "
   ]
  },
  {
   "cell_type": "markdown",
   "metadata": {},
   "source": [
    "### Summary\n",
    "\n",
    "- In general, there are not many misspellings in the data. That may be caused by students have less error in the writing material.\n",
    "- The spell checker (by Peter Norvig) still has many restriction on data. The performance will be influenced by the dictionary and tokenized words. We need to choose the proper dictionary corresponding to our data. \n",
    "- This model may be more suitable to the speaking data which are written as the texts. The data may contains more spelling error than writing materials.\n",
    "- It may not be proper to replace the data we have now with the words that this spell checker model recommend. "
   ]
  },
  {
   "cell_type": "code",
   "execution_count": null,
   "metadata": {},
   "outputs": [],
   "source": []
  }
 ],
 "metadata": {
  "kernelspec": {
   "display_name": "Python 3",
   "language": "python",
   "name": "python3"
  },
  "language_info": {
   "codemirror_mode": {
    "name": "ipython",
    "version": 3
   },
   "file_extension": ".py",
   "mimetype": "text/x-python",
   "name": "python",
   "nbconvert_exporter": "python",
   "pygments_lexer": "ipython3",
   "version": "3.6.8"
  }
 },
 "nbformat": 4,
 "nbformat_minor": 2
}
