{
 "cells": [
  {
   "cell_type": "code",
   "execution_count": 1,
   "metadata": {},
   "outputs": [],
   "source": [
    "from spell import correction\n",
    "import pickle"
   ]
  },
  {
   "cell_type": "code",
   "execution_count": 2,
   "metadata": {},
   "outputs": [
    {
     "data": {
      "text/plain": [
       "'spelling'"
      ]
     },
     "execution_count": 2,
     "metadata": {},
     "output_type": "execute_result"
    }
   ],
   "source": [
    "correction('spellin')"
   ]
  },
  {
   "cell_type": "code",
   "execution_count": 3,
   "metadata": {},
   "outputs": [],
   "source": [
    "f = open('df_eli.pkl', 'rb')   # 'rb' for reading binary file\n",
    "df_eli = pickle.load(f)     \n",
    "f.close()"
   ]
  },
  {
   "cell_type": "code",
   "execution_count": 4,
   "metadata": {},
   "outputs": [
    {
     "name": "stdout",
     "output_type": "stream",
     "text": [
      "(492, 11)\n"
     ]
    },
    {
     "data": {
      "text/html": [
       "<div>\n",
       "<style scoped>\n",
       "    .dataframe tbody tr th:only-of-type {\n",
       "        vertical-align: middle;\n",
       "    }\n",
       "\n",
       "    .dataframe tbody tr th {\n",
       "        vertical-align: top;\n",
       "    }\n",
       "\n",
       "    .dataframe thead th {\n",
       "        text-align: right;\n",
       "    }\n",
       "</style>\n",
       "<table border=\"1\" class=\"dataframe\">\n",
       "  <thead>\n",
       "    <tr style=\"text-align: right;\">\n",
       "      <th></th>\n",
       "      <th>student_id</th>\n",
       "      <th>question_id</th>\n",
       "      <th>text</th>\n",
       "      <th>gender</th>\n",
       "      <th>native_language</th>\n",
       "      <th>question</th>\n",
       "      <th>tokens</th>\n",
       "      <th>token_count</th>\n",
       "      <th>types</th>\n",
       "      <th>type_count</th>\n",
       "      <th>TTR</th>\n",
       "    </tr>\n",
       "  </thead>\n",
       "  <tbody>\n",
       "    <tr>\n",
       "      <th>43439</th>\n",
       "      <td>gu2</td>\n",
       "      <td>5796</td>\n",
       "      <td>They see the online shopping do pollution but ...</td>\n",
       "      <td>NaN</td>\n",
       "      <td>NaN</td>\n",
       "      <td>Chapter 5: \"A Cleaner Way to Shop?\"  \\n\\nChoos...</td>\n",
       "      <td>[They, see, the, online, shopping, do, polluti...</td>\n",
       "      <td>109</td>\n",
       "      <td>{transporting, those, They, delivered, see, si...</td>\n",
       "      <td>79</td>\n",
       "      <td>0.724771</td>\n",
       "    </tr>\n",
       "    <tr>\n",
       "      <th>753</th>\n",
       "      <td>cq4</td>\n",
       "      <td>37</td>\n",
       "      <td>1-Mismanagement\\nSentence: So if they were nom...</td>\n",
       "      <td>Female</td>\n",
       "      <td>Arabic</td>\n",
       "      <td>For each of the following words, write the sen...</td>\n",
       "      <td>[1-Mismanagement, Sentence, :, So, if, they, w...</td>\n",
       "      <td>198</td>\n",
       "      <td>{Crowly, against, process, join, he, a, 1-Mism...</td>\n",
       "      <td>116</td>\n",
       "      <td>0.585859</td>\n",
       "    </tr>\n",
       "    <tr>\n",
       "      <th>45003</th>\n",
       "      <td>ay8</td>\n",
       "      <td>5990</td>\n",
       "      <td>I was working out in the gym.GHABBAN.wav.mp3</td>\n",
       "      <td>NaN</td>\n",
       "      <td>NaN</td>\n",
       "      <td>What were  you doing at 8:00 this morning?</td>\n",
       "      <td>[I, was, working, out, in, the, gym.GHABBAN.wa...</td>\n",
       "      <td>7</td>\n",
       "      <td>{out, gym.GHABBAN.wav.mp3, was, working, I, in...</td>\n",
       "      <td>7</td>\n",
       "      <td>1.000000</td>\n",
       "    </tr>\n",
       "    <tr>\n",
       "      <th>16101</th>\n",
       "      <td>ff4</td>\n",
       "      <td>2358</td>\n",
       "      <td>it's getting out of control. Something you sta...</td>\n",
       "      <td>Male</td>\n",
       "      <td>French</td>\n",
       "      <td>What does the phrase \"it's getting out of hand...</td>\n",
       "      <td>[it, 's, getting, out, of, control, ., Somethi...</td>\n",
       "      <td>17</td>\n",
       "      <td>{out, it, Something, then, 's, and, getting, s...</td>\n",
       "      <td>15</td>\n",
       "      <td>0.882353</td>\n",
       "    </tr>\n",
       "    <tr>\n",
       "      <th>23749</th>\n",
       "      <td>cp5</td>\n",
       "      <td>3229</td>\n",
       "      <td>This tree has a very rigid trunk, I can not cu...</td>\n",
       "      <td>Male</td>\n",
       "      <td>Arabic</td>\n",
       "      <td>Write an original creative sentence using a vo...</td>\n",
       "      <td>[This, tree, has, a, very, rigid, trunk, ,, I,...</td>\n",
       "      <td>15</td>\n",
       "      <td>{,, rigid, not, tree, has, saw, by, I, cut, ca...</td>\n",
       "      <td>15</td>\n",
       "      <td>1.000000</td>\n",
       "    </tr>\n",
       "  </tbody>\n",
       "</table>\n",
       "</div>"
      ],
      "text/plain": [
       "      student_id  question_id  \\\n",
       "43439        gu2         5796   \n",
       "753          cq4           37   \n",
       "45003        ay8         5990   \n",
       "16101        ff4         2358   \n",
       "23749        cp5         3229   \n",
       "\n",
       "                                                    text  gender  \\\n",
       "43439  They see the online shopping do pollution but ...     NaN   \n",
       "753    1-Mismanagement\\nSentence: So if they were nom...  Female   \n",
       "45003       I was working out in the gym.GHABBAN.wav.mp3     NaN   \n",
       "16101  it's getting out of control. Something you sta...    Male   \n",
       "23749  This tree has a very rigid trunk, I can not cu...    Male   \n",
       "\n",
       "      native_language                                           question  \\\n",
       "43439             NaN  Chapter 5: \"A Cleaner Way to Shop?\"  \\n\\nChoos...   \n",
       "753            Arabic  For each of the following words, write the sen...   \n",
       "45003             NaN         What were  you doing at 8:00 this morning?   \n",
       "16101          French  What does the phrase \"it's getting out of hand...   \n",
       "23749          Arabic  Write an original creative sentence using a vo...   \n",
       "\n",
       "                                                  tokens  token_count  \\\n",
       "43439  [They, see, the, online, shopping, do, polluti...          109   \n",
       "753    [1-Mismanagement, Sentence, :, So, if, they, w...          198   \n",
       "45003  [I, was, working, out, in, the, gym.GHABBAN.wa...            7   \n",
       "16101  [it, 's, getting, out, of, control, ., Somethi...           17   \n",
       "23749  [This, tree, has, a, very, rigid, trunk, ,, I,...           15   \n",
       "\n",
       "                                                   types  type_count       TTR  \n",
       "43439  {transporting, those, They, delivered, see, si...          79  0.724771  \n",
       "753    {Crowly, against, process, join, he, a, 1-Mism...         116  0.585859  \n",
       "45003  {out, gym.GHABBAN.wav.mp3, was, working, I, in...           7  1.000000  \n",
       "16101  {out, it, Something, then, 's, and, getting, s...          15  0.882353  \n",
       "23749  {,, rigid, not, tree, has, saw, by, I, cut, ca...          15  1.000000  "
      ]
     },
     "execution_count": 4,
     "metadata": {},
     "output_type": "execute_result"
    }
   ],
   "source": [
    "print(df_eli.shape)\n",
    "df_eli.head()"
   ]
  },
  {
   "cell_type": "code",
   "execution_count": 5,
   "metadata": {},
   "outputs": [
    {
     "name": "stdout",
     "output_type": "stream",
     "text": [
      "Requirement already satisfied: pyspellchecker in /anaconda3/lib/python3.6/site-packages (0.4.0)\n",
      "\u001b[33mYou are using pip version 18.1, however version 19.0.3 is available.\n",
      "You should consider upgrading via the 'pip install --upgrade pip' command.\u001b[0m\n"
     ]
    }
   ],
   "source": [
    "!pip install pyspellchecker"
   ]
  },
  {
   "cell_type": "code",
   "execution_count": 6,
   "metadata": {},
   "outputs": [
    {
     "name": "stdout",
     "output_type": "stream",
     "text": [
      "happening\n",
      "{'happening', 'henning', 'penning'}\n"
     ]
    }
   ],
   "source": [
    "from spellchecker import SpellChecker\n",
    "\n",
    "spell = SpellChecker()\n",
    "\n",
    "# find those words that may be misspelled\n",
    "misspelled = spell.unknown(['something', 'is', 'hapenning', 'here'])\n",
    "\n",
    "for word in misspelled:\n",
    "    # Get the one 'most likely' answer\n",
    "    print(spell.correction(word))\n",
    "    \n",
    "    # Get a list of 'likely' options\n",
    "    print(spell.candidates(word))"
   ]
  },
  {
   "cell_type": "code",
   "execution_count": 7,
   "metadata": {},
   "outputs": [
    {
     "data": {
      "text/plain": [
       "'goole'"
      ]
     },
     "execution_count": 7,
     "metadata": {},
     "output_type": "execute_result"
    }
   ],
   "source": [
    "spell.correction('google')"
   ]
  },
  {
   "cell_type": "code",
   "execution_count": 8,
   "metadata": {},
   "outputs": [],
   "source": [
    "spell = SpellChecker()  # loads default word frequency list\n",
    "spell.word_frequency.load_words(['google'])"
   ]
  },
  {
   "cell_type": "code",
   "execution_count": 9,
   "metadata": {},
   "outputs": [
    {
     "data": {
      "text/plain": [
       "'google'"
      ]
     },
     "execution_count": 9,
     "metadata": {},
     "output_type": "execute_result"
    }
   ],
   "source": [
    "spell.correction('google')"
   ]
  },
  {
   "cell_type": "code",
   "execution_count": 10,
   "metadata": {},
   "outputs": [
    {
     "data": {
      "text/plain": [
       "{'goole', 'microsoft'}"
      ]
     },
     "execution_count": 10,
     "metadata": {},
     "output_type": "execute_result"
    }
   ],
   "source": [
    "spell.known(['microsoft', 'goole'])"
   ]
  },
  {
   "cell_type": "code",
   "execution_count": 11,
   "metadata": {},
   "outputs": [
    {
     "data": {
      "text/plain": [
       "['_SpellChecker__edit_distance_alt',\n",
       " '__class__',\n",
       " '__contains__',\n",
       " '__delattr__',\n",
       " '__dir__',\n",
       " '__doc__',\n",
       " '__eq__',\n",
       " '__format__',\n",
       " '__ge__',\n",
       " '__getattribute__',\n",
       " '__getitem__',\n",
       " '__gt__',\n",
       " '__hash__',\n",
       " '__init__',\n",
       " '__init_subclass__',\n",
       " '__le__',\n",
       " '__lt__',\n",
       " '__module__',\n",
       " '__ne__',\n",
       " '__new__',\n",
       " '__reduce__',\n",
       " '__reduce_ex__',\n",
       " '__repr__',\n",
       " '__setattr__',\n",
       " '__sizeof__',\n",
       " '__slots__',\n",
       " '__str__',\n",
       " '__subclasshook__',\n",
       " '_check_if_should_check',\n",
       " '_distance',\n",
       " '_word_frequency',\n",
       " 'candidates',\n",
       " 'correction',\n",
       " 'distance',\n",
       " 'edit_distance_1',\n",
       " 'edit_distance_2',\n",
       " 'export',\n",
       " 'known',\n",
       " 'split_words',\n",
       " 'unknown',\n",
       " 'word_frequency',\n",
       " 'word_probability']"
      ]
     },
     "execution_count": 11,
     "metadata": {},
     "output_type": "execute_result"
    }
   ],
   "source": [
    "dir(spell)"
   ]
  },
  {
   "cell_type": "code",
   "execution_count": 12,
   "metadata": {},
   "outputs": [
    {
     "name": "stdout",
     "output_type": "stream",
     "text": [
      "Help on method unknown in module spellchecker.spellchecker:\n",
      "\n",
      "unknown(words) method of spellchecker.spellchecker.SpellChecker instance\n",
      "    The subset of `words` that do not appear in the dictionary\n",
      "    \n",
      "    Args:\n",
      "        words (list): List of words to determine which are not in the                 corpus\n",
      "    Returns:\n",
      "        set: The set of those words from the input that are not in                 the corpus\n",
      "\n"
     ]
    }
   ],
   "source": [
    "help(spell.unknown)"
   ]
  },
  {
   "cell_type": "code",
   "execution_count": 13,
   "metadata": {},
   "outputs": [
    {
     "data": {
      "text/plain": [
       "{'applk'}"
      ]
     },
     "execution_count": 13,
     "metadata": {},
     "output_type": "execute_result"
    }
   ],
   "source": [
    "spell.unknown(['applk'])"
   ]
  },
  {
   "cell_type": "code",
   "execution_count": 14,
   "metadata": {},
   "outputs": [
    {
     "name": "stdout",
     "output_type": "stream",
     "text": [
      "Help on SpellChecker in module spellchecker.spellchecker object:\n",
      "\n",
      "class SpellChecker(builtins.object)\n",
      " |  The SpellChecker class encapsulates the basics needed to accomplish a\n",
      " |  simple spell checking algorithm. It is based on the work by\n",
      " |  Peter Norvig (https://norvig.com/spell-correct.html)\n",
      " |  \n",
      " |  Args:\n",
      " |      language (str): The language of the dictionary to load or None             for no dictionary. Supported languages are `en`, `es`, `de`, fr`             and `pt`. Defaults to `en`\n",
      " |      local_dictionary (str): The path to a locally stored word             frequency dictionary; if provided, no language will be loaded\n",
      " |      distance (int): The edit distance to use. Defaults to 2\n",
      " |  \n",
      " |  Methods defined here:\n",
      " |  \n",
      " |  __contains__(self, key)\n",
      " |      setup easier known checks\n",
      " |  \n",
      " |  __getitem__(self, key)\n",
      " |      setup easier frequency checks\n",
      " |  \n",
      " |  __init__(self, language='en', local_dictionary=None, distance=2)\n",
      " |      Initialize self.  See help(type(self)) for accurate signature.\n",
      " |  \n",
      " |  candidates(self, word)\n",
      " |      Generate possible spelling corrections for the provided word up to\n",
      " |      an edit distance of two, if and only when needed\n",
      " |      \n",
      " |      Args:\n",
      " |          word (str): The word for which to calculate candidate spellings\n",
      " |      Returns:\n",
      " |          set: The set of words that are possible candidates\n",
      " |  \n",
      " |  correction(self, word)\n",
      " |      The most probable correct spelling for the word\n",
      " |      \n",
      " |      Args:\n",
      " |          word (str): The word to correct\n",
      " |      Returns:\n",
      " |          str: The most likely candidate\n",
      " |  \n",
      " |  edit_distance_1(self, word)\n",
      " |      Compute all strings that are one edit away from `word` using only\n",
      " |      the letters in the corpus\n",
      " |      \n",
      " |      Args:\n",
      " |          word (str): The word for which to calculate the edit distance\n",
      " |      Returns:\n",
      " |          set: The set of strings that are edit distance one from the                 provided word\n",
      " |  \n",
      " |  edit_distance_2(self, word)\n",
      " |      Compute all strings that are two edits away from `word` using only\n",
      " |      the letters in the corpus\n",
      " |      \n",
      " |      Args:\n",
      " |          word (str): The word for which to calculate the edit distance\n",
      " |      Returns:\n",
      " |          set: The set of strings that are edit distance two from the                 provided word\n",
      " |  \n",
      " |  export(self, filepath, encoding='utf-8', gzipped=True)\n",
      " |      Export the word frequency list for import in the future\n",
      " |      \n",
      " |      Args:\n",
      " |         filepath (str): The filepath to the exported dictionary\n",
      " |         encoding (str): The encoding of the resulting output\n",
      " |         gzipped (bool): Whether to gzip the dictionary or not\n",
      " |  \n",
      " |  known(self, words)\n",
      " |      The subset of `words` that appear in the dictionary of words\n",
      " |      \n",
      " |      Args:\n",
      " |          words (list): List of words to determine which are in the                 corpus\n",
      " |      Returns:\n",
      " |          set: The set of those words from the input that are in the                 corpus\n",
      " |  \n",
      " |  unknown(self, words)\n",
      " |      The subset of `words` that do not appear in the dictionary\n",
      " |      \n",
      " |      Args:\n",
      " |          words (list): List of words to determine which are not in the                 corpus\n",
      " |      Returns:\n",
      " |          set: The set of those words from the input that are not in                 the corpus\n",
      " |  \n",
      " |  word_probability(self, word, total_words=None)\n",
      " |      Calculate the probability of the `word` being the desired, correct\n",
      " |      word\n",
      " |      \n",
      " |      Args:\n",
      " |          word (str): The word for which the word probability is                 calculated\n",
      " |          total_words (int): The total number of words to use in the                 calculation; use the default for using the whole word                 frequency\n",
      " |      Returns:\n",
      " |          float: The probability that the word is the correct word\n",
      " |  \n",
      " |  ----------------------------------------------------------------------\n",
      " |  Static methods defined here:\n",
      " |  \n",
      " |  split_words(text)\n",
      " |      Split text into individual `words` using a simple whitespace regex\n",
      " |      \n",
      " |      Args:\n",
      " |          text (str): The text to split into individual words\n",
      " |      Returns:\n",
      " |          list(str): A listing of all words in the provided text\n",
      " |  \n",
      " |  ----------------------------------------------------------------------\n",
      " |  Data descriptors defined here:\n",
      " |  \n",
      " |  distance\n",
      " |      int: The maximum edit distance to calculate\n",
      " |      \n",
      " |      Note:\n",
      " |          Valid values are 1 or 2; if an invalid value is passed,                 defaults to 2\n",
      " |  \n",
      " |  word_frequency\n",
      " |      WordFrequency: An encapsulation of the word frequency `dictionary`\n",
      " |      \n",
      " |      Note:\n",
      " |          Not settable\n",
      "\n"
     ]
    }
   ],
   "source": [
    "help(spell)"
   ]
  },
  {
   "cell_type": "code",
   "execution_count": 15,
   "metadata": {},
   "outputs": [
    {
     "data": {
      "text/plain": [
       "526"
      ]
     },
     "execution_count": 15,
     "metadata": {},
     "output_type": "execute_result"
    }
   ],
   "source": [
    "len(spell.edit_distance_1('applk'))"
   ]
  },
  {
   "cell_type": "code",
   "execution_count": null,
   "metadata": {},
   "outputs": [],
   "source": []
  }
 ],
 "metadata": {
  "kernelspec": {
   "display_name": "Python 3",
   "language": "python",
   "name": "python3"
  },
  "language_info": {
   "codemirror_mode": {
    "name": "ipython",
    "version": 3
   },
   "file_extension": ".py",
   "mimetype": "text/x-python",
   "name": "python",
   "nbconvert_exporter": "python",
   "pygments_lexer": "ipython3",
   "version": "3.6.8"
  }
 },
 "nbformat": 4,
 "nbformat_minor": 2
}
