{
 "cells": [
  {
   "cell_type": "markdown",
   "metadata": {},
   "source": [
    "## NEW REPLACEMENT\n",
    "## Exploring ELI data frame\n",
    "#### Ting-Wei Shen, tis50@pitt.edu, Mar19, 2019"
   ]
  },
  {
   "cell_type": "markdown",
   "metadata": {},
   "source": [
    "### Loading choosed data"
   ]
  },
  {
   "cell_type": "code",
   "execution_count": 1,
   "metadata": {},
   "outputs": [
    {
     "name": "stdout",
     "output_type": "stream",
     "text": [
      "Pretty printing has been turned OFF\n"
     ]
    }
   ],
   "source": [
    "# Import all packages on top\n",
    "import nltk, glob, re\n",
    "import pandas as pd\n",
    "import matplotlib.pyplot as plt\n",
    "from scipy import stats\n",
    "import seaborn as sns\n",
    "\n",
    "# Turn off pretty printing \n",
    "%pprint"
   ]
  },
  {
   "cell_type": "code",
   "execution_count": 2,
   "metadata": {},
   "outputs": [],
   "source": [
    "sns.set_style('darkgrid')"
   ]
  },
  {
   "cell_type": "markdown",
   "metadata": {},
   "source": [
    "- First, check about answer.csv"
   ]
  },
  {
   "cell_type": "code",
   "execution_count": 3,
   "metadata": {},
   "outputs": [
    {
     "name": "stdout",
     "output_type": "stream",
     "text": [
      "(46239, 6)\n"
     ]
    },
    {
     "data": {
      "text/html": [
       "<div>\n",
       "<style scoped>\n",
       "    .dataframe tbody tr th:only-of-type {\n",
       "        vertical-align: middle;\n",
       "    }\n",
       "\n",
       "    .dataframe tbody tr th {\n",
       "        vertical-align: top;\n",
       "    }\n",
       "\n",
       "    .dataframe thead th {\n",
       "        text-align: right;\n",
       "    }\n",
       "</style>\n",
       "<table border=\"1\" class=\"dataframe\">\n",
       "  <thead>\n",
       "    <tr style=\"text-align: right;\">\n",
       "      <th></th>\n",
       "      <th>answer_id</th>\n",
       "      <th>question_id</th>\n",
       "      <th>anon_id</th>\n",
       "      <th>user_file_id</th>\n",
       "      <th>text</th>\n",
       "      <th>is_deleted</th>\n",
       "    </tr>\n",
       "  </thead>\n",
       "  <tbody>\n",
       "    <tr>\n",
       "      <th>0</th>\n",
       "      <td>1</td>\n",
       "      <td>5</td>\n",
       "      <td>eq0</td>\n",
       "      <td>7505</td>\n",
       "      <td>I met my friend Nife while I was studying in a...</td>\n",
       "      <td>0</td>\n",
       "    </tr>\n",
       "    <tr>\n",
       "      <th>1</th>\n",
       "      <td>2</td>\n",
       "      <td>5</td>\n",
       "      <td>am8</td>\n",
       "      <td>7506</td>\n",
       "      <td>Ten years ago, I met a women on the train betw...</td>\n",
       "      <td>0</td>\n",
       "    </tr>\n",
       "    <tr>\n",
       "      <th>2</th>\n",
       "      <td>3</td>\n",
       "      <td>12</td>\n",
       "      <td>dk5</td>\n",
       "      <td>7507</td>\n",
       "      <td>In my country we usually don't use tea bags. F...</td>\n",
       "      <td>0</td>\n",
       "    </tr>\n",
       "    <tr>\n",
       "      <th>3</th>\n",
       "      <td>4</td>\n",
       "      <td>13</td>\n",
       "      <td>dk5</td>\n",
       "      <td>7507</td>\n",
       "      <td>I organized the instructions by time.</td>\n",
       "      <td>0</td>\n",
       "    </tr>\n",
       "    <tr>\n",
       "      <th>4</th>\n",
       "      <td>5</td>\n",
       "      <td>12</td>\n",
       "      <td>ad1</td>\n",
       "      <td>7508</td>\n",
       "      <td>First, prepare a port, loose tea, and cup.\\nSe...</td>\n",
       "      <td>0</td>\n",
       "    </tr>\n",
       "    <tr>\n",
       "      <th>5</th>\n",
       "      <td>6</td>\n",
       "      <td>13</td>\n",
       "      <td>ad1</td>\n",
       "      <td>7508</td>\n",
       "      <td>By time</td>\n",
       "      <td>0</td>\n",
       "    </tr>\n",
       "    <tr>\n",
       "      <th>6</th>\n",
       "      <td>7</td>\n",
       "      <td>12</td>\n",
       "      <td>eg5</td>\n",
       "      <td>7509</td>\n",
       "      <td>First, prepare your cup, loose tea or bag tea,...</td>\n",
       "      <td>0</td>\n",
       "    </tr>\n",
       "    <tr>\n",
       "      <th>7</th>\n",
       "      <td>8</td>\n",
       "      <td>13</td>\n",
       "      <td>eg5</td>\n",
       "      <td>7509</td>\n",
       "      <td>I organized the instructions by time, beacause...</td>\n",
       "      <td>0</td>\n",
       "    </tr>\n",
       "    <tr>\n",
       "      <th>8</th>\n",
       "      <td>9</td>\n",
       "      <td>12</td>\n",
       "      <td>ad1</td>\n",
       "      <td>7510</td>\n",
       "      <td>First, prepare a port, loose tea, and cup.\\nSe...</td>\n",
       "      <td>0</td>\n",
       "    </tr>\n",
       "    <tr>\n",
       "      <th>9</th>\n",
       "      <td>10</td>\n",
       "      <td>13</td>\n",
       "      <td>ad1</td>\n",
       "      <td>7510</td>\n",
       "      <td>By time</td>\n",
       "      <td>0</td>\n",
       "    </tr>\n",
       "  </tbody>\n",
       "</table>\n",
       "</div>"
      ],
      "text/plain": [
       "   answer_id  question_id anon_id  user_file_id  \\\n",
       "0          1            5     eq0          7505   \n",
       "1          2            5     am8          7506   \n",
       "2          3           12     dk5          7507   \n",
       "3          4           13     dk5          7507   \n",
       "4          5           12     ad1          7508   \n",
       "5          6           13     ad1          7508   \n",
       "6          7           12     eg5          7509   \n",
       "7          8           13     eg5          7509   \n",
       "8          9           12     ad1          7510   \n",
       "9         10           13     ad1          7510   \n",
       "\n",
       "                                                text  is_deleted  \n",
       "0  I met my friend Nife while I was studying in a...           0  \n",
       "1  Ten years ago, I met a women on the train betw...           0  \n",
       "2  In my country we usually don't use tea bags. F...           0  \n",
       "3              I organized the instructions by time.           0  \n",
       "4  First, prepare a port, loose tea, and cup.\\nSe...           0  \n",
       "5                                            By time           0  \n",
       "6  First, prepare your cup, loose tea or bag tea,...           0  \n",
       "7  I organized the instructions by time, beacause...           0  \n",
       "8  First, prepare a port, loose tea, and cup.\\nSe...           0  \n",
       "9                                            By time           0  "
      ]
     },
     "execution_count": 3,
     "metadata": {},
     "output_type": "execute_result"
    }
   ],
   "source": [
    "df_answer = pd.read_csv(\"./data/answer.csv\")\n",
    "print(df_answer.shape)\n",
    "df_answer.head(10)"
   ]
  },
  {
   "cell_type": "markdown",
   "metadata": {},
   "source": [
    "- I choose student_id(anon_id), question_id and text data to help me know the dataframe. Who write the essay with what kind of questions. \n",
    "\n",
    "- What we need are anon_id, question_id and text data."
   ]
  },
  {
   "cell_type": "code",
   "execution_count": 4,
   "metadata": {},
   "outputs": [
    {
     "name": "stdout",
     "output_type": "stream",
     "text": [
      "(46239, 3)\n"
     ]
    },
    {
     "data": {
      "text/html": [
       "<div>\n",
       "<style scoped>\n",
       "    .dataframe tbody tr th:only-of-type {\n",
       "        vertical-align: middle;\n",
       "    }\n",
       "\n",
       "    .dataframe tbody tr th {\n",
       "        vertical-align: top;\n",
       "    }\n",
       "\n",
       "    .dataframe thead th {\n",
       "        text-align: right;\n",
       "    }\n",
       "</style>\n",
       "<table border=\"1\" class=\"dataframe\">\n",
       "  <thead>\n",
       "    <tr style=\"text-align: right;\">\n",
       "      <th></th>\n",
       "      <th>anon_id</th>\n",
       "      <th>question_id</th>\n",
       "      <th>text</th>\n",
       "    </tr>\n",
       "  </thead>\n",
       "  <tbody>\n",
       "    <tr>\n",
       "      <th>0</th>\n",
       "      <td>eq0</td>\n",
       "      <td>5</td>\n",
       "      <td>I met my friend Nife while I was studying in a...</td>\n",
       "    </tr>\n",
       "    <tr>\n",
       "      <th>1</th>\n",
       "      <td>am8</td>\n",
       "      <td>5</td>\n",
       "      <td>Ten years ago, I met a women on the train betw...</td>\n",
       "    </tr>\n",
       "    <tr>\n",
       "      <th>2</th>\n",
       "      <td>dk5</td>\n",
       "      <td>12</td>\n",
       "      <td>In my country we usually don't use tea bags. F...</td>\n",
       "    </tr>\n",
       "    <tr>\n",
       "      <th>3</th>\n",
       "      <td>dk5</td>\n",
       "      <td>13</td>\n",
       "      <td>I organized the instructions by time.</td>\n",
       "    </tr>\n",
       "    <tr>\n",
       "      <th>4</th>\n",
       "      <td>ad1</td>\n",
       "      <td>12</td>\n",
       "      <td>First, prepare a port, loose tea, and cup.\\nSe...</td>\n",
       "    </tr>\n",
       "  </tbody>\n",
       "</table>\n",
       "</div>"
      ],
      "text/plain": [
       "  anon_id  question_id                                               text\n",
       "0     eq0            5  I met my friend Nife while I was studying in a...\n",
       "1     am8            5  Ten years ago, I met a women on the train betw...\n",
       "2     dk5           12  In my country we usually don't use tea bags. F...\n",
       "3     dk5           13              I organized the instructions by time.\n",
       "4     ad1           12  First, prepare a port, loose tea, and cup.\\nSe..."
      ]
     },
     "execution_count": 4,
     "metadata": {},
     "output_type": "execute_result"
    }
   ],
   "source": [
    "df_eli = pd.DataFrame()\n",
    "df_eli = df_answer[['anon_id', 'question_id', 'text']]\n",
    "print(df_eli.shape)\n",
    "df_eli.head()"
   ]
  },
  {
   "cell_type": "markdown",
   "metadata": {},
   "source": [
    "- Second, check about student information"
   ]
  },
  {
   "cell_type": "code",
   "execution_count": 5,
   "metadata": {},
   "outputs": [
    {
     "name": "stdout",
     "output_type": "stream",
     "text": [
      "(913, 21)\n"
     ]
    },
    {
     "data": {
      "text/html": [
       "<div>\n",
       "<style scoped>\n",
       "    .dataframe tbody tr th:only-of-type {\n",
       "        vertical-align: middle;\n",
       "    }\n",
       "\n",
       "    .dataframe tbody tr th {\n",
       "        vertical-align: top;\n",
       "    }\n",
       "\n",
       "    .dataframe thead th {\n",
       "        text-align: right;\n",
       "    }\n",
       "</style>\n",
       "<table border=\"1\" class=\"dataframe\">\n",
       "  <thead>\n",
       "    <tr style=\"text-align: right;\">\n",
       "      <th></th>\n",
       "      <th>anon_id</th>\n",
       "      <th>gender</th>\n",
       "      <th>birth_year</th>\n",
       "      <th>native_language</th>\n",
       "      <th>language_used_at_home</th>\n",
       "      <th>language_used_at_home_now</th>\n",
       "      <th>non_native_language_1</th>\n",
       "      <th>yrs_of_study_lang1</th>\n",
       "      <th>study_in_classroom_lang1</th>\n",
       "      <th>ways_of_study_lang1</th>\n",
       "      <th>...</th>\n",
       "      <th>yrs_of_study_lang2</th>\n",
       "      <th>study_in_classroom_lang2</th>\n",
       "      <th>ways_of_study_lang2</th>\n",
       "      <th>non_native_language_3</th>\n",
       "      <th>yrs_of_study_lang3</th>\n",
       "      <th>study_in_classroom_lang3</th>\n",
       "      <th>ways_of_study_lang3</th>\n",
       "      <th>createddate</th>\n",
       "      <th>modifieddate</th>\n",
       "      <th>course_history</th>\n",
       "    </tr>\n",
       "  </thead>\n",
       "  <tbody>\n",
       "    <tr>\n",
       "      <th>0</th>\n",
       "      <td>ez9</td>\n",
       "      <td>Male</td>\n",
       "      <td>1978</td>\n",
       "      <td>Arabic</td>\n",
       "      <td>Arabic</td>\n",
       "      <td>NaN</td>\n",
       "      <td>English</td>\n",
       "      <td>more than 5 years</td>\n",
       "      <td>1.0</td>\n",
       "      <td>Studied grammar;Worked in pairs/groups;Studied...</td>\n",
       "      <td>...</td>\n",
       "      <td>less than 1 year</td>\n",
       "      <td>0.0</td>\n",
       "      <td>Studied by myself</td>\n",
       "      <td>NaN</td>\n",
       "      <td>NaN</td>\n",
       "      <td>0.0</td>\n",
       "      <td>NaN</td>\n",
       "      <td>2006-01-30 15:07:18</td>\n",
       "      <td>2006-03-14 15:13:37</td>\n",
       "      <td>6;12;18;24;30</td>\n",
       "    </tr>\n",
       "    <tr>\n",
       "      <th>1</th>\n",
       "      <td>gm3</td>\n",
       "      <td>Male</td>\n",
       "      <td>1980</td>\n",
       "      <td>Arabic</td>\n",
       "      <td>Arabic</td>\n",
       "      <td>NaN</td>\n",
       "      <td>English</td>\n",
       "      <td>more than 5 years</td>\n",
       "      <td>1.0</td>\n",
       "      <td>Studied grammar;Had a native-speaker teacher;S...</td>\n",
       "      <td>...</td>\n",
       "      <td>NaN</td>\n",
       "      <td>0.0</td>\n",
       "      <td>NaN</td>\n",
       "      <td>NaN</td>\n",
       "      <td>NaN</td>\n",
       "      <td>0.0</td>\n",
       "      <td>NaN</td>\n",
       "      <td>2006-01-30 15:07:28</td>\n",
       "      <td>2006-03-14 15:12:49</td>\n",
       "      <td>6;12;24;30;38</td>\n",
       "    </tr>\n",
       "    <tr>\n",
       "      <th>2</th>\n",
       "      <td>fg5</td>\n",
       "      <td>Male</td>\n",
       "      <td>1938</td>\n",
       "      <td>Nepali</td>\n",
       "      <td>Nepali</td>\n",
       "      <td>NaN</td>\n",
       "      <td>English</td>\n",
       "      <td>more than 5 years</td>\n",
       "      <td>1.0</td>\n",
       "      <td>Studied grammar;Worked in pairs/groups;Had a n...</td>\n",
       "      <td>...</td>\n",
       "      <td>less than 1 year</td>\n",
       "      <td>1.0</td>\n",
       "      <td>Studied grammar;Worked in pairs/groups;Had a n...</td>\n",
       "      <td>Hindi</td>\n",
       "      <td>more than 5 years</td>\n",
       "      <td>0.0</td>\n",
       "      <td>Studied by myself</td>\n",
       "      <td>2006-01-30 15:07:45</td>\n",
       "      <td>2006-03-14 15:11:36</td>\n",
       "      <td>18;24</td>\n",
       "    </tr>\n",
       "    <tr>\n",
       "      <th>3</th>\n",
       "      <td>ce5</td>\n",
       "      <td>Female</td>\n",
       "      <td>1984</td>\n",
       "      <td>Korean</td>\n",
       "      <td>Korean</td>\n",
       "      <td>NaN</td>\n",
       "      <td>English</td>\n",
       "      <td>more than 5 years</td>\n",
       "      <td>1.0</td>\n",
       "      <td>Studied grammar;Worked in pairs/groups;Had a n...</td>\n",
       "      <td>...</td>\n",
       "      <td>1-2 years</td>\n",
       "      <td>1.0</td>\n",
       "      <td>Studied grammar;Studied vocabulary;Listened to...</td>\n",
       "      <td>NaN</td>\n",
       "      <td>NaN</td>\n",
       "      <td>0.0</td>\n",
       "      <td>NaN</td>\n",
       "      <td>2006-01-30 15:07:49</td>\n",
       "      <td>2006-03-14 15:12:24</td>\n",
       "      <td>6;12;24;30;38;56</td>\n",
       "    </tr>\n",
       "    <tr>\n",
       "      <th>4</th>\n",
       "      <td>fi7</td>\n",
       "      <td>Female</td>\n",
       "      <td>1982</td>\n",
       "      <td>Korean</td>\n",
       "      <td>Korean;Japanese</td>\n",
       "      <td>NaN</td>\n",
       "      <td>English</td>\n",
       "      <td>more than 5 years</td>\n",
       "      <td>1.0</td>\n",
       "      <td>Studied grammar;Had a native-speaker teacher;S...</td>\n",
       "      <td>...</td>\n",
       "      <td>less than 1 year</td>\n",
       "      <td>1.0</td>\n",
       "      <td>Studied grammar;Studied vocabulary;Listened to...</td>\n",
       "      <td>French</td>\n",
       "      <td>1-2 years</td>\n",
       "      <td>1.0</td>\n",
       "      <td>Studied grammar;Studied vocabulary;Listened to...</td>\n",
       "      <td>2006-01-30 15:07:52</td>\n",
       "      <td>2006-03-14 15:12:17</td>\n",
       "      <td>6;12;24;30;38</td>\n",
       "    </tr>\n",
       "  </tbody>\n",
       "</table>\n",
       "<p>5 rows × 21 columns</p>\n",
       "</div>"
      ],
      "text/plain": [
       "  anon_id  gender  birth_year native_language language_used_at_home  \\\n",
       "0     ez9    Male        1978          Arabic                Arabic   \n",
       "1     gm3    Male        1980          Arabic                Arabic   \n",
       "2     fg5    Male        1938          Nepali                Nepali   \n",
       "3     ce5  Female        1984          Korean                Korean   \n",
       "4     fi7  Female        1982          Korean       Korean;Japanese   \n",
       "\n",
       "  language_used_at_home_now non_native_language_1 yrs_of_study_lang1  \\\n",
       "0                       NaN               English  more than 5 years   \n",
       "1                       NaN               English  more than 5 years   \n",
       "2                       NaN               English  more than 5 years   \n",
       "3                       NaN               English  more than 5 years   \n",
       "4                       NaN               English  more than 5 years   \n",
       "\n",
       "   study_in_classroom_lang1  \\\n",
       "0                       1.0   \n",
       "1                       1.0   \n",
       "2                       1.0   \n",
       "3                       1.0   \n",
       "4                       1.0   \n",
       "\n",
       "                                 ways_of_study_lang1        ...         \\\n",
       "0  Studied grammar;Worked in pairs/groups;Studied...        ...          \n",
       "1  Studied grammar;Had a native-speaker teacher;S...        ...          \n",
       "2  Studied grammar;Worked in pairs/groups;Had a n...        ...          \n",
       "3  Studied grammar;Worked in pairs/groups;Had a n...        ...          \n",
       "4  Studied grammar;Had a native-speaker teacher;S...        ...          \n",
       "\n",
       "  yrs_of_study_lang2 study_in_classroom_lang2  \\\n",
       "0   less than 1 year                      0.0   \n",
       "1                NaN                      0.0   \n",
       "2   less than 1 year                      1.0   \n",
       "3          1-2 years                      1.0   \n",
       "4   less than 1 year                      1.0   \n",
       "\n",
       "                                 ways_of_study_lang2 non_native_language_3  \\\n",
       "0                                  Studied by myself                   NaN   \n",
       "1                                                NaN                   NaN   \n",
       "2  Studied grammar;Worked in pairs/groups;Had a n...                 Hindi   \n",
       "3  Studied grammar;Studied vocabulary;Listened to...                   NaN   \n",
       "4  Studied grammar;Studied vocabulary;Listened to...                French   \n",
       "\n",
       "  yrs_of_study_lang3 study_in_classroom_lang3  \\\n",
       "0                NaN                      0.0   \n",
       "1                NaN                      0.0   \n",
       "2  more than 5 years                      0.0   \n",
       "3                NaN                      0.0   \n",
       "4          1-2 years                      1.0   \n",
       "\n",
       "                                 ways_of_study_lang3          createddate  \\\n",
       "0                                                NaN  2006-01-30 15:07:18   \n",
       "1                                                NaN  2006-01-30 15:07:28   \n",
       "2                                  Studied by myself  2006-01-30 15:07:45   \n",
       "3                                                NaN  2006-01-30 15:07:49   \n",
       "4  Studied grammar;Studied vocabulary;Listened to...  2006-01-30 15:07:52   \n",
       "\n",
       "          modifieddate    course_history  \n",
       "0  2006-03-14 15:13:37     6;12;18;24;30  \n",
       "1  2006-03-14 15:12:49     6;12;24;30;38  \n",
       "2  2006-03-14 15:11:36             18;24  \n",
       "3  2006-03-14 15:12:24  6;12;24;30;38;56  \n",
       "4  2006-03-14 15:12:17     6;12;24;30;38  \n",
       "\n",
       "[5 rows x 21 columns]"
      ]
     },
     "execution_count": 5,
     "metadata": {},
     "output_type": "execute_result"
    }
   ],
   "source": [
    "df_student = pd.read_csv(\"./data/student_information.csv\")\n",
    "print(df_student.shape)\n",
    "df_student.head()"
   ]
  },
  {
   "cell_type": "markdown",
   "metadata": {},
   "source": [
    "- Let's merge student information"
   ]
  },
  {
   "cell_type": "code",
   "execution_count": 6,
   "metadata": {},
   "outputs": [
    {
     "name": "stdout",
     "output_type": "stream",
     "text": [
      "(46239, 5)\n"
     ]
    },
    {
     "data": {
      "text/html": [
       "<div>\n",
       "<style scoped>\n",
       "    .dataframe tbody tr th:only-of-type {\n",
       "        vertical-align: middle;\n",
       "    }\n",
       "\n",
       "    .dataframe tbody tr th {\n",
       "        vertical-align: top;\n",
       "    }\n",
       "\n",
       "    .dataframe thead th {\n",
       "        text-align: right;\n",
       "    }\n",
       "</style>\n",
       "<table border=\"1\" class=\"dataframe\">\n",
       "  <thead>\n",
       "    <tr style=\"text-align: right;\">\n",
       "      <th></th>\n",
       "      <th>anon_id</th>\n",
       "      <th>question_id</th>\n",
       "      <th>text</th>\n",
       "      <th>gender</th>\n",
       "      <th>native_language</th>\n",
       "    </tr>\n",
       "  </thead>\n",
       "  <tbody>\n",
       "    <tr>\n",
       "      <th>0</th>\n",
       "      <td>eq0</td>\n",
       "      <td>5</td>\n",
       "      <td>I met my friend Nife while I was studying in a...</td>\n",
       "      <td>Male</td>\n",
       "      <td>Arabic</td>\n",
       "    </tr>\n",
       "    <tr>\n",
       "      <th>1</th>\n",
       "      <td>am8</td>\n",
       "      <td>5</td>\n",
       "      <td>Ten years ago, I met a women on the train betw...</td>\n",
       "      <td>Female</td>\n",
       "      <td>Thai</td>\n",
       "    </tr>\n",
       "    <tr>\n",
       "      <th>2</th>\n",
       "      <td>dk5</td>\n",
       "      <td>12</td>\n",
       "      <td>In my country we usually don't use tea bags. F...</td>\n",
       "      <td>Female</td>\n",
       "      <td>Turkish</td>\n",
       "    </tr>\n",
       "    <tr>\n",
       "      <th>3</th>\n",
       "      <td>dk5</td>\n",
       "      <td>13</td>\n",
       "      <td>I organized the instructions by time.</td>\n",
       "      <td>Female</td>\n",
       "      <td>Turkish</td>\n",
       "    </tr>\n",
       "    <tr>\n",
       "      <th>4</th>\n",
       "      <td>ad1</td>\n",
       "      <td>12</td>\n",
       "      <td>First, prepare a port, loose tea, and cup.\\nSe...</td>\n",
       "      <td>Female</td>\n",
       "      <td>Korean</td>\n",
       "    </tr>\n",
       "  </tbody>\n",
       "</table>\n",
       "</div>"
      ],
      "text/plain": [
       "  anon_id  question_id                                               text  \\\n",
       "0     eq0            5  I met my friend Nife while I was studying in a...   \n",
       "1     am8            5  Ten years ago, I met a women on the train betw...   \n",
       "2     dk5           12  In my country we usually don't use tea bags. F...   \n",
       "3     dk5           13              I organized the instructions by time.   \n",
       "4     ad1           12  First, prepare a port, loose tea, and cup.\\nSe...   \n",
       "\n",
       "   gender native_language  \n",
       "0    Male          Arabic  \n",
       "1  Female            Thai  \n",
       "2  Female         Turkish  \n",
       "3  Female         Turkish  \n",
       "4  Female          Korean  "
      ]
     },
     "execution_count": 6,
     "metadata": {},
     "output_type": "execute_result"
    }
   ],
   "source": [
    "df_student_trim = df_student[['anon_id', 'gender', 'native_language']]\n",
    "df_eli = pd.merge(df_eli, df_student_trim, on='anon_id', how='left')\n",
    "print(df_eli.shape)\n",
    "df_eli.head()"
   ]
  },
  {
   "cell_type": "code",
   "execution_count": 7,
   "metadata": {},
   "outputs": [
    {
     "data": {
      "text/html": [
       "<div>\n",
       "<style scoped>\n",
       "    .dataframe tbody tr th:only-of-type {\n",
       "        vertical-align: middle;\n",
       "    }\n",
       "\n",
       "    .dataframe tbody tr th {\n",
       "        vertical-align: top;\n",
       "    }\n",
       "\n",
       "    .dataframe thead th {\n",
       "        text-align: right;\n",
       "    }\n",
       "</style>\n",
       "<table border=\"1\" class=\"dataframe\">\n",
       "  <thead>\n",
       "    <tr style=\"text-align: right;\">\n",
       "      <th></th>\n",
       "      <th>student_id</th>\n",
       "      <th>question_id</th>\n",
       "      <th>text</th>\n",
       "      <th>gender</th>\n",
       "      <th>native_language</th>\n",
       "    </tr>\n",
       "  </thead>\n",
       "  <tbody>\n",
       "    <tr>\n",
       "      <th>0</th>\n",
       "      <td>eq0</td>\n",
       "      <td>5</td>\n",
       "      <td>I met my friend Nife while I was studying in a...</td>\n",
       "      <td>Male</td>\n",
       "      <td>Arabic</td>\n",
       "    </tr>\n",
       "    <tr>\n",
       "      <th>1</th>\n",
       "      <td>am8</td>\n",
       "      <td>5</td>\n",
       "      <td>Ten years ago, I met a women on the train betw...</td>\n",
       "      <td>Female</td>\n",
       "      <td>Thai</td>\n",
       "    </tr>\n",
       "    <tr>\n",
       "      <th>2</th>\n",
       "      <td>dk5</td>\n",
       "      <td>12</td>\n",
       "      <td>In my country we usually don't use tea bags. F...</td>\n",
       "      <td>Female</td>\n",
       "      <td>Turkish</td>\n",
       "    </tr>\n",
       "    <tr>\n",
       "      <th>3</th>\n",
       "      <td>dk5</td>\n",
       "      <td>13</td>\n",
       "      <td>I organized the instructions by time.</td>\n",
       "      <td>Female</td>\n",
       "      <td>Turkish</td>\n",
       "    </tr>\n",
       "    <tr>\n",
       "      <th>4</th>\n",
       "      <td>ad1</td>\n",
       "      <td>12</td>\n",
       "      <td>First, prepare a port, loose tea, and cup.\\nSe...</td>\n",
       "      <td>Female</td>\n",
       "      <td>Korean</td>\n",
       "    </tr>\n",
       "  </tbody>\n",
       "</table>\n",
       "</div>"
      ],
      "text/plain": [
       "  student_id  question_id                                               text  \\\n",
       "0        eq0            5  I met my friend Nife while I was studying in a...   \n",
       "1        am8            5  Ten years ago, I met a women on the train betw...   \n",
       "2        dk5           12  In my country we usually don't use tea bags. F...   \n",
       "3        dk5           13              I organized the instructions by time.   \n",
       "4        ad1           12  First, prepare a port, loose tea, and cup.\\nSe...   \n",
       "\n",
       "   gender native_language  \n",
       "0    Male          Arabic  \n",
       "1  Female            Thai  \n",
       "2  Female         Turkish  \n",
       "3  Female         Turkish  \n",
       "4  Female          Korean  "
      ]
     },
     "execution_count": 7,
     "metadata": {},
     "output_type": "execute_result"
    }
   ],
   "source": [
    "# Let's rename the column to help us recognize.\n",
    "df_eli = df_eli.rename(columns={'anon_id':'student_id'})\n",
    "df_eli.head()"
   ]
  },
  {
   "cell_type": "markdown",
   "metadata": {},
   "source": [
    "- The dataframe looks great.\n",
    "\n",
    "- How about adding question column?"
   ]
  },
  {
   "cell_type": "code",
   "execution_count": 8,
   "metadata": {},
   "outputs": [
    {
     "name": "stdout",
     "output_type": "stream",
     "text": [
      "(6138, 16)\n"
     ]
    },
    {
     "data": {
      "text/html": [
       "<div>\n",
       "<style scoped>\n",
       "    .dataframe tbody tr th:only-of-type {\n",
       "        vertical-align: middle;\n",
       "    }\n",
       "\n",
       "    .dataframe tbody tr th {\n",
       "        vertical-align: top;\n",
       "    }\n",
       "\n",
       "    .dataframe thead th {\n",
       "        text-align: right;\n",
       "    }\n",
       "</style>\n",
       "<table border=\"1\" class=\"dataframe\">\n",
       "  <thead>\n",
       "    <tr style=\"text-align: right;\">\n",
       "      <th></th>\n",
       "      <th>question_id</th>\n",
       "      <th>question_type_id</th>\n",
       "      <th>user_file_id</th>\n",
       "      <th>question_category_id</th>\n",
       "      <th>question_parent_id</th>\n",
       "      <th>explanation</th>\n",
       "      <th>stem</th>\n",
       "      <th>choiceA</th>\n",
       "      <th>choiceB</th>\n",
       "      <th>choiceC</th>\n",
       "      <th>choiceD</th>\n",
       "      <th>allow_text</th>\n",
       "      <th>order_num</th>\n",
       "      <th>is_deleted</th>\n",
       "      <th>org_level</th>\n",
       "      <th>direction</th>\n",
       "    </tr>\n",
       "  </thead>\n",
       "  <tbody>\n",
       "    <tr>\n",
       "      <th>0</th>\n",
       "      <td>1</td>\n",
       "      <td>2</td>\n",
       "      <td>7430</td>\n",
       "      <td>NaN</td>\n",
       "      <td>NaN</td>\n",
       "      <td>NaN</td>\n",
       "      <td>Answer the question.  Write a complete sentenc...</td>\n",
       "      <td>NaN</td>\n",
       "      <td>NaN</td>\n",
       "      <td>NaN</td>\n",
       "      <td>NaN</td>\n",
       "      <td>1</td>\n",
       "      <td>1</td>\n",
       "      <td>0</td>\n",
       "      <td>NaN</td>\n",
       "      <td>NaN</td>\n",
       "    </tr>\n",
       "    <tr>\n",
       "      <th>1</th>\n",
       "      <td>2</td>\n",
       "      <td>2</td>\n",
       "      <td>7430</td>\n",
       "      <td>NaN</td>\n",
       "      <td>NaN</td>\n",
       "      <td>NaN</td>\n",
       "      <td>Answer the question.  Write a complete sentenc...</td>\n",
       "      <td>NaN</td>\n",
       "      <td>NaN</td>\n",
       "      <td>NaN</td>\n",
       "      <td>NaN</td>\n",
       "      <td>1</td>\n",
       "      <td>2</td>\n",
       "      <td>0</td>\n",
       "      <td>NaN</td>\n",
       "      <td>NaN</td>\n",
       "    </tr>\n",
       "    <tr>\n",
       "      <th>2</th>\n",
       "      <td>3</td>\n",
       "      <td>2</td>\n",
       "      <td>7430</td>\n",
       "      <td>NaN</td>\n",
       "      <td>NaN</td>\n",
       "      <td>NaN</td>\n",
       "      <td>Answer the question.  Write a complete sentenc...</td>\n",
       "      <td>NaN</td>\n",
       "      <td>NaN</td>\n",
       "      <td>NaN</td>\n",
       "      <td>NaN</td>\n",
       "      <td>1</td>\n",
       "      <td>3</td>\n",
       "      <td>0</td>\n",
       "      <td>NaN</td>\n",
       "      <td>NaN</td>\n",
       "    </tr>\n",
       "    <tr>\n",
       "      <th>3</th>\n",
       "      <td>4</td>\n",
       "      <td>4</td>\n",
       "      <td>7495</td>\n",
       "      <td>NaN</td>\n",
       "      <td>NaN</td>\n",
       "      <td>NaN</td>\n",
       "      <td>Write an essay on ONE of the following topics....</td>\n",
       "      <td>NaN</td>\n",
       "      <td>NaN</td>\n",
       "      <td>NaN</td>\n",
       "      <td>NaN</td>\n",
       "      <td>1</td>\n",
       "      <td>1</td>\n",
       "      <td>0</td>\n",
       "      <td>NaN</td>\n",
       "      <td>NaN</td>\n",
       "    </tr>\n",
       "    <tr>\n",
       "      <th>4</th>\n",
       "      <td>5</td>\n",
       "      <td>1</td>\n",
       "      <td>7496</td>\n",
       "      <td>NaN</td>\n",
       "      <td>NaN</td>\n",
       "      <td>NaN</td>\n",
       "      <td>Write a paragraph  about a relatioship that is...</td>\n",
       "      <td>NaN</td>\n",
       "      <td>NaN</td>\n",
       "      <td>NaN</td>\n",
       "      <td>NaN</td>\n",
       "      <td>1</td>\n",
       "      <td>1</td>\n",
       "      <td>0</td>\n",
       "      <td>NaN</td>\n",
       "      <td>NaN</td>\n",
       "    </tr>\n",
       "  </tbody>\n",
       "</table>\n",
       "</div>"
      ],
      "text/plain": [
       "   question_id  question_type_id  user_file_id  question_category_id  \\\n",
       "0            1                 2          7430                   NaN   \n",
       "1            2                 2          7430                   NaN   \n",
       "2            3                 2          7430                   NaN   \n",
       "3            4                 4          7495                   NaN   \n",
       "4            5                 1          7496                   NaN   \n",
       "\n",
       "   question_parent_id explanation  \\\n",
       "0                 NaN         NaN   \n",
       "1                 NaN         NaN   \n",
       "2                 NaN         NaN   \n",
       "3                 NaN         NaN   \n",
       "4                 NaN         NaN   \n",
       "\n",
       "                                                stem choiceA choiceB choiceC  \\\n",
       "0  Answer the question.  Write a complete sentenc...     NaN     NaN     NaN   \n",
       "1  Answer the question.  Write a complete sentenc...     NaN     NaN     NaN   \n",
       "2  Answer the question.  Write a complete sentenc...     NaN     NaN     NaN   \n",
       "3  Write an essay on ONE of the following topics....     NaN     NaN     NaN   \n",
       "4  Write a paragraph  about a relatioship that is...     NaN     NaN     NaN   \n",
       "\n",
       "  choiceD  allow_text  order_num  is_deleted  org_level direction  \n",
       "0     NaN           1          1           0        NaN       NaN  \n",
       "1     NaN           1          2           0        NaN       NaN  \n",
       "2     NaN           1          3           0        NaN       NaN  \n",
       "3     NaN           1          1           0        NaN       NaN  \n",
       "4     NaN           1          1           0        NaN       NaN  "
      ]
     },
     "execution_count": 8,
     "metadata": {},
     "output_type": "execute_result"
    }
   ],
   "source": [
    "df_question = pd.read_csv(\"./data/question.csv\")\n",
    "print(df_question.shape)\n",
    "df_question.head()"
   ]
  },
  {
   "cell_type": "markdown",
   "metadata": {},
   "source": [
    "- Select question_id and stem(question) only."
   ]
  },
  {
   "cell_type": "code",
   "execution_count": 9,
   "metadata": {},
   "outputs": [
    {
     "data": {
      "text/html": [
       "<div>\n",
       "<style scoped>\n",
       "    .dataframe tbody tr th:only-of-type {\n",
       "        vertical-align: middle;\n",
       "    }\n",
       "\n",
       "    .dataframe tbody tr th {\n",
       "        vertical-align: top;\n",
       "    }\n",
       "\n",
       "    .dataframe thead th {\n",
       "        text-align: right;\n",
       "    }\n",
       "</style>\n",
       "<table border=\"1\" class=\"dataframe\">\n",
       "  <thead>\n",
       "    <tr style=\"text-align: right;\">\n",
       "      <th></th>\n",
       "      <th>question_id</th>\n",
       "      <th>question</th>\n",
       "    </tr>\n",
       "  </thead>\n",
       "  <tbody>\n",
       "    <tr>\n",
       "      <th>0</th>\n",
       "      <td>1</td>\n",
       "      <td>Answer the question.  Write a complete sentenc...</td>\n",
       "    </tr>\n",
       "    <tr>\n",
       "      <th>1</th>\n",
       "      <td>2</td>\n",
       "      <td>Answer the question.  Write a complete sentenc...</td>\n",
       "    </tr>\n",
       "    <tr>\n",
       "      <th>2</th>\n",
       "      <td>3</td>\n",
       "      <td>Answer the question.  Write a complete sentenc...</td>\n",
       "    </tr>\n",
       "    <tr>\n",
       "      <th>3</th>\n",
       "      <td>4</td>\n",
       "      <td>Write an essay on ONE of the following topics....</td>\n",
       "    </tr>\n",
       "    <tr>\n",
       "      <th>4</th>\n",
       "      <td>5</td>\n",
       "      <td>Write a paragraph  about a relatioship that is...</td>\n",
       "    </tr>\n",
       "  </tbody>\n",
       "</table>\n",
       "</div>"
      ],
      "text/plain": [
       "   question_id                                           question\n",
       "0            1  Answer the question.  Write a complete sentenc...\n",
       "1            2  Answer the question.  Write a complete sentenc...\n",
       "2            3  Answer the question.  Write a complete sentenc...\n",
       "3            4  Write an essay on ONE of the following topics....\n",
       "4            5  Write a paragraph  about a relatioship that is..."
      ]
     },
     "execution_count": 9,
     "metadata": {},
     "output_type": "execute_result"
    }
   ],
   "source": [
    "df_question_trim = df_question[['question_id', 'stem']]\n",
    "df_question_trim = df_question_trim.rename(columns={'stem':'question'})\n",
    "df_question_trim.head()"
   ]
  },
  {
   "cell_type": "code",
   "execution_count": 10,
   "metadata": {},
   "outputs": [
    {
     "name": "stdout",
     "output_type": "stream",
     "text": [
      "(46239, 6)\n"
     ]
    },
    {
     "data": {
      "text/html": [
       "<div>\n",
       "<style scoped>\n",
       "    .dataframe tbody tr th:only-of-type {\n",
       "        vertical-align: middle;\n",
       "    }\n",
       "\n",
       "    .dataframe tbody tr th {\n",
       "        vertical-align: top;\n",
       "    }\n",
       "\n",
       "    .dataframe thead th {\n",
       "        text-align: right;\n",
       "    }\n",
       "</style>\n",
       "<table border=\"1\" class=\"dataframe\">\n",
       "  <thead>\n",
       "    <tr style=\"text-align: right;\">\n",
       "      <th></th>\n",
       "      <th>student_id</th>\n",
       "      <th>question_id</th>\n",
       "      <th>text</th>\n",
       "      <th>gender</th>\n",
       "      <th>native_language</th>\n",
       "      <th>question</th>\n",
       "    </tr>\n",
       "  </thead>\n",
       "  <tbody>\n",
       "    <tr>\n",
       "      <th>0</th>\n",
       "      <td>eq0</td>\n",
       "      <td>5</td>\n",
       "      <td>I met my friend Nife while I was studying in a...</td>\n",
       "      <td>Male</td>\n",
       "      <td>Arabic</td>\n",
       "      <td>Write a paragraph  about a relatioship that is...</td>\n",
       "    </tr>\n",
       "    <tr>\n",
       "      <th>1</th>\n",
       "      <td>am8</td>\n",
       "      <td>5</td>\n",
       "      <td>Ten years ago, I met a women on the train betw...</td>\n",
       "      <td>Female</td>\n",
       "      <td>Thai</td>\n",
       "      <td>Write a paragraph  about a relatioship that is...</td>\n",
       "    </tr>\n",
       "    <tr>\n",
       "      <th>2</th>\n",
       "      <td>dk5</td>\n",
       "      <td>12</td>\n",
       "      <td>In my country we usually don't use tea bags. F...</td>\n",
       "      <td>Female</td>\n",
       "      <td>Turkish</td>\n",
       "      <td>In five sentences or less, give instructions o...</td>\n",
       "    </tr>\n",
       "    <tr>\n",
       "      <th>3</th>\n",
       "      <td>dk5</td>\n",
       "      <td>13</td>\n",
       "      <td>I organized the instructions by time.</td>\n",
       "      <td>Female</td>\n",
       "      <td>Turkish</td>\n",
       "      <td>How do you organize the instructions: by time,...</td>\n",
       "    </tr>\n",
       "    <tr>\n",
       "      <th>4</th>\n",
       "      <td>ad1</td>\n",
       "      <td>12</td>\n",
       "      <td>First, prepare a port, loose tea, and cup.\\nSe...</td>\n",
       "      <td>Female</td>\n",
       "      <td>Korean</td>\n",
       "      <td>In five sentences or less, give instructions o...</td>\n",
       "    </tr>\n",
       "  </tbody>\n",
       "</table>\n",
       "</div>"
      ],
      "text/plain": [
       "  student_id  question_id                                               text  \\\n",
       "0        eq0            5  I met my friend Nife while I was studying in a...   \n",
       "1        am8            5  Ten years ago, I met a women on the train betw...   \n",
       "2        dk5           12  In my country we usually don't use tea bags. F...   \n",
       "3        dk5           13              I organized the instructions by time.   \n",
       "4        ad1           12  First, prepare a port, loose tea, and cup.\\nSe...   \n",
       "\n",
       "   gender native_language                                           question  \n",
       "0    Male          Arabic  Write a paragraph  about a relatioship that is...  \n",
       "1  Female            Thai  Write a paragraph  about a relatioship that is...  \n",
       "2  Female         Turkish  In five sentences or less, give instructions o...  \n",
       "3  Female         Turkish  How do you organize the instructions: by time,...  \n",
       "4  Female          Korean  In five sentences or less, give instructions o...  "
      ]
     },
     "execution_count": 10,
     "metadata": {},
     "output_type": "execute_result"
    }
   ],
   "source": [
    "df_eli = pd.merge(df_eli, df_question_trim, on='question_id', how='left')\n",
    "print(df_eli.shape)\n",
    "df_eli.head()"
   ]
  },
  {
   "cell_type": "markdown",
   "metadata": {},
   "source": [
    "- Since it is private data, I just choose sample data - about 500 to represent.\n",
    "- Then store the data as a new csv file."
   ]
  },
  {
   "cell_type": "code",
   "execution_count": 13,
   "metadata": {},
   "outputs": [],
   "source": [
    "df_eli_short = df_eli.sample(n = 500, random_state = 1)"
   ]
  },
  {
   "cell_type": "code",
   "execution_count": 14,
   "metadata": {},
   "outputs": [
    {
     "name": "stdout",
     "output_type": "stream",
     "text": [
      "(500, 6)\n"
     ]
    },
    {
     "data": {
      "text/html": [
       "<div>\n",
       "<style scoped>\n",
       "    .dataframe tbody tr th:only-of-type {\n",
       "        vertical-align: middle;\n",
       "    }\n",
       "\n",
       "    .dataframe tbody tr th {\n",
       "        vertical-align: top;\n",
       "    }\n",
       "\n",
       "    .dataframe thead th {\n",
       "        text-align: right;\n",
       "    }\n",
       "</style>\n",
       "<table border=\"1\" class=\"dataframe\">\n",
       "  <thead>\n",
       "    <tr style=\"text-align: right;\">\n",
       "      <th></th>\n",
       "      <th>student_id</th>\n",
       "      <th>question_id</th>\n",
       "      <th>text</th>\n",
       "      <th>gender</th>\n",
       "      <th>native_language</th>\n",
       "      <th>question</th>\n",
       "    </tr>\n",
       "  </thead>\n",
       "  <tbody>\n",
       "    <tr>\n",
       "      <th>43439</th>\n",
       "      <td>gu2</td>\n",
       "      <td>5796</td>\n",
       "      <td>They see the online shopping do pollution but ...</td>\n",
       "      <td>NaN</td>\n",
       "      <td>NaN</td>\n",
       "      <td>Chapter 5: \"A Cleaner Way to Shop?\"  \\n\\nChoos...</td>\n",
       "    </tr>\n",
       "    <tr>\n",
       "      <th>753</th>\n",
       "      <td>cq4</td>\n",
       "      <td>37</td>\n",
       "      <td>1-Mismanagement\\nSentence: So if they were nom...</td>\n",
       "      <td>Female</td>\n",
       "      <td>Arabic</td>\n",
       "      <td>For each of the following words, write the sen...</td>\n",
       "    </tr>\n",
       "    <tr>\n",
       "      <th>45003</th>\n",
       "      <td>ay8</td>\n",
       "      <td>5990</td>\n",
       "      <td>I was working out in the gym.GHABBAN.wav.mp3</td>\n",
       "      <td>NaN</td>\n",
       "      <td>NaN</td>\n",
       "      <td>What were  you doing at 8:00 this morning?</td>\n",
       "    </tr>\n",
       "    <tr>\n",
       "      <th>16101</th>\n",
       "      <td>ff4</td>\n",
       "      <td>2358</td>\n",
       "      <td>it's getting out of control. Something you sta...</td>\n",
       "      <td>Male</td>\n",
       "      <td>French</td>\n",
       "      <td>What does the phrase \"it's getting out of hand...</td>\n",
       "    </tr>\n",
       "    <tr>\n",
       "      <th>23749</th>\n",
       "      <td>cp5</td>\n",
       "      <td>3229</td>\n",
       "      <td>This tree has a very rigid trunk, I can not cu...</td>\n",
       "      <td>Male</td>\n",
       "      <td>Arabic</td>\n",
       "      <td>Write an original creative sentence using a vo...</td>\n",
       "    </tr>\n",
       "  </tbody>\n",
       "</table>\n",
       "</div>"
      ],
      "text/plain": [
       "      student_id  question_id  \\\n",
       "43439        gu2         5796   \n",
       "753          cq4           37   \n",
       "45003        ay8         5990   \n",
       "16101        ff4         2358   \n",
       "23749        cp5         3229   \n",
       "\n",
       "                                                    text  gender  \\\n",
       "43439  They see the online shopping do pollution but ...     NaN   \n",
       "753    1-Mismanagement\\nSentence: So if they were nom...  Female   \n",
       "45003       I was working out in the gym.GHABBAN.wav.mp3     NaN   \n",
       "16101  it's getting out of control. Something you sta...    Male   \n",
       "23749  This tree has a very rigid trunk, I can not cu...    Male   \n",
       "\n",
       "      native_language                                           question  \n",
       "43439             NaN  Chapter 5: \"A Cleaner Way to Shop?\"  \\n\\nChoos...  \n",
       "753            Arabic  For each of the following words, write the sen...  \n",
       "45003             NaN         What were  you doing at 8:00 this morning?  \n",
       "16101          French  What does the phrase \"it's getting out of hand...  \n",
       "23749          Arabic  Write an original creative sentence using a vo...  "
      ]
     },
     "execution_count": 14,
     "metadata": {},
     "output_type": "execute_result"
    }
   ],
   "source": [
    "print(df_eli_short.shape)\n",
    "df_eli_short.head()"
   ]
  },
  {
   "cell_type": "markdown",
   "metadata": {},
   "source": [
    "- For the fair use, I have to eliminate personal information, so I just look through every text data. And mark the data with personal information."
   ]
  },
  {
   "cell_type": "code",
   "execution_count": 15,
   "metadata": {},
   "outputs": [
    {
     "name": "stdout",
     "output_type": "stream",
     "text": [
      "----------------------------\n",
      "0\n",
      "They see the online shopping do pollution but I am disagree with the author.\n",
      "I had heard that it is more energy efficient to do online shopping, even home delivery of groceries. Having products delivered to your home would have a smaller carbon footprint since. there is a single truck bringing goods to several people's homes as opposed to those individual people all getting in their cars and getting their items separately. I think similar to public transportation. When you have a communal way of transporting multiple things or people, it's better than each thing or person travelling separately.\n",
      "----------------------------\n",
      "1\n",
      "1-Mismanagement\n",
      "Sentence: So if they were nominated there would be no question of mismanagement of funds.\n",
      "Part of speech: Noun\n",
      "Definition: he is in charge financial. \n",
      "2-Demonstration\n",
      "Sentence: In fact, they claim that Victor was helping to organize a demonstration against the employment policies of Crowly Engineering. \n",
      "Part of speech: Noun\n",
      "Definition: An action, fact, etc .that proves that someone or something has particular quality, ability, emotion, etc.\n",
      "3-Orgainaize\n",
      "Sentence: E.X. 2\n",
      "Part of speech: Verb\n",
      "Definition: To form UNION or persuade people to join one.\n",
      "4-Disagreement\n",
      "Sentence: Mr. Crowly and his son, Victor had some very public disagreements on the construction of government housing for the poor.\n",
      "Part of speech: Noun\n",
      "Definition: A situation in which people express different opinions about something .\n",
      "5-Religious\n",
      "Sentence: Interviews with their friends show that they did not want their children to attend religious school.\n",
      "6-Construction\n",
      "Sentence: E.X. 4\n",
      "Part of speech: Noun\n",
      "Definition: The process or method of building something large such as a house, road.\n",
      "----------------------------\n",
      "2\n",
      "I was working out in the gym.GHABBAN.wav.mp3\n",
      "----------------------------\n",
      "3\n",
      "it's getting out of control. Something you start and then don't master it.\n",
      "----------------------------\n",
      "4\n",
      "This tree has a very rigid trunk, I can not cut by saw.\n"
     ]
    }
   ],
   "source": [
    "# print all data with index count, mark the data with personal information\n",
    "# just print first 5 to represent\n",
    "# mark index 58,129,231,256,377,432\n",
    "count = 0\n",
    "for x in df_eli_short.text[:5]:\n",
    "    print('----------------------------')\n",
    "    print(count)\n",
    "    print(x)\n",
    "    count = count + 1"
   ]
  },
  {
   "cell_type": "markdown",
   "metadata": {},
   "source": [
    "- Drop personal information"
   ]
  },
  {
   "cell_type": "code",
   "execution_count": null,
   "metadata": {},
   "outputs": [],
   "source": [
    "#df_eli_short = df_eli_short.drop(df_eli_short.index[[58,129,231,256,377,432]])"
   ]
  },
  {
   "cell_type": "markdown",
   "metadata": {},
   "source": [
    "- It looks like the dataframe is good"
   ]
  },
  {
   "cell_type": "code",
   "execution_count": null,
   "metadata": {},
   "outputs": [],
   "source": [
    "print(df_eli_short.shape)\n",
    "df_eli_short.head()"
   ]
  },
  {
   "cell_type": "markdown",
   "metadata": {},
   "source": [
    "- save the file as sample data"
   ]
  },
  {
   "cell_type": "code",
   "execution_count": null,
   "metadata": {},
   "outputs": [],
   "source": [
    "#df_eli_short.to_csv(\"./data/df_eli_short.csv\")"
   ]
  },
  {
   "cell_type": "markdown",
   "metadata": {},
   "source": [
    "## Linguistic Analysis\n",
    "### 1. Text length as token count\n",
    "- Let's count text length\n",
    "- In this part, nltk.word_tokenize return error caused by the wrong input first. That is because some text is stored in \"float\" type, and word_tokenize only accepts \"string\" format. I have to set every text into \"string\" format first, then utilize word_tokenize()."
   ]
  },
  {
   "cell_type": "code",
   "execution_count": null,
   "metadata": {},
   "outputs": [],
   "source": [
    "def getTokens2(txt):\n",
    "    txt = str(txt)\n",
    "    x = nltk.word_tokenize(txt)\n",
    "    return x"
   ]
  },
  {
   "cell_type": "code",
   "execution_count": null,
   "metadata": {},
   "outputs": [],
   "source": [
    "df_eli_short['tokens'] = df_eli_short.text.map(getTokens2)"
   ]
  },
  {
   "cell_type": "code",
   "execution_count": null,
   "metadata": {},
   "outputs": [],
   "source": [
    "df_eli_short.head()"
   ]
  },
  {
   "cell_type": "code",
   "execution_count": null,
   "metadata": {},
   "outputs": [],
   "source": [
    "df_eli_short['token_count'] = df_eli_short.tokens.map(len)\n",
    "df_eli_short.head()"
   ]
  },
  {
   "cell_type": "markdown",
   "metadata": {},
   "source": [
    "- There are a lot of short text that less than 100 words. If we took a look at the questions, we can understand that students may be asked to answer just in one word.\n",
    "- For example, question_id '1841' - 'In paragraphs 1-3, find a word or phrase that means \"start again, begin after a pause.\"'"
   ]
  },
  {
   "cell_type": "code",
   "execution_count": null,
   "metadata": {},
   "outputs": [],
   "source": [
    "df_eli_short.iloc[0,5]"
   ]
  },
  {
   "cell_type": "markdown",
   "metadata": {},
   "source": [
    "- Student just answer 'Resume'. That is really reasonable.\n",
    "- However, this situation may cause that the whole dataframe contains short text and long text. "
   ]
  },
  {
   "cell_type": "code",
   "execution_count": null,
   "metadata": {},
   "outputs": [],
   "source": [
    "df_eli_short.iloc[0,2]"
   ]
  },
  {
   "cell_type": "markdown",
   "metadata": {},
   "source": [
    "- If we counted the value by number of tokens, we can find that data has a lot of short texts."
   ]
  },
  {
   "cell_type": "code",
   "execution_count": null,
   "metadata": {},
   "outputs": [],
   "source": [
    "df_eli_short.token_count.value_counts().head(10)"
   ]
  },
  {
   "cell_type": "code",
   "execution_count": null,
   "metadata": {},
   "outputs": [],
   "source": [
    "df_tokens = df_eli_short.token_count.value_counts(bins=20).head(17)\n",
    "df_tokens.name = ''\n",
    "df_tokens"
   ]
  },
  {
   "cell_type": "code",
   "execution_count": null,
   "metadata": {},
   "outputs": [],
   "source": [
    "df_tokens.plot.pie(shadow=True, startangle=90, figsize=(5, 5))\n",
    "plt.title('Figure 1: Token counts', fontsize=16)\n",
    "plt.show()"
   ]
  },
  {
   "cell_type": "markdown",
   "metadata": {},
   "source": [
    "- How about choosing top five categories? "
   ]
  },
  {
   "cell_type": "code",
   "execution_count": null,
   "metadata": {},
   "outputs": [],
   "source": [
    "df_tokens_5 = df_eli_short.token_count.value_counts(bins=20).head(5)\n",
    "df_tokens_5.name = ''\n",
    "df_tokens_5"
   ]
  },
  {
   "cell_type": "code",
   "execution_count": null,
   "metadata": {},
   "outputs": [],
   "source": [
    "df_tokens_5.plot.pie(shadow=True, startangle=50, figsize=(5, 5))\n",
    "plt.title('Figure 2: Token counts (top five categories)', fontsize=16)\n",
    "plt.show()"
   ]
  },
  {
   "cell_type": "markdown",
   "metadata": {},
   "source": [
    "### Summary\n",
    "\n",
    "- Now, we know that the length of texts are not distributed well. Most of them are under 75 tokens."
   ]
  },
  {
   "cell_type": "markdown",
   "metadata": {},
   "source": [
    "### 2. Value count by native language\n",
    "- Maybe we can do some simple analysis, such as native language, to help us look through the data."
   ]
  },
  {
   "cell_type": "code",
   "execution_count": null,
   "metadata": {},
   "outputs": [],
   "source": [
    "df_native = df_eli_short.native_language.value_counts()\n",
    "df_native"
   ]
  },
  {
   "cell_type": "code",
   "execution_count": null,
   "metadata": {},
   "outputs": [],
   "source": [
    "df_native.plot(kind='bar', figsize=(12,5))   # Not saving output as a plot object\n",
    "plt.title('Figure 3: number of text by L1', fontsize=16)          # Must use plt.title(), plt.xlabel() etc. \n",
    "plt.xlabel('L1 (native language of students)', fontsize=12)\n",
    "plt.ylabel('Number of text', fontsize=12)\n",
    "plt.show()"
   ]
  },
  {
   "cell_type": "markdown",
   "metadata": {},
   "source": [
    "- The output above is counted by text. We may want to look at the number of total students and the number of essay they write.\n",
    "- Let's go through the data."
   ]
  },
  {
   "cell_type": "code",
   "execution_count": null,
   "metadata": {},
   "outputs": [],
   "source": [
    "df_eli_short.student_id.value_counts().head(10)"
   ]
  },
  {
   "cell_type": "code",
   "execution_count": null,
   "metadata": {},
   "outputs": [],
   "source": [
    "df_eli_short.student_id.value_counts().describe()"
   ]
  },
  {
   "cell_type": "code",
   "execution_count": null,
   "metadata": {},
   "outputs": [],
   "source": [
    "df_eli_short.student_id.describe()"
   ]
  },
  {
   "cell_type": "markdown",
   "metadata": {},
   "source": [
    "### Summary\n",
    "\n",
    "- We can understand that there are 494 texts in the dataframe.\n",
    "- These texts are written by 342 students.\n",
    "- The max number of essays students wrote is 4.\n",
    "- Students write 1.44 essay in average."
   ]
  }
 ],
 "metadata": {
  "kernelspec": {
   "display_name": "Python 3",
   "language": "python",
   "name": "python3"
  },
  "language_info": {
   "codemirror_mode": {
    "name": "ipython",
    "version": 3
   },
   "file_extension": ".py",
   "mimetype": "text/x-python",
   "name": "python",
   "nbconvert_exporter": "python",
   "pygments_lexer": "ipython3",
   "version": "3.6.8"
  }
 },
 "nbformat": 4,
 "nbformat_minor": 2
}
